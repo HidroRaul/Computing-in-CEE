{
 "cells": [
  {
   "cell_type": "markdown",
   "metadata": {},
   "source": [
    "# Backwater curve calculation \n",
    "\n",
    "by Xiaofeng Liu, Ph.D., P.E.\n",
    "Associate Professor\n",
    "\n",
    "Department of Civil and Environmental Engineering\n",
    "\n",
    "Institute of CyberScience\n",
    "\n",
    "Penn State University \n",
    "\n",
    "223B Sackett Building, University Park, PA 16802\n",
    "\n",
    "Web: http://water.engr.psu.edu/liu/\n",
    "\n",
    "---"
   ]
  },
  {
   "cell_type": "markdown",
   "metadata": {},
   "source": [
    "This is a Python computer program to solve the backwater curve equation numerically. To simplify the problem, we only consider M1 and M2 curves on mild slopes. \n",
    "\n",
    "The backwater curve equation is as the following:\n",
    "\\begin{equation}\n",
    "  \\frac{dH}{dx}=\\frac{S-S_f}{1-Fr^2}=F(H) \n",
    "\\end{equation}\n",
    "\n",
    "\\begin{equation}\n",
    "  F(H)=\\frac{S-C_f \\frac{q_w^2}{gH^3}}{1-\\frac{q_w^2}{gH^3}} \n",
    "\\end{equation}  \n",
    "\n",
    "\\begin{equation}\n",
    "  H(x_0)=H_0 \n",
    "\\end{equation}\n",
    "where $H(x)$ is the water depth, $x$ is the streamwise coordinate, $S$ is the bottom slope, $S_f$ is the friction slope, $Fr$ is the Froude number, $q_w$ is the specific discharge, and $C_f$ is the friction coefficient. One way to quantify it is to use Chezy coefficient $C_z$:\n",
    "\\begin{equation}\n",
    "  C_f= \\frac{1}{C_z^2}\n",
    "\\end{equation}\n",
    "\n",
    "<img src=\"backwater_grid.png\" alt=\"hierarchy\" width=\"400\"/>\n",
    "\n",
    "<h3 align=\"center\">Figure 1. Grid for backwater curve calculation.</h3> \n",
    "\n",
    "The following concetps in Python are used:\n",
    "* function\n",
    "* Numpy array\n",
    "* plotting and graphic visulization\n",
    "\n"
   ]
  },
  {
   "cell_type": "code",
   "execution_count": 10,
   "metadata": {},
   "outputs": [],
   "source": [
    "import matplotlib.pyplot as plt\n",
    "import numpy as np\n",
    "from scipy import integrate\n",
    "\n",
    "plt.rc('text', usetex=True)  #allow the use of Latex for math expressions and equations\n",
    "plt.rc('font', family='serif') #specify the default font family to be \"serif\"\n"
   ]
  },
  {
   "cell_type": "markdown",
   "metadata": {},
   "source": [
    "### Required input (SI unit)"
   ]
  },
  {
   "cell_type": "code",
   "execution_count": 4,
   "metadata": {},
   "outputs": [],
   "source": [
    "#bottom slope\n",
    "S = 0.0003\n",
    "\n",
    "#Chezy friction coefficient\n",
    "Cz = 22.0\n",
    "\n",
    "Cf = 1/Cz**2\n",
    "\n",
    "#specific discharge (discharge per unit width)\n",
    "qw=5.7 \n",
    "\n",
    "#Initial condition\n",
    "x0 = 0    #starting x\n",
    "H0 = 20   #starting water depth\n",
    "\n",
    "#River length in m\n",
    "L = 100000.0\n",
    "\n",
    "#number of grids \n",
    "N = 1000\n",
    "\n"
   ]
  },
  {
   "cell_type": "markdown",
   "metadata": {},
   "source": [
    "### Calculate parameters at normal flow"
   ]
  },
  {
   "cell_type": "code",
   "execution_count": 5,
   "metadata": {},
   "outputs": [
    {
     "name": "stdout",
     "output_type": "stream",
     "text": [
      "2.8359900047110065 2.009880144334586 0.3810511776651531 8.346318583864495 0.002066115702479339\n"
     ]
    }
   ],
   "source": [
    "#normal flow depth\n",
    "Hn = (1.0/Cz**2.0*qw**2.0/9.81/S)**(1.0/3.0)\n",
    "\n",
    "#velocity at normal flow condition\n",
    "Un = qw/Hn\n",
    "\n",
    "#Fr number at normal flow condition\n",
    "Frn = Un/np.sqrt(9.81*Hn)\n",
    "\n",
    "#bottom shear stress at normal flow condition\n",
    "taub_n = 1000.0/Cz**2.0*Un**2\n",
    "\n",
    "print(Hn, Un, Frn, taub_n, Cf)"
   ]
  },
  {
   "cell_type": "markdown",
   "metadata": {},
   "source": [
    "### Calculate parameters at critical flow"
   ]
  },
  {
   "cell_type": "code",
   "execution_count": 6,
   "metadata": {},
   "outputs": [
    {
     "name": "stdout",
     "output_type": "stream",
     "text": [
      "1.4905969719522099 3.8239712727544357\n"
     ]
    }
   ],
   "source": [
    "#critical flow depth\n",
    "Hc = (qw**2/9.81)**(1.0/3.0)\n",
    "\n",
    "#critical flow velocity\n",
    "Uc = qw/Hc\n",
    "\n",
    "print(Hc, Uc)"
   ]
  },
  {
   "cell_type": "markdown",
   "metadata": {},
   "source": [
    "### Define F(H) function"
   ]
  },
  {
   "cell_type": "code",
   "execution_count": 7,
   "metadata": {},
   "outputs": [],
   "source": [
    "def F_H(H,x): # F(H) function\n",
    "    return -(S-Cf*qw**2/9.81/H**3)/(1-qw**2/9.81/H**3)"
   ]
  },
  {
   "cell_type": "markdown",
   "metadata": {},
   "source": [
    "### Integrate the backwater curve"
   ]
  },
  {
   "cell_type": "code",
   "execution_count": 13,
   "metadata": {},
   "outputs": [
    {
     "data": {
      "image/png": "[encoded data removed]",
      "text/plain": [
       "<Figure size 432x288 with 1 Axes>"
      ]
     },
     "metadata": {
      "needs_background": "light"
     },
     "output_type": "display_data"
    }
   ],
   "source": [
    "x = np.linspace(x0,L,N)\n",
    "H = integrate.odeint(F_H,H0,x)\n",
    "H = H[:, 0]  # convert the returned 2D array to a 1D array\n",
    "\n",
    "negX = -x  #streamwise direction\n",
    "\n",
    "Zbottom = x*S\n",
    "\n",
    "WS=H+x*S\n",
    "\n",
    "plt.figure(figsize=(6,4))\n",
    "\n",
    "plt.plot(negX,Zbottom,'k',linewidth=3,label='bottom')\n",
    "plt.plot(negX,WS,'Aqua',linewidth=3,label='water surface')\n",
    "\n",
    "plt.xlabel('x (m)',fontsize=16)\n",
    "plt.ylabel('elevation (m)',fontsize=16)\n",
    "\n",
    "#set the limit for the x and y axes\n",
    "#plt.xlim([0,1.0])\n",
    "#plt.ylim([5,45])\n",
    "\n",
    "#set x and y axes label and font size\n",
    "plt.xlabel('x',fontsize=16)\n",
    "plt.ylabel('y',fontsize=16)\n",
    "\n",
    "#show the ticks on both axes and set the font size \n",
    "plt.tick_params(axis='both', which='major', labelsize=14)\n",
    "\n",
    "#show title and set font size\n",
    "plt.title('Backwater curve',fontsize=16)\n",
    "\n",
    "#show legend, set its location, font size, and turn off the frame\n",
    "plt.legend(loc='upper right',fontsize=14,frameon=False)\n",
    "plt.savefig(\"backwater_result.png\",dpi=300, bbox_inches='tight', pad_inches=0)\n",
    "plt.show()"
   ]
  },
  {
   "cell_type": "code",
   "execution_count": null,
   "metadata": {},
   "outputs": [],
   "source": []
  }
 ],
 "metadata": {
  "kernelspec": {
   "display_name": "Python 3",
   "language": "python",
   "name": "python3"
  },
  "language_info": {
   "codemirror_mode": {
    "name": "ipython",
    "version": 3
   },
   "file_extension": ".py",
   "mimetype": "text/x-python",
   "name": "python",
   "nbconvert_exporter": "python",
   "pygments_lexer": "ipython3",
   "version": "3.7.3"
  }
 },
 "nbformat": 4,
 "nbformat_minor": 1
}
