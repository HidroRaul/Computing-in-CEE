{
 "cells": [
  {
   "cell_type": "code",
   "execution_count": 1,
   "metadata": {},
   "outputs": [
    {
     "name": "stdout",
     "output_type": "stream",
     "text": [
      "Start to load preamble.\n",
      "Finished loading preamble.\n"
     ]
    }
   ],
   "source": [
    "#Do not change this cell and the next one. They are for setting things up.\n",
    "\n",
    "#make plots inline (instead of as a pop up window)\n",
    "%matplotlib inline\n",
    "\n",
    "#import the preamble in the parent directory\n",
    "import sys\n",
    "sys.path.append(\"../../\")\n",
    "from preamble import *\n",
    "\n",
    "from IPython.display import display, HTML"
   ]
  },
  {
   "cell_type": "code",
   "execution_count": 2,
   "metadata": {},
   "outputs": [
    {
     "data": {
      "application/javascript": [
       "MathJax.Hub.Config({\n",
       "    TeX: { equationNumbers: { autoNumber: \"AMS\" } }\n",
       "});"
      ],
      "text/plain": [
       "<IPython.core.display.Javascript object>"
      ]
     },
     "metadata": {},
     "output_type": "display_data"
    }
   ],
   "source": [
    "%%javascript\n",
    "MathJax.Hub.Config({\n",
    "    TeX: { equationNumbers: { autoNumber: \"AMS\" } }\n",
    "});"
   ]
  },
  {
   "cell_type": "markdown",
   "metadata": {
    "slideshow": {
     "slide_type": "slide"
    }
   },
   "source": [
    "# Installation of Python and libraries\n",
    "\n",
    "by Xiaofeng Liu, Ph.D., P.E.\n",
    "Assistant Professor\n",
    "\n",
    "Department of Civil and Environmental Engineering, \n",
    "Institute of CyberScience,\n",
    "Penn State University ,\n",
    "223B Sackett Building, University Park, PA 16802\n",
    "\n",
    "Web: http://water.engr.psu.edu/liu/\n"
   ]
  },
  {
   "cell_type": "markdown",
   "metadata": {
    "slideshow": {
     "slide_type": "subslide"
    }
   },
   "source": [
    "This notebook is a short introduction to how to install Python on your own computers or those on which you have admin rights.  \n",
    "\n",
    "There are several ways to get Python. The easiest way is probably to use the [Anaconda Python Distribution](https://www.anaconda.com/distribution/). Anaconda Distribution is a popular Python platform on Windows, Linux, and Mac OS. It is open source and free. It provides a Python interpreter. In addition, it comes with thousands of Python packages which can be easily mananged through Anaconda's interface, which means the inter-dependencies and environments setup are automatically taken care of. The GUI of Anaconda Distribution is the Anaconda Navigator which can be used to install and launch applications and editors such as Jupyter and Spyder. \n",
    "\n",
    "<img src=\"Anaconda_Navigator_interface.png\" width=600 height=600>\n",
    "<h3 align=\"center\">Figure 1. The interface of Anaconda Navigator.</h3> \n",
    "\n",
    "A list of good books and tutorials to learn on your own:\n",
    "* Python Essential Reference, David Beazley, Addison-Wesley Professional (on [Amazon](https://www.amazon.com/Python-Essential-Reference-Essentia-Developers-ebook/dp/B002EF2AQ6))\n",
    "* Python in a Nutshell, Alex Martelli, O'Reilly Media (on [Amazon](https://www.amazon.com/Python-Nutshell-Second-Alex-Martelli/dp/0596100469))\n",
    "* Google's Python Class for beginners [Goolge class](https://developers.google.com/edu/python/)\n",
    "\n",
    "More resources can be found online:\n",
    "* [python.org](https://wiki.python.org/moin/ReferenceBooks)\n",
    "* [https://python-forum.io](https://python-forum.io/Thread-A-List-of-Free-Python-Resources)\n",
    "\n",
    "Note: This introduction notebook uses Python v3.x. "
   ]
  },
  {
   "cell_type": "markdown",
   "metadata": {
    "slideshow": {
     "slide_type": "subslide"
    }
   },
   "source": [
    "## Installation of Anaconda Distribution\n",
    "\n",
    "The installation of Anaconda Distribution is relatively easy. \n",
    "* Go to the download page at [Anaconda downland](https://www.anaconda.com/download/), and select the package for your platform (Windows, Linux, or Mac OS). \n",
    "* Download the Python 3.x 64-bit version since this course will use v3.x, instead of v2.x. To see the difference between the two versions, please see this [notebook](../differences_between_python_v2_and_v3/differences_between_python_v2_and_v3.ipynb).\n",
    "* Launch the downloaded graphical installer and follow the steps on screen. Anaconda provides a short description of the installation steps. For example, on Windows, the description is located [here](http://docs.anaconda.com/anaconda/install/windows/). For other OS platforms, you can easily find the corresponding webpage.\n",
    "\n",
    "For first-time installation, probably it is a good idea to accept the default settings unless you have a reason otherwise. After the installation, you can inspect what are installed exactly. For example, the following figure in Windows Start Menu shows it installed, among other things, Anaconda Navigator, Anaconda Prompt, IPython, Jupyter Notebook, and Spyer.\n",
    "\n",
    "<img src=\"Anaconda_windows_menu.png\" width=300 height=300>\n",
    "<h3 align=\"center\">Figure 2. Anaconda installation in Windows Start Menu.</h3> \n",
    "\n",
    "The easiest way to get started is probably to use the Anaconda Navigator and from its GUI you can select to start different applications, such as Jupyter Notebook or Spyder (see Figure 1). \n"
   ]
  },
  {
   "cell_type": "markdown",
   "metadata": {},
   "source": [
    "## Install/update Python libraries\n",
    "\n",
    "By default, not all Python libraries are installed. In addition, with time, libraries get update. There are again at least two ways to install/update libraries. One is to use the GUI of Anaconda Navigator and the other is through console command line. \n",
    "\n",
    "* Through Anaconda Navigator (see Figure 3):\n",
    "   * Click and select the item <kbd>Environments</kbd>\n",
    "   * Change the selection filter to <kbd>All</kbd>\n",
    "   * Type in the <kbd>Search Packages</kbd> box the name of the package\n",
    "   * Then either install or update\n",
    "\n",
    ">Note: in the backend, the GUI uses the [conda](https://conda.io/docs/) package manangement system to coordinate the installation, update, and ensure the consistency of library versions and dependency.\n",
    "   \n",
    "   \n",
    "<img src=\"Anaconda_Navigator_environments.png\" width=400 height=400>\n",
    "<h3 align=\"center\">Figure 3. Anaconda Navigator to set up environments and packages.</h3> \n",
    "\n",
    "* Through terminal console with **conda**, which can be executed using command line:\n",
    "  * Open a terminal console: For example, on Windows, launch a command window.\n",
    "  * Issue the **conda** commands to perform the desired tasks. For examples, useful commands include **search**, **install**, **update**, and **list**. The reader is encouraged to refer to the [conda documentation](https://conda.io/docs/index.html).\n",
    "  \n",
    ">#To search a package named scipy    \n",
    ">>$ conda search scipy   \n",
    "\n",
    ">#To install a package named scipy\n",
    ">>$ conda install scipy\n",
    "\n",
    ">#To update a package named scipy\n",
    ">>$ conda update scipy\n",
    "  \n",
    ">#To list all insalled packages\n",
    ">>$ conda list\n",
    "\n",
    "See the [first section](#Installation-of-Python-and-libraries)"
   ]
  },
  {
   "cell_type": "markdown",
   "metadata": {},
   "source": [
    "## Testing of the default installation\n",
    "\n",
    "To make sure the installation is correct, we can do some simpling testing. The following code is used as a reference:\n",
    "[test_python_installation](http://www.southampton.ac.uk/~fangohr/blog/code/python/soton-test-python-installation.py).\n",
    "\n",
    "Now since you have python installed (correctly hopefully), there are different ways that you can run the installation test:\n",
    "* Through the Python IDE Spyder: \n",
    "  * In Anaconda Navigator, click and launch Spyder. \n",
    "  * In Spyder, open the test Python script through menu <kbd>File</kbd>-><kbd>open</kbd>.\n",
    "  * Run the script through menu <kbd>Run</kbd>-><kbd>Run</kbd>.\n",
    "* Through a console terminal\n",
    "  * Open a terminal (console): For example, on Windows, type <kbd>cmd</kbd> in the search box.\n",
    "  * Go to the directory where the test script is using the command <kbd>cd</kbd>.\n",
    "  * Execute the scripty through\n",
    "  ```\n",
    "  python installation_test.py\n",
    "  ```\n",
    "  \n",
    "Regardless how your run your installation test, check the output and make sure there is no errror.  "
   ]
  },
  {
   "cell_type": "markdown",
   "metadata": {
    "collapsed": true
   },
   "source": [
    "## Setup and launch Jupyer Notebook"
   ]
  },
  {
   "cell_type": "markdown",
   "metadata": {},
   "source": [
    "Jupyter runs on a web browser. To launch, simply click the **Launch** under **Jupyter Notebook** in Anaconda Navigator shown in Figure 1. \n",
    "\n",
    "<img src=\"Jupyter_Launch.png\" width=300 height=300>\n",
    "<h3 align=\"center\">Figure 4. Jupyter Notebook Launch button.</h3> \n",
    "\n",
    "It will bring up your default web browser. On my computer, it shows the following which is a Dashboard where you see and manange all your notebooks:\n",
    "\n",
    "<img src=\"Jupyter_browser_screen.png\" width=500 height=500>\n",
    "<h3 align=\"center\">Figure 5. Jupyter Notebook in web browser.</h3> \n",
    "\n",
    "You may notice that the address bar in your web browser may show an address like **http://localhost:8888**. This means everything you do now is through your local computer. Jupyter Notebook is a web app and when you launch it, you basically start a local Python server which serves the Jupyter Notebook app in your web browser. Since it is a web app, Jupyter Notebook service also be started on a remote server and users can simply connect to the server with a web browser. \n",
    "\n",
    "In the Dashboard, you can navigate to the directory (folder) you want to work on. Then, you can either click and open an existing notebook (notice the files with the extenion **.ipynb**), or create a new one. To create a new notebook, click <kbd>New</kbd>-><kbd>Python 3</kbd>:\n",
    "\n",
    "<img src=\"create_new_notebook.png\" width=200 height=200>\n",
    "<h3 align=\"center\">Figure 6. Creation of a new Python 3 notebook.</h3> \n",
    "\n",
    "A new tab will show in your web browser which is the starting point for you to create a new notebook:\n",
    "<img src=\"new_notebook.png\" width=800 height=800>\n",
    "<h3 align=\"center\">Figure 7. The starting of a new notebook in web browser.</h3> \n",
    "\n",
    "THe following is short video demonstration on how to open an existing notebook or create a new one."
   ]
  },
  {
   "cell_type": "code",
   "execution_count": 3,
   "metadata": {},
   "outputs": [
    {
     "data": {
      "text/html": [
       "\n",
       "<div style=\"position:relative;padding-top:56.25%;\">\n",
       "  <iframe src=\"https://www.youtube.com/embed/jvrJRwaLSFw\" frameborder=\"0\" allowfullscreen\n",
       "    style=\"position:absolute;top:0;left:0;width:100%;height:100%;\"></iframe>\n",
       "</div>\n"
      ],
      "text/plain": [
       "<IPython.core.display.HTML object>"
      ]
     },
     "execution_count": 3,
     "metadata": {},
     "output_type": "execute_result"
    }
   ],
   "source": [
    "HTML(\"\"\"\n",
    "<div style=\"position:relative;padding-top:56.25%;\">\n",
    "  <iframe src=\"https://www.youtube.com/embed/jvrJRwaLSFw\" frameborder=\"0\" allowfullscreen\n",
    "    style=\"position:absolute;top:0;left:0;width:100%;height:100%;\"></iframe>\n",
    "</div>\n",
    "\"\"\")"
   ]
  },
  {
   "cell_type": "markdown",
   "metadata": {},
   "source": [
    "To learn the details about Jupyter Notebook, you can simply search on the Internet with the keywords **Jupyter Notebook tutorials**. You will find many many good tutorial webpages, lecture notes, and even Youtube videos. For example,\n",
    "\n",
    "* [Jupyter Notebook Documentation](https://jupyter-notebook.readthedocs.io/en/stable/)\n",
    "* [Data Camp](https://www.datacamp.com/community/tutorials/tutorial-jupyter-notebook)"
   ]
  },
  {
   "cell_type": "markdown",
   "metadata": {},
   "source": [
    "### What is in a Jupyter Notebook?"
   ]
  },
  {
   "cell_type": "markdown",
   "metadata": {},
   "source": [
    "A Jupypter notebook (e.g., **test.ipynb**) is simply a text file which has all the contents of the notebook. The text file is in a format called [JSON (JavaScript Object Notation)](https://www.json.org). According to its website, it is\n",
    ">a lightweight data-interchange format. It is easy for humans to read and write. It is easy for machines to parse and generate.\n",
    "\n",
    "In case you are curious what it really looks like, you can open create and then open one notebook with a text editor of your choise. An example is shown below:\n",
    "\n",
    "<img src=\"ipynb_text.png\" width=400 height=400>\n",
    "<h3 align=\"center\">Figure 8. Content of a simple notebook.</h3> \n",
    "\n",
    "Most of time, you don't need to concern about what exactly is going on in the ipynb text file because Jupyter provides a graphical interface for you to edit its content. \n"
   ]
  },
  {
   "cell_type": "markdown",
   "metadata": {
    "collapsed": true
   },
   "source": [
    "### Some tips on the use of Jupyter Notebook\n",
    "\n",
    "These tips may increase your speed and comfort in using Jupyter Notebook.\n",
    "\n",
    "* Execute a cell by pressing <kbd>Shift</kbd>+<kbd>Enter</kbd>. It will execute the current cell and create a new cell below it (add animation). Don't forgot the run the whole notebook if necessary. \n",
    "* Code auto-completion with <kbd>Tab</kbd> keep.\n",
    "* Exam a module with question mark \"?\".\n",
    "* Organize your notebook into parts. Don't put all your code into one single cell. This is one fundamental difference between Jupyter Notebook and Python Integrated Development Environments (IDEs). To make your code more easily to be understood by others and older you in the future. One downside is that sometime you may just run the current cell and forget to run other parts which are relevant for the current one. "
   ]
  },
  {
   "cell_type": "code",
   "execution_count": 2,
   "metadata": {
    "collapsed": true
   },
   "outputs": [],
   "source": [
    "import numpy"
   ]
  },
  {
   "cell_type": "code",
   "execution_count": 3,
   "metadata": {
    "collapsed": true
   },
   "outputs": [],
   "source": [
    "numpy?"
   ]
  },
  {
   "cell_type": "code",
   "execution_count": null,
   "metadata": {
    "collapsed": true
   },
   "outputs": [],
   "source": []
  }
 ],
 "metadata": {
  "kernelspec": {
   "display_name": "Python 3",
   "language": "python",
   "name": "python3"
  },
  "language_info": {
   "codemirror_mode": {
    "name": "ipython",
    "version": 3
   },
   "file_extension": ".py",
   "mimetype": "text/x-python",
   "name": "python",
   "nbconvert_exporter": "python",
   "pygments_lexer": "ipython3",
   "version": "3.6.3"
  }
 },
 "nbformat": 4,
 "nbformat_minor": 1
}
