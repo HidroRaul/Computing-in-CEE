{
 "cells": [
  {
   "cell_type": "markdown",
   "metadata": {
    "slideshow": {
     "slide_type": "slide"
    }
   },
   "source": [
    "# Python libraries for linear equation systems\n",
    "\n",
    "by Xiaofeng Liu, Ph.D., P.E.\n",
    "Associate Professor\n",
    "\n",
    "Department of Civil and Environmental Engineering\n",
    "\n",
    "Institute of CyberScience\n",
    "\n",
    "Penn State University \n",
    "\n",
    "223B Sackett Building, University Park, PA 16802\n",
    "\n",
    "Web: http://water.engr.psu.edu/liu/\n",
    "\n",
    "---"
   ]
  },
  {
   "cell_type": "markdown",
   "metadata": {
    "slideshow": {
     "slide_type": "subslide"
    }
   },
   "source": [
    "This notebook is an introduction of Python libraries and functionalities for solving linear equation systems. The major functionalites are implemented in Numpy's linear algebra module [linalg](https://docs.scipy.org/doc/numpy/reference/routines.linalg.html).\n",
    "\n",
    "The following example shows how to define a simple linear equation system and solve it via calling the solving function in Numpy's \"linalg\" module. An example linear equation system is as follows:\n",
    "\n",
    "\\begin{equation}\n",
    "\\mathbf{A} \\mathbf{x} = \\mathbf{b}\n",
    "\\end{equation}\n",
    "\n",
    "\\begin{equation}\n",
    "\\begin{bmatrix}\n",
    "1  & 3  & 2 \\\\\n",
    "5  & 8  & 7 \\\\\n",
    "0  & -2 & 10 \n",
    "\\end{bmatrix}\n",
    "\\begin{bmatrix}\n",
    "x_0 \\\\\n",
    "x_1 \\\\\n",
    "x_2\n",
    "\\end{bmatrix}\n",
    "=\n",
    "\\begin{bmatrix}\n",
    "1 \\\\\n",
    "4 \\\\\n",
    "5\n",
    "\\end{bmatrix}\n",
    "\\end{equation}\n",
    "\n",
    "Within \"linalg\", the \"solve(...)\" function solves a linear equation system by calling LAPACK's routine _gesv. So in this case, the \"linalg.solve(...)\" function is only a wrapper.\n"
   ]
  },
  {
   "cell_type": "code",
   "execution_count": 1,
   "metadata": {},
   "outputs": [
    {
     "name": "stdout",
     "output_type": "stream",
     "text": [
      "solution x =  [ 0.22368421 -0.06578947  0.48684211]\n"
     ]
    }
   ],
   "source": [
    "import numpy as np\n",
    "\n",
    "A = np.array([[1,3,2],[5,8,7],[0,-2,10]])   #define matrix\n",
    "b = np.array([1,4,5])                       #define vector\n",
    "\n",
    "x = np.linalg.solve(A,b)      #solve with the \"solve(...)\" function in Numpy.\n",
    "print(\"solution x = \", x)"
   ]
  },
  {
   "cell_type": "markdown",
   "metadata": {},
   "source": [
    "## Factorization\n",
    "\n",
    "LU factorization is implemented in SciPy's \"linalg\" pacakge. "
   ]
  },
  {
   "cell_type": "code",
   "execution_count": 2,
   "metadata": {},
   "outputs": [
    {
     "name": "stdout",
     "output_type": "stream",
     "text": [
      "solution x =\n",
      " [ 0.22368421 -0.06578947  0.48684211]\n"
     ]
    }
   ],
   "source": [
    "import numpy as np\n",
    "from scipy.linalg import lu_factor, lu_solve\n",
    "\n",
    "A = np.array([[1,3,2],[5,8,7],[0,-2,10]])   #define matrix\n",
    "b = np.array([1,4,5])                       #define vector\n",
    "\n",
    "#perfrom LU decomposition which returns lu and the permutation piv.\n",
    "lu, piv = lu_factor(A) \n",
    "\n",
    "#print(lu)\n",
    "#print(piv)\n",
    "\n",
    "#solve the linear system using the LU decomposition\n",
    "#Note: you can solve many linear equation systems with the same matrix A\n",
    "#but with different b vectors. You only need to do LU decomposition once. \n",
    "x = lu_solve((lu, piv), b) \n",
    "\n",
    "print(\"solution x =\\n\",x)"
   ]
  },
  {
   "cell_type": "markdown",
   "metadata": {},
   "source": [
    "## Inverse of a matrix\n",
    "\n",
    "This method is not suitable for large matrices. "
   ]
  },
  {
   "cell_type": "code",
   "execution_count": 3,
   "metadata": {},
   "outputs": [
    {
     "name": "stdout",
     "output_type": "stream",
     "text": [
      "solution x =\n",
      " [ 0.22368421 -0.06578947  0.48684211]\n"
     ]
    }
   ],
   "source": [
    "from numpy.linalg import inv\n",
    "\n",
    "A = np.array([[1,3,2],[5,8,7],[0,-2,10]])   #define matrix\n",
    "b = np.array([1,4,5])                       #define vector\n",
    "\n",
    "#calculate the inverse of matrix A\n",
    "Ainv = inv(A)\n",
    "\n",
    "#get the solution with the inverse\n",
    "x = Ainv.dot(b)\n",
    "\n",
    "print(\"solution x =\\n\",x)"
   ]
  },
  {
   "cell_type": "markdown",
   "metadata": {},
   "source": [
    "## Extension: Solving nonlinear equation systems\n",
    "\n",
    "Sometime we need to solve a system of nonlinear equations. This topic is related to the solution of linear equation systems because many methods to solve nonlinear systems perform linearization and iterations. In these iterative methods, at each iteration, a linear equation system needs to be solved. \n",
    "\n",
    "There are several options in Python. The first one is the \"fsolve(...)\" function in SciPy's optimization module. We have seen the the use of this function in the root findinig chapter. In fact, the rooting finding chapter deals with only one nonlinear equation, which is a special case of nonlinear equation system (only one equation). \"fsolve(...)\" is a wrapper around MINPACK's hybrd and hybrj algorithms.\n",
    "\n",
    "For example, for a nonlinear equation system as follows:\n",
    "\\begin{eqnarray}\n",
    "x^2+y &=& 3 \\\\\n",
    "x + e^{-y} &=& 2\n",
    "\\end{eqnarray}\n",
    "which can be written as\n",
    "\\begin{eqnarray}\n",
    "x^2+y -3 &=& 0 \\\\\n",
    "x + e^{-y} -2 &=& 0\n",
    "\\end{eqnarray}\n",
    "So the goal is make a vector function $\\mathbf{f}(x,y) = 0$.\n",
    "\n",
    "        \n"
   ]
  },
  {
   "cell_type": "code",
   "execution_count": 5,
   "metadata": {},
   "outputs": [
    {
     "name": "stdout",
     "output_type": "stream",
     "text": [
      "Soutions x and y =  1.5112932598218802 0.7159926827864278\n",
      "residuals =  (-3.0527136374303154e-11, -2.0531576438997945e-11)\n"
     ]
    }
   ],
   "source": [
    "from scipy.optimize import fsolve\n",
    "import math\n",
    "\n",
    "#define the vector function\n",
    "def func(p):\n",
    "    x, y = p\n",
    "    return (x**2+y-3, x+math.exp(-y) - 2)\n",
    "\n",
    "#call the fsolve function with an inital guess (x,y) = (1,1)\n",
    "x, y =  fsolve(func, (1, 1))\n",
    "\n",
    "print(\"Soutions x and y = \", x, y)\n",
    "print(\"residuals = \", func((x, y)))\n"
   ]
  },
  {
   "cell_type": "markdown",
   "metadata": {},
   "source": [
    "Alternatively you can use optimize's \"root(...)\" function."
   ]
  },
  {
   "cell_type": "code",
   "execution_count": 6,
   "metadata": {},
   "outputs": [
    {
     "name": "stdout",
     "output_type": "stream",
     "text": [
      "Soutions x and y =  [1.51129326 0.71599268]\n",
      "residuals =  [-3.0527136374303154e-11, -2.0531576438997945e-11]\n"
     ]
    }
   ],
   "source": [
    "from scipy.optimize import root\n",
    "import math\n",
    "\n",
    "#define the vector function\n",
    "def func(p):\n",
    "    x, y = p\n",
    "    \n",
    "    f = [x**2+y-3, \n",
    "         x+math.exp(-y) - 2]\n",
    "\n",
    "    return f\n",
    "\n",
    "#call the fsolve function with an inital guess (x,y) = (1,1)\n",
    "sol =  root(func, (1, 1))\n",
    "\n",
    "print(\"Soutions x and y = \", sol.x)\n",
    "print(\"residuals = \", func(sol.x))"
   ]
  },
  {
   "cell_type": "markdown",
   "metadata": {},
   "source": [
    "There is also a Python package named [\"Sympy\"](https://www.sympy.org) for  symbolic mathematics. It provides some solution functions for solving both linear and nonlinear equation systems. "
   ]
  },
  {
   "cell_type": "code",
   "execution_count": 7,
   "metadata": {},
   "outputs": [
    {
     "name": "stdout",
     "output_type": "stream",
     "text": [
      "Soutions x and y =  1.51129325983619 0.715992682773699\n"
     ]
    }
   ],
   "source": [
    "from sympy import Symbol, nsolve\n",
    "from sympy.functions.elementary.exponential import exp\n",
    "import sympy\n",
    "import mpmath\n",
    "x = Symbol('x')\n",
    "y = Symbol('y')\n",
    "f1 = x**2+y-3\n",
    "f2 = x+exp(-y) - 2\n",
    "\n",
    "sol = (nsolve((f1, f2), (x, y), (1, 1)))\n",
    "\n",
    "print(\"Soutions x and y = \", sol[0],sol[1])\n"
   ]
  },
  {
   "cell_type": "code",
   "execution_count": null,
   "metadata": {},
   "outputs": [],
   "source": []
  }
 ],
 "metadata": {
  "kernelspec": {
   "display_name": "Python 3",
   "language": "python",
   "name": "python3"
  },
  "language_info": {
   "codemirror_mode": {
    "name": "ipython",
    "version": 3
   },
   "file_extension": ".py",
   "mimetype": "text/x-python",
   "name": "python",
   "nbconvert_exporter": "python",
   "pygments_lexer": "ipython3",
   "version": "3.7.1"
  }
 },
 "nbformat": 4,
 "nbformat_minor": 1
}
