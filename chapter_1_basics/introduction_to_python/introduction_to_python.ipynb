{
 "cells": [
  {
   "cell_type": "markdown",
   "metadata": {
    "slideshow": {
     "slide_type": "slide"
    }
   },
   "source": [
    "# Introduction to Python Programming\n",
    "\n",
    "by Xiaofeng Liu, Ph.D., P.E.\n",
    "Assistant Professor\n",
    "\n",
    "Department of Civil and Environmental Engineering, \n",
    "Institute of CyberScience,\n",
    "Penn State University ,\n",
    "223B Sackett Building, University Park, PA 16802\n",
    "\n",
    "Web: http://water.engr.psu.edu/liu/\n"
   ]
  },
  {
   "cell_type": "markdown",
   "metadata": {
    "slideshow": {
     "slide_type": "subslide"
    }
   },
   "source": [
    "This notebook is a short introduction to Python programming. The purpose is to introduce enough material so you can get started. Python programming language itself, although relatively simple and easy to learn, is nevertheless a computer language. To learn and master a new language is not an easy task. It takes time, practice, and hours sitting in front of computer to debug and test. \n",
    "\n",
    "A list of good books and tutorials to learn on your own:\n",
    "* Python Essential Reference, David Beazley, Addison-Wesley Professional (on [Amazon](https://www.amazon.com/Python-Essential-Reference-Essentia-Developers-ebook/dp/B002EF2AQ6))\n",
    "* Python in a Nutshell, Alex Martelli, O'Reilly Media (on [Amazon](https://www.amazon.com/Python-Nutshell-Second-Alex-Martelli/dp/0596100469))\n",
    "* Google's Python Class for beginners [Goolge class](https://developers.google.com/edu/python/)\n",
    "\n",
    "More resources can be found online:\n",
    "* [python.org](https://wiki.python.org/moin/ReferenceBooks)\n",
    "* [https://python-forum.io](https://python-forum.io/Thread-A-List-of-Free-Python-Resources)\n",
    "\n",
    "Note: This introduction notebook uses Python v3.x. "
   ]
  },
  {
   "cell_type": "markdown",
   "metadata": {
    "slideshow": {
     "slide_type": "subslide"
    }
   },
   "source": [
    "The following is a list of things discussed in this notebook:\n",
    "* Brief history of Python \n",
    "* Core Python\n",
    "    * variable\n",
    "    * string\n",
    "    * tuples\n",
    "    * list\n",
    "    * arithmetic operations\n",
    "    * comparison operations\n",
    "    * conditionals\n",
    "    * loops\n",
    "    * type conversion\n",
    "    * reading input\n",
    "    * print output\n",
    "    * file I/O\n",
    "    * error control\n",
    "* Functions and modules\n",
    "    * functions\n",
    "    * modules\n"
   ]
  },
  {
   "cell_type": "code",
   "execution_count": 12,
   "metadata": {
    "collapsed": false
   },
   "outputs": [],
   "source": [
    "#Do not change this cell. It is for setting up things.\n",
    "\n",
    "%matplotlib inline\n",
    "\n",
    "#import the preamble in the parent directory\n",
    "import sys\n",
    "sys.path.append(\"../\")\n",
    "import preamble"
   ]
  },
  {
   "cell_type": "markdown",
   "metadata": {
    "slideshow": {
     "slide_type": "slide"
    }
   },
   "source": [
    "## Core Python\n",
    "\n",
    "This section introduce some core concepts in Python."
   ]
  },
  {
   "cell_type": "markdown",
   "metadata": {},
   "source": [
    "**Variables**: Variables are used in most computer languages to store value in computer memory. A variable has name, type, and value. The value can be changed. In Python, the type can also be dynamically changed. \n",
    "    \n",
    "Note in the following Python code: \n",
    "    * the sign # denotes the beginning of a comment. Anything in the comment is ignored by Python interpreter.\n",
    "    * the **print** function is a Python function for printing.\n",
    "    * to execute the code cell, click your mouse on the cell to select it and then press simutaniously the keys \"Shift\"+\"Enter\"."
   ]
  },
  {
   "cell_type": "code",
   "execution_count": 30,
   "metadata": {
    "collapsed": false,
    "slideshow": {
     "slide_type": "subslide"
    }
   },
   "outputs": [
    {
     "name": "stdout",
     "output_type": "stream",
     "text": [
      "(3, <type 'int'>)\n"
     ]
    }
   ],
   "source": [
    "var1 = 3   #var1 is of integer type\n",
    "print(var1, type(var1))   #print the value and type of variable var1"
   ]
  },
  {
   "cell_type": "code",
   "execution_count": 31,
   "metadata": {
    "collapsed": false
   },
   "outputs": [
    {
     "name": "stdout",
     "output_type": "stream",
     "text": [
      "(3.14, <type 'float'>)\n"
     ]
    }
   ],
   "source": [
    "var1 = 3.14  #var 1 is now re-asigned type as float with a new value\n",
    "print(var1, type(var1))   #print the value and type of variable var1"
   ]
  },
  {
   "cell_type": "code",
   "execution_count": 27,
   "metadata": {
    "collapsed": false
   },
   "outputs": [
    {
     "name": "stdout",
     "output_type": "stream",
     "text": [
      "('hello', <type 'str'>)\n"
     ]
    }
   ],
   "source": [
    "var1 = \"hello\"  #var 1 is now re-asigned type as string with a new value \n",
    "print(var1, type(var1))   #print the value and type of variable var1"
   ]
  },
  {
   "cell_type": "markdown",
   "metadata": {
    "slideshow": {
     "slide_type": "slide"
    }
   },
   "source": [
    "**Strings**: A string is a sequence of characters enclosed in single or double quotes (we already saw this in the previous cell)."
   ]
  },
  {
   "cell_type": "code",
   "execution_count": 29,
   "metadata": {
    "collapsed": false
   },
   "outputs": [
    {
     "name": "stdout",
     "output_type": "stream",
     "text": [
      "Hello world!\n"
     ]
    }
   ],
   "source": [
    "str1 = 'Hello world!'\n",
    "print(str1)"
   ]
  },
  {
   "cell_type": "code",
   "execution_count": 3,
   "metadata": {
    "collapsed": false,
    "slideshow": {
     "slide_type": "subslide"
    }
   },
   "outputs": [
    {
     "name": "stdout",
     "output_type": "stream",
     "text": [
      "1\n",
      "1.5\n"
     ]
    }
   ],
   "source": [
    "print(3/2)   #will produce 1 in Python v2.7\n",
    "print(3.0/2) #will produce 1.5 in Python v2.x and v3.x"
   ]
  },
  {
   "cell_type": "markdown",
   "metadata": {
    "slideshow": {
     "slide_type": "subslide"
    }
   },
   "source": [
    "In Python, the real floor division operator is \"//\". It returns the floor value for both interger and floating point arugments. This operator is the same in both v2.x and v3.x."
   ]
  },
  {
   "cell_type": "code",
   "execution_count": 4,
   "metadata": {
    "collapsed": false,
    "slideshow": {
     "slide_type": "subslide"
    }
   },
   "outputs": [
    {
     "name": "stdout",
     "output_type": "stream",
     "text": [
      "1\n",
      "1.0\n"
     ]
    }
   ],
   "source": [
    "print(3//2)\n",
    "print(3.0//2.0)"
   ]
  },
  {
   "cell_type": "markdown",
   "metadata": {
    "slideshow": {
     "slide_type": "slide"
    }
   },
   "source": [
    "## 3. xrange\n",
    "\n",
    "The function \"xrange()\" is valid in Python v2.x but obsolete in Python v3.x. Instead, Python v3.x uses \"range()\" for the same function of \"xrange()\". \n",
    "\n",
    "In Python, the function \"range()\" creates a list. The difference between \"range()\" and \"xrange()\" is related to how the list is allocated and used in memory. If you are not dealing with large amount of data, it is not critical. "
   ]
  },
  {
   "cell_type": "code",
   "execution_count": 5,
   "metadata": {
    "collapsed": false
   },
   "outputs": [
    {
     "name": "stdout",
     "output_type": "stream",
     "text": [
      "[0, 1, 2, 3, 4]\n",
      "xrange(5)\n"
     ]
    }
   ],
   "source": [
    "print(range(0,5))    #works in both Python v2.x and v3.x\n",
    "print(xrange(0,5))   #only works in Python v2.x, but not v3.x"
   ]
  },
  {
   "cell_type": "markdown",
   "metadata": {},
   "source": [
    "## 4. Error handling\n",
    "\n",
    "In Python, you can try to catch exceptions (errors) and deal with them in your code. In Python v3.x, an \"as\" is required. See the difference in the following examples."
   ]
  },
  {
   "cell_type": "code",
   "execution_count": 6,
   "metadata": {
    "collapsed": false
   },
   "outputs": [
    {
     "name": "stdout",
     "output_type": "stream",
     "text": [
      "type error: integer division or modulo by zero\n"
     ]
    }
   ],
   "source": [
    "#This is how it should be in Python v3.x. It works in both v2.x and v3.x.\n",
    "try:\n",
    "    print(3/0)\n",
    "except Exception as e:\n",
    "    print(\"type error: \" + str(e))"
   ]
  },
  {
   "cell_type": "code",
   "execution_count": 7,
   "metadata": {
    "collapsed": false
   },
   "outputs": [
    {
     "name": "stdout",
     "output_type": "stream",
     "text": [
      "type error: integer division or modulo by zero\n"
     ]
    }
   ],
   "source": [
    "#This will work in Python v2.x, but not in v3.x.\n",
    "try:\n",
    "    print(3/0)\n",
    "except Exception, e:\n",
    "    print(\"type error: \" + str(e))"
   ]
  },
  {
   "cell_type": "markdown",
   "metadata": {},
   "source": [
    "# How to check the version of Python you are using?"
   ]
  },
  {
   "cell_type": "markdown",
   "metadata": {},
   "source": [
    "Because of all these differences in the versions of Python, and to ensure your Python code works correctly, it is sometime necessary to require a minimum version of Python. In this case, you can use the **sys** module. For example, put the following at the beginning of your code will require a Python version of 3.7 or later. "
   ]
  },
  {
   "cell_type": "code",
   "execution_count": 8,
   "metadata": {
    "collapsed": false
   },
   "outputs": [
    {
     "name": "stdout",
     "output_type": "stream",
     "text": [
      "('Current Python version information:', '2.7.13 |Anaconda 4.3.0 (64-bit)| (default, Dec 19 2016, 13:29:36) [MSC v.1500 64 bit (AMD64)]')\n"
     ]
    },
    {
     "name": "stderr",
     "output_type": "stream",
     "text": [
      "You need python 3.7 or later to run this script\n"
     ]
    }
   ],
   "source": [
    "import sys\n",
    "\n",
    "print('Current Python version information:', sys.version)\n",
    "\n",
    "if sys.version_info<(3,7,0):\n",
    "  sys.stderr.write(\"You need python 3.7 or later to run this script\\n\")\n",
    "  exit(1)"
   ]
  },
  {
   "cell_type": "markdown",
   "metadata": {},
   "source": [
    "If you are in command line environment, you can type:\n",
    "~~~~\n",
    "$ python -V\n",
    "~~~~\n",
    "to check the version of Python."
   ]
  }
 ],
 "metadata": {
  "kernelspec": {
   "display_name": "Python 2",
   "language": "python",
   "name": "python2"
  },
  "language_info": {
   "codemirror_mode": {
    "name": "ipython",
    "version": 2
   },
   "file_extension": ".py",
   "mimetype": "text/x-python",
   "name": "python",
   "nbconvert_exporter": "python",
   "pygments_lexer": "ipython2",
   "version": "2.7.13"
  }
 },
 "nbformat": 4,
 "nbformat_minor": 1
}
