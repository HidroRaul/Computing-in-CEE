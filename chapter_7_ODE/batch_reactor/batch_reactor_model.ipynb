{
 "cells": [
  {
   "cell_type": "markdown",
   "metadata": {
    "slideshow": {
     "slide_type": "slide"
    }
   },
   "source": [
    "# Numerical solution of ODEs - Batch reactor model\n",
    "\n",
    "by Xiaofeng Liu, Ph.D., P.E.  \n",
    "Associate Professor  \n",
    "Department of Civil and Environmental Engineering  \n",
    "Institute of CyberScience  \n",
    "Penn State University \n",
    "\n",
    "223B Sackett Building, University Park, PA 16802  \n",
    "Web: http://water.engr.psu.edu/liu/\n",
    "\n",
    "---"
   ]
  },
  {
   "cell_type": "markdown",
   "metadata": {},
   "source": [
    "## Numerical solution of ODEs\n",
    "\n",
    "This Jupyter Notebook implements and demonstrates numerical solution of ODEs. \n",
    "\n"
   ]
  },
  {
   "cell_type": "markdown",
   "metadata": {},
   "source": [
    "Numerical solution of the prey and predator model or Lokta-Voltera model."
   ]
  },
  {
   "cell_type": "code",
   "execution_count": 5,
   "metadata": {},
   "outputs": [
    {
     "data": {
      "image/png": "[encoded data removed]",
      "text/plain": [
       "<Figure size 432x288 with 1 Axes>"
      ]
     },
     "metadata": {
      "needs_background": "light"
     },
     "output_type": "display_data"
    }
   ],
   "source": [
    "import numpy as np\n",
    "from scipy import integrate\n",
    "import matplotlib.pyplot as plt\n",
    "\n",
    "#plt.rc('text', usetex=True)  #allow the use of Latex for math expressions and equations\n",
    "plt.rc('font', family='serif') #specify the default font family to be \"serif\"\n",
    "\n",
    "\n",
    "# dA/dt =  -k1*A + km1*B\n",
    "# dB/dt =   k1*A - km1*B \n",
    "\n",
    "# *  u: number of preys (for example, rabbits)\n",
    "# \n",
    "# *  v: number of predators (for example, foxes)  \n",
    "#   \n",
    "# * a, b, c, d are constant parameters defining the behavior of the population:    \n",
    "# \n",
    "#   + a is the natural growing rate of rabbits, when there's no fox\n",
    "# \n",
    "#   + b is the natural dying rate of rabbits, due to predation\n",
    "# \n",
    "#   + c is the natural dying rate of fox, when there's no rabbit\n",
    "# \n",
    "#   + d is the factor describing how many caught rabbits let create a new fox\n",
    "\n",
    "def dF_dt(F, t, k1,km1):\n",
    "    return [ -k1*F[0] + km1*F[1], k1*F[0] - km1*F[1]]\n",
    "\n",
    "\n",
    "k1  = 0.5\n",
    "km1 = 0.2\n",
    "\n",
    "t = np.linspace(0, 10, 200)              # time\n",
    "F0 = [10, 2]                   # initials conditions: concentration for A and B  \n",
    "\n",
    "F, infodict = integrate.odeint(dF_dt, F0, t, args=(k1,km1), full_output=True)\n",
    "\n",
    "A, B = F.T\n",
    "\n",
    "plt.plot(t, A, 'r-', label='$C_A$')\n",
    "plt.plot(t, B  , 'b--', label='$C_B$')\n",
    "\n",
    "#set the limit for the x and y axes\n",
    "plt.xlim([0,10])\n",
    "plt.ylim([0,10])\n",
    "\n",
    "#set x and y axes label and font size\n",
    "plt.xlabel('time',fontsize=16)\n",
    "plt.ylabel('Concentration',fontsize=16)\n",
    "\n",
    "#show the ticks on both axes and set the font size \n",
    "plt.tick_params(axis='both', which='major', labelsize=12)\n",
    "\n",
    "#show title and set font size\n",
    "plt.title('Batch reactor model',fontsize=16)\n",
    "\n",
    "#plt.grid()\n",
    "\n",
    "#show legend, set its location, font size, and turn off the frame\n",
    "plt.legend(loc='lower left',fontsize=14,frameon=False)\n",
    "plt.savefig(\"batch-reactor-model.png\",dpi=300, bbox_inches='tight', pad_inches=0)\n",
    "plt.show()\n"
   ]
  },
  {
   "cell_type": "code",
   "execution_count": null,
   "metadata": {},
   "outputs": [],
   "source": []
  }
 ],
 "metadata": {
  "kernelspec": {
   "display_name": "Python 3",
   "language": "python",
   "name": "python3"
  },
  "language_info": {
   "codemirror_mode": {
    "name": "ipython",
    "version": 3
   },
   "file_extension": ".py",
   "mimetype": "text/x-python",
   "name": "python",
   "nbconvert_exporter": "python",
   "pygments_lexer": "ipython3",
   "version": "3.7.3"
  }
 },
 "nbformat": 4,
 "nbformat_minor": 1
}
