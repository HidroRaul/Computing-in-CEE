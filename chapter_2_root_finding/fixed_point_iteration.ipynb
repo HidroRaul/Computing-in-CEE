{
 "cells": [
  {
   "cell_type": "markdown",
   "metadata": {},
   "source": [
    "# Fixed-point iteration method for root finding\n",
    "\n",
    "by Xiaofeng Liu, Ph.D., P.E.\n",
    "Associate Professor\n",
    "\n",
    "Department of Civil and Environmental Engineering\n",
    "\n",
    "Institute of CyberScience\n",
    "\n",
    "Penn State University\n",
    "\n",
    "223B Sackett Building, University Park, PA 16802\n",
    "\n",
    "Web: http://water.engr.psu.edu/liu/\n",
    "\n",
    "---"
   ]
  },
  {
   "cell_type": "markdown",
   "metadata": {},
   "source": [
    "The following code uses the fixed-point iteration method to solve the equation \n",
    "\\begin{equation}\n",
    " f(x) = e^{-x} - x = 0\n",
    "\\end{equation}\n",
    "\n",
    "One formula for the fixed point iteration is\n",
    "\\begin{equation}\n",
    "x_{i+1} = e^{-x_i}\n",
    "\\end{equation}\n"
   ]
  },
  {
   "cell_type": "code",
   "execution_count": 5,
   "metadata": {},
   "outputs": [
    {
     "name": "stdout",
     "output_type": "stream",
     "text": [
      "Found one root x =  0.566969808628573  at iteration  15\n",
      "Done!\n"
     ]
    }
   ],
   "source": [
    "import matplotlib.pyplot as plt \n",
    "import numpy as np \n",
    "import sys\n",
    "\n",
    "#define the function for root finding f(x)=0\n",
    "#derive the x=g(x) function.\n",
    "def g(x):\n",
    "    return np.exp(-x)\n",
    "\n",
    "#initial guess\n",
    "x0 = 2.0 \n",
    "\n",
    "#convergence criterion\n",
    "epsilon = 1E-3\n",
    "\n",
    "#maximum iteration number\n",
    "Nmax=1000\n",
    "\n",
    "N = 1\n",
    "xold = x0\n",
    "xnew = x0\n",
    "\n",
    "while N <= Nmax:\n",
    "    xold = xnew\n",
    "    xnew = g(xold)\n",
    "    \n",
    "    if (abs((xold-xnew)/xnew)<epsilon): \n",
    "        print(\"Found one root x = \", xnew, \" at iteration \", N)\n",
    "        break\n",
    "    \n",
    "    N = N + 1\n",
    "           \n",
    "if(N == (Nmax+1)):\n",
    "    print(\"Maximum iteration number \", Nmax, \" reached. No root found.\")\n",
    "        \n",
    "#end of code. It is better to give user some indication\n",
    "#that the code is done.\n",
    "print(\"Done!\")"
   ]
  },
  {
   "cell_type": "markdown",
   "metadata": {},
   "source": [
    "As a check, the following cell plot the function and the solution. "
   ]
  },
  {
   "cell_type": "code",
   "execution_count": 7,
   "metadata": {},
   "outputs": [
    {
     "data": {
      "image/png": "[encoded data removed]",
      "text/plain": [
       "<Figure size 432x288 with 1 Axes>"
      ]
     },
     "metadata": {
      "needs_background": "light"
     },
     "output_type": "display_data"
    }
   ],
   "source": [
    "def f(x):\n",
    "    return np.exp(-x)-x\n",
    "\n",
    "xl, xr = 0, 1\n",
    "\n",
    "x = np.linspace(xl,xr,100) # 100 linearly spaced numbers\n",
    "\n",
    "y = f(x)\n",
    "\n",
    "#scatter plot\n",
    "plt.scatter(xnew, f(xnew), color='blue', marker = 'o', label='solution')\n",
    "\n",
    "#line plot for the fitted linear curve\n",
    "plt.plot(x, f(x), color='red', label='function')\n",
    "\n",
    "#plot the f(x) = 0 line\n",
    "plt.plot((xl,xr),(0,0), color='k')\n",
    "\n",
    "#set the limit for the x and y axes\n",
    "#plt.xlim([0,1.0])\n",
    "#plt.ylim([5,45])\n",
    "\n",
    "#set x and y axes label and font size\n",
    "plt.xlabel('x',fontsize=16)\n",
    "plt.ylabel('f(x)',fontsize=16)\n",
    "\n",
    "#show the ticks on both axes and set the font size \n",
    "plt.tick_params(axis='both', which='major', labelsize=12)\n",
    "\n",
    "#show legend, set its location, font size, and turn off the frame\n",
    "plt.legend(loc='upper right',fontsize=14,frameon=False)\n",
    "\n",
    "plt.show()"
   ]
  },
  {
   "cell_type": "markdown",
   "metadata": {},
   "source": [
    "## Convergence of fixed-point iteration method\n",
    "\n",
    "Fixed-point iteration method may converge or diverge. It depends on the maginute of $|g'(x)|$ in the area of interest. For it to converge, the condition for $|g'(x)|$ < 1 should be satisfied. The mathematical proof of this condition is as follows. For the equation\n",
    "\\begin{equation}\n",
    "x = g(x),\n",
    "\\end{equation}\n",
    "the Taylor series expansion of the function $g(x)$ around the root $x_r$ is\n",
    "\\begin{equation}\n",
    "g(x) = g(x_r) + (x-x_r) g'(x_0) + \\ldots\n",
    "\\end{equation}\n",
    "Since $x_r$ is a root, i.e., it satisfies $x_r = g(x_r)$. Thus, \n",
    "\\begin{equation}\n",
    "g(x_r) - x_r \\approx g'(x_r)(x-x_r)\n",
    "\\end{equation}\n",
    "\n",
    "During the iteration, let $x_i$ is the $i^{th}$ estimation, then \n",
    "\\begin{equation}\n",
    "x_{i+1} = g(x_i)\n",
    "\\end{equation}\n",
    "\n",
    "Combine everything above, one can get\n",
    "\\begin{equation}\n",
    "x_{i+1} - x_r \\approx g'(x_r)(x_{i}-x_r)\n",
    "\\end{equation}\n",
    "This equation shows that the distance between current estimation and the true root is multiplied by $g'(x_r)$ at each iteration. So the iteration converges if $|g'(x_r)|$ < 1 and diveges if $|g'(x_r)|$ < 1. For the case of $|g'(x_r)|$ = 1, the itration may diverge or converge (both will be slow though). \n",
    "\n",
    "For the convergence case of $|g'(x_r)|$ < 1, there are two sub-cases:\n",
    "* 0 < $g'(x_r)$ < 1: the iteration will zigzag (staircase) towards the root (Fig. a). The path will be sandwiched between the the lines of $y=x$ and $y=g(x)$. \n",
    "* -1 < $g'(x_r)$ < 0: the iteration will spiral towards the root (Fig. b). The path will jump alternatively between the lines of $y=x$ and $y=g(x)$.\n",
    "\n",
    "Similarly, for the diergence case of $|g'(x_r)|$ > 1, there are two sub-cases:\n",
    "* $g'(x_r)$ > 1: the iteration will zigzag (staircase) away from the root (Fig. c). The path will be sandwiched between the the lines of $y=x$ and $y=g(x)$. \n",
    "* $g'(x_r)$ < -1: the iteration will spiral away from the root (Fig. d). The path will jump alternatively between the lines of $y=x$ and $y=g(x)$.\n",
    "\n",
    "![alt text](fixed_point_iteration_convergence.png)\n",
    "\n",
    "As an example, the following code uses the fixed-point iteration method to solve the equation \n",
    "\\begin{equation}\n",
    " f(x) = x^2 - 7 = 0\n",
    "\\end{equation}\n",
    "\n",
    "One formula for iteration is\n",
    "\\begin{equation}\n",
    "x_{i+1} = \\frac{7}{x_i}\n",
    "\\end{equation}\n",
    "\n",
    "So $g(x)=\\frac{7}{x}$. Thus, \n",
    "\\begin{equation}\n",
    "g'(x) = -\\frac{7}{x^2}\n",
    "\\end{equation}\n",
    "\n",
    "The root is around 2.5. So in the area of interest, $g'(x=2.5)=-7/2.5^2$>1. The iteration will diverge. "
   ]
  },
  {
   "cell_type": "code",
   "execution_count": 10,
   "metadata": {},
   "outputs": [
    {
     "name": "stdout",
     "output_type": "stream",
     "text": [
      "Maximum iteration number  1000  reached. No root found.\n",
      "Done!\n"
     ]
    }
   ],
   "source": [
    "#define the function for root finding f(x)=0\n",
    "#derive the x=g(x) function.\n",
    "def g(x):\n",
    "    return 7.0/x\n",
    "\n",
    "#initial guess\n",
    "x0 = 2\n",
    "\n",
    "#convergence criterion\n",
    "epsilon = 1E-3\n",
    "\n",
    "#maximum iteration number\n",
    "Nmax=1000\n",
    "\n",
    "N = 1\n",
    "xold = x0\n",
    "xnew = x0\n",
    "\n",
    "while N <= Nmax:\n",
    "    xold = xnew\n",
    "    xnew = g(xold)\n",
    "    \n",
    "    if (abs((xold-xnew)/xnew)<epsilon): \n",
    "        print(\"Found one root x = \", xnew, \" at iteration \", N)\n",
    "        break\n",
    "    \n",
    "    N = N + 1\n",
    "           \n",
    "if(N == (Nmax+1)):\n",
    "    print(\"Maximum iteration number \", Nmax, \" reached. No root found.\")\n",
    "        \n",
    "#end of code. It is better to give user some indication\n",
    "#that the code is done.\n",
    "print(\"Done!\")"
   ]
  },
  {
   "cell_type": "markdown",
   "metadata": {},
   "source": [
    "---\n",
    "The above iteration scheme failed. However, it does not mean the fixed-point iteration method is applicable for finding the roots of $f(x) = x^2 -7 = 0$. Indeed, a different formulation can be used. The equation can be equivalently written as\n",
    "\\begin{equation}\n",
    "x = \\frac{x+7}{x+1}\n",
    "\\end{equation}\n",
    "where \n",
    "\\begin{equation}\n",
    "g(x) = \\frac{x+7}{x+1}\n",
    "\\end{equation}\n",
    "\n",
    "The root is around 2.5. In the area of interest, \n",
    "\\begin{equation}\n",
    "|𝑔'(𝑥=2.5)|=|-\\frac{6}{(x+1)^2}|=|-\\frac{6}{(2.5+1)^2}| = 0.49 < 1. \n",
    "\\end{equation}\n",
    "The iteration will converge. The following code shows this point."
   ]
  },
  {
   "cell_type": "code",
   "execution_count": 12,
   "metadata": {},
   "outputs": [
    {
     "name": "stdout",
     "output_type": "stream",
     "text": [
      "Found one root x =  2.6463238827486784  at iteration  9\n",
      "Done!\n"
     ]
    }
   ],
   "source": [
    "#define the function for root finding f(x)=0\n",
    "#derive the x=g(x) function.\n",
    "def g(x):\n",
    "    return (x+7.0)/(x+1.0)\n",
    "\n",
    "#initial guess\n",
    "x0 = 2\n",
    "\n",
    "#convergence criterion\n",
    "epsilon = 1E-3\n",
    "\n",
    "#maximum iteration number\n",
    "Nmax=1000\n",
    "\n",
    "N = 1\n",
    "xold = x0\n",
    "xnew = x0\n",
    "\n",
    "while N <= Nmax:\n",
    "    xold = xnew\n",
    "    xnew = g(xold)\n",
    "    \n",
    "    if (abs((xold-xnew)/xnew)<epsilon): \n",
    "        print(\"Found one root x = \", xnew, \" at iteration \", N)\n",
    "        break\n",
    "    \n",
    "    N = N + 1\n",
    "           \n",
    "if(N == (Nmax+1)):\n",
    "    print(\"Maximum iteration number \", Nmax, \" reached. No root found.\")\n",
    "        \n",
    "#end of code. It is better to give user some indication\n",
    "#that the code is done.\n",
    "print(\"Done!\")"
   ]
  },
  {
   "cell_type": "markdown",
   "metadata": {},
   "source": [
    "Thus, it is important to keep in mind that when developping the fixed-point iteration schemes, the scheme is not unique. One should choose the scheme which has $|g'(x)|$<1."
   ]
  },
  {
   "cell_type": "code",
   "execution_count": null,
   "metadata": {},
   "outputs": [],
   "source": []
  }
 ],
 "metadata": {
  "kernelspec": {
   "display_name": "Python 3",
   "language": "python",
   "name": "python3"
  },
  "language_info": {
   "codemirror_mode": {
    "name": "ipython",
    "version": 3
   },
   "file_extension": ".py",
   "mimetype": "text/x-python",
   "name": "python",
   "nbconvert_exporter": "python",
   "pygments_lexer": "ipython3",
   "version": "3.7.1"
  }
 },
 "nbformat": 4,
 "nbformat_minor": 2
}
