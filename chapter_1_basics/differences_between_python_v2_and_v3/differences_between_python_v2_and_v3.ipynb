{
 "cells": [
  {
   "cell_type": "markdown",
   "metadata": {
    "slideshow": {
     "slide_type": "slide"
    }
   },
   "source": [
    "# Difference between Python v2.x and v3.x\n",
    "\n",
    "by Xiaofeng Liu, Ph.D., P.E.\n",
    "Associate Professor\n",
    "\n",
    "Department of Civil and Environmental Engineering\n",
    "\n",
    "Institute of Computational and Data Sciences\n",
    "\n",
    "Penn State University\n",
    "\n",
    "223B Sackett Building, University Park, PA 16802\n",
    "\n",
    "Web: http://water.engr.psu.edu/liu/\n",
    "\n",
    "---------------------------------------------------"
   ]
  },
  {
   "cell_type": "markdown",
   "metadata": {
    "slideshow": {
     "slide_type": "subslide"
    }
   },
   "source": [
    "This notebook documents the major differences between Python v2.x and v3.x relevant to our class.\n",
    "\n",
    "According to [python.org](https://wiki.python.org/moin/Python2orPython3):\n",
    ">*Python 2.x is legacy, Python 3.x is the present and future of the language*\n",
    "\n",
    "So in our class, we will use v3.x. However, they are legacy codes and computer systems where v2.x may still exist and is needed."
   ]
  },
  {
   "cell_type": "markdown",
   "metadata": {
    "slideshow": {
     "slide_type": "subslide"
    }
   },
   "source": [
    "The following is a list of differences to be discussed in this notebook:\n",
    "* \"print\" function\n",
    "* Division operator\n",
    "* xrange\n",
    "* Error handling"
   ]
  },
  {
   "cell_type": "markdown",
   "metadata": {
    "slideshow": {
     "slide_type": "slide"
    }
   },
   "source": [
    "## 1. The \"print\" function\n",
    "\n",
    "The **print** function in Python v2.x has been replaced by **print()** in Python v3.x, i.e., a pair of parenthesis is needed. In other words, **print** function with and without parenthesis will work in both Python v2.x and v3.x. However, in Python v3.x, you can only use **print()**."
   ]
  },
  {
   "cell_type": "code",
   "execution_count": 7,
   "metadata": {
    "slideshow": {
     "slide_type": "subslide"
    }
   },
   "outputs": [
    {
     "ename": "SyntaxError",
     "evalue": "Missing parentheses in call to 'print'. Did you mean print('Hello, world!'   #Works with Python 2.x but not 3.x)? (<ipython-input-7-4e8d5240f85d>, line 1)",
     "output_type": "error",
     "traceback": [
      "\u001b[1;36m  File \u001b[1;32m\"<ipython-input-7-4e8d5240f85d>\"\u001b[1;36m, line \u001b[1;32m1\u001b[0m\n\u001b[1;33m    print 'Hello, world!'   #Works with Python 2.x but not 3.x\u001b[0m\n\u001b[1;37m                        ^\u001b[0m\n\u001b[1;31mSyntaxError\u001b[0m\u001b[1;31m:\u001b[0m Missing parentheses in call to 'print'. Did you mean print('Hello, world!'   #Works with Python 2.x but not 3.x)?\n"
     ]
    }
   ],
   "source": [
    "print 'Hello, world!'   #Works with Python 2.x but not 3.x"
   ]
  },
  {
   "cell_type": "code",
   "execution_count": null,
   "metadata": {
    "slideshow": {
     "slide_type": "subslide"
    }
   },
   "outputs": [],
   "source": [
    "print('Hellow, world!') #Works with both Python 2.x and 3.x"
   ]
  },
  {
   "cell_type": "markdown",
   "metadata": {
    "slideshow": {
     "slide_type": "slide"
    }
   },
   "source": [
    "## 2. Division operator\n",
    "\n",
    "In Python v2.x, the \"/\" operator works as a floor division for integers. However, it returns a float value if at least one of the arguments is a float. In Python v3.x, the \"/\" operator does floating point division for both integer and float arguments."
   ]
  },
  {
   "cell_type": "code",
   "execution_count": null,
   "metadata": {
    "slideshow": {
     "slide_type": "subslide"
    }
   },
   "outputs": [],
   "source": [
    "print(3/2)   #will produce 1 in Python v2.7\n",
    "print(3.0/2) #will produce 1.5 in Python v2.x and v3.x"
   ]
  },
  {
   "cell_type": "markdown",
   "metadata": {
    "slideshow": {
     "slide_type": "subslide"
    }
   },
   "source": [
    "In Python, the real floor division operator is \"//\". It returns the floor value for both interger and floating point arugments. This operator is the same in both v2.x and v3.x."
   ]
  },
  {
   "cell_type": "code",
   "execution_count": null,
   "metadata": {
    "slideshow": {
     "slide_type": "subslide"
    }
   },
   "outputs": [],
   "source": [
    "print(3//2)\n",
    "print(3.0//2.0)"
   ]
  },
  {
   "cell_type": "markdown",
   "metadata": {
    "slideshow": {
     "slide_type": "slide"
    }
   },
   "source": [
    "## 3. xrange\n",
    "\n",
    "The function \"xrange()\" is valid in Python v2.x but obsolete in Python v3.x. Instead, Python v3.x uses \"range()\" for the same function of \"xrange()\". \n",
    "\n",
    "In Python, the function \"range()\" creates a list. The difference between \"range()\" and \"xrange()\" is related to how the list is allocated and used in memory. If you are not dealing with large amount of data, it is not critical. "
   ]
  },
  {
   "cell_type": "code",
   "execution_count": null,
   "metadata": {},
   "outputs": [],
   "source": [
    "print(range(0,5))    #works in both Python v2.x and v3.x\n",
    "#print(xrange(0,5))   #only works in Python v2.x, but not v3.x"
   ]
  },
  {
   "cell_type": "markdown",
   "metadata": {},
   "source": [
    "## 4. Error handling\n",
    "\n",
    "In Python, you can try to catch exceptions (errors) and deal with them in your code. In Python v3.x, an \"as\" is required. See the difference in the following examples."
   ]
  },
  {
   "cell_type": "code",
   "execution_count": null,
   "metadata": {},
   "outputs": [],
   "source": [
    "#This is how it should be in Python v3.x. It works in both v2.x and v3.x.\n",
    "try:\n",
    "    print(3/0)\n",
    "except Exception as e:\n",
    "    print(\"type error: \" + str(e))"
   ]
  },
  {
   "cell_type": "code",
   "execution_count": 8,
   "metadata": {},
   "outputs": [
    {
     "ename": "SyntaxError",
     "evalue": "invalid syntax (<ipython-input-8-d25b4026e0e5>, line 4)",
     "output_type": "error",
     "traceback": [
      "\u001b[1;36m  File \u001b[1;32m\"<ipython-input-8-d25b4026e0e5>\"\u001b[1;36m, line \u001b[1;32m4\u001b[0m\n\u001b[1;33m    except Exception, e:\u001b[0m\n\u001b[1;37m                    ^\u001b[0m\n\u001b[1;31mSyntaxError\u001b[0m\u001b[1;31m:\u001b[0m invalid syntax\n"
     ]
    }
   ],
   "source": [
    "#This will work in Python v2.x, but not in v3.x.\n",
    "try:\n",
    "    print(3/0)\n",
    "except Exception, e:\n",
    "    print(\"type error: \" + str(e))"
   ]
  },
  {
   "cell_type": "markdown",
   "metadata": {},
   "source": [
    "# How to check the version of Python you are using?"
   ]
  },
  {
   "cell_type": "markdown",
   "metadata": {},
   "source": [
    "Because of all these differences in the versions of Python, and to ensure your Python code works correctly, it is sometime necessary to require a minimum version of Python. In this case, you can use the **sys** module. For example, put the following at the beginning of your code will require a Python version of 3.7 or later. "
   ]
  },
  {
   "cell_type": "code",
   "execution_count": 9,
   "metadata": {},
   "outputs": [
    {
     "name": "stdout",
     "output_type": "stream",
     "text": [
      "Current Python version information: 3.7.3 (default, Apr 24 2019, 15:29:51) [MSC v.1915 64 bit (AMD64)]\n"
     ]
    }
   ],
   "source": [
    "import sys\n",
    "\n",
    "print('Current Python version information:', sys.version)\n",
    "\n",
    "if sys.version_info<(3,7,0):\n",
    "  sys.stderr.write(\"You need python 3.7 or later to run this script\\n\")\n",
    "  exit(1)"
   ]
  },
  {
   "cell_type": "markdown",
   "metadata": {},
   "source": [
    "If you are in command line environment, you can type:\n",
    "~~~~\n",
    "$ python -V\n",
    "~~~~\n",
    "to check the version of Python."
   ]
  }
 ],
 "metadata": {
  "kernelspec": {
   "display_name": "Python 3",
   "language": "python",
   "name": "python3"
  },
  "language_info": {
   "codemirror_mode": {
    "name": "ipython",
    "version": 3
   },
   "file_extension": ".py",
   "mimetype": "text/x-python",
   "name": "python",
   "nbconvert_exporter": "python",
   "pygments_lexer": "ipython3",
   "version": "3.7.3"
  }
 },
 "nbformat": 4,
 "nbformat_minor": 1
}
