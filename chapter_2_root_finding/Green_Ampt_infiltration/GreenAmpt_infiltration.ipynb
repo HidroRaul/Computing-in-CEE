{
 "cells": [
  {
   "cell_type": "markdown",
   "metadata": {},
   "source": [
    "# Green-Ampt model for infiltraion and runoff\n",
    "\n",
    "by Xiaofeng Liu, Ph.D., P.E.\n",
    "Associate Professor\n",
    "\n",
    "Department of Civil and Environmental Engineering\n",
    "\n",
    "Institute of Computational and Data Sciences\n",
    "\n",
    "Penn State University\n",
    "\n",
    "223B Sackett Building, University Park, PA 16802\n",
    "\n",
    "Web: http://water.engr.psu.edu/liu/\n",
    "\n",
    "(with contribution from Dapeng Feng, who was the TA for CE 497 in Fall 2019)"
   ]
  },
  {
   "cell_type": "markdown",
   "metadata": {},
   "source": [
    "## Introduction\n",
    "This notebook demonstrates the root finding methods on how to calculate the infiltration process based on the Green-Ampt model. During rainfall, water will infiltrate into the soil. As water moves down, a so-called \"wetting front\" marches downward too. If the rainfall is so intense and exceedst the infiltration capacity of soil, water will start to accumulate or \"pond\" on the surface and generate runoff. Based on this simplified phyiscal description, there are several models to capture the processes. The Green-Ampt model is one proposed in 1911 and still used today. \n",
    "\n",
    "Good references for the Green-Ampt model include the following:\n",
    "```\n",
    "- L. W. Mays (2010). Water Resources Engineering, 2nd edition, John Wiley & Sons, Inc.\n",
    "- V. T. Chow, D. R. Maidment, and L. W. Mays (1988). Applied Hydrology, McGraw-Hill, New York\n",
    "```\n",
    "\n",
    "In the following, the Green-Ampt model is briefly introduced. One quantity of interest is the cumulative infiltration $F(t)$ as a function of time $t$. As you will see, we need to solve a nonlinear algebraic equation for $F(t)$. The root of the cumulative infiltration equation can not be sloved directily. Therefore, this is a good case to use the root finding methods. In this example, the secant method in the Scipy package is used. It can be adapted to use other methods covered in class.   \n",
    "\n",
    "## The Green-Ampt method\n",
    "Figure 1 shows the variables defined in the Green-Ampt model and Figure 2 plots the infiltration rate and cumulative infiltration of a typical infiltration process. \n",
    "\n",
    "<img src=\"GA_definition.png\" width=\"400\"/>\n",
    "\n",
    "<h3 align=\"center\">Figure 1. Variables in the Green-Ampt infiltartion model (adapted from Chow et al. (1988)).</h3> \n",
    "\n",
    "<img src=\"GA_curves.png\" width=\"400\"/>\n",
    "\n",
    "<h3 align=\"center\">Figure 2. Rainfall infiltration rate and cumulative infiltration (adapted from Larry Mays (2010)).</h3> \n",
    "\n",
    "Applying Darcy's law to the model in Figure 1, we can get\n",
    "\\begin{equation}\n",
    "f = K \\left(\\frac{\\psi+L}{L}\\right)\n",
    "\\end{equation}\n",
    "where $f$ is the infiltration rate, $K$ is the hydraulic conductivity, and $\\psi$ is the wetting front soil suction head, and $L$ is the length of the wetted zone. This equation neglects the depth of surface ponding $h_0$, which is comparitively small to other terms. The infiltration rate is defined as $f = \\frac{dF}{dt}$. Then, the above equation can be expressed as a differential equation with one unknown variable, i.e., the cumulative infiltration $F$\n",
    "\\begin{equation}\n",
    "\\frac{dF}{dt} = K \\left(\\frac{\\psi+L}{L}\\right)\n",
    "\\end{equation}\n",
    "From mass balance, the infilted water is used to wet the soil between the surface and the wetting front (minus the initial moisture). This means $L=F/\\Delta \\theta$. Plugging this into the previous equation, we get\n",
    "\\begin{equation}\n",
    "\\frac{dF}{dt} = K \\left(\\frac{\\psi \\Delta \\theta+F}{F}\\right)\n",
    "\\end{equation}\n",
    "This is a simple first-order ordinary differential equation (ODE) subject to the initial condition of \n",
    "\\begin{equation}\n",
    "F(t=0) = 0\n",
    "\\end{equation}\n",
    "i.e. there is no infiltration at the beginning. One can use any numerical methods covered in the ODE chapter to solve this problem. Luckily, there is an analytical solution. Integrating the ODE with the use of the initial condition, one can get\n",
    "\\begin{equation}\n",
    "F(t) = K t + \\psi\\Delta\\theta\\ln\\left(1+\\frac{F(t)}{\\psi\\Delta\\theta}\\right)\n",
    "\\end{equation}\n",
    "Unluckily, there is no explicit solution for $F(t)$. To get $F(t)$, we have to solve the above equation using a root finding method. \n",
    "\n",
    "Before we show how to solve the problem using root finding method, other parameters in the problem have to be defined and specified. The effective saturation $S_e$ is defined as\n",
    "\\begin{equation}\n",
    "S_e = \\frac{\\theta-\\theta_r}{\\eta-\\theta_r}\n",
    "\\end{equation}\n",
    "where $\\theta$ is the soil moisture, $\\theta_r$ is the residual moisture content, and $\\eta$ is the porosity. $\\theta_e=\\eta-\\theta_r$ is called the effective porosity. For the initial condition, $\\theta=\\theta_i$, thus $\\theta_i-\\theta_r=S_e\\theta_e$. The change of the moisture $\\Delta\\theta$ can be derived as\n",
    "\\begin{equation}\n",
    "   \\Delta\\theta = \\eta-\\theta_i = \\eta - (S_e\\theta_e+\\theta_r) = (1-S_e) \\theta_e\n",
    "\\end{equation}\n"
   ]
  },
  {
   "cell_type": "markdown",
   "metadata": {},
   "source": [
    "## The Green-Ampt method example\n",
    "\n",
    "This is the modified example similar to that in Mays (2010), which uses the Green-Ampt method to evaluate the infiltration rate and cumulative infiltration depth for a silty clay soil from 0 to 8 hr. The initial effective saturation $S_e$ is 0.15. For a silty clay soil, $\\theta_e=0.45$, $\\psi=30 cm$, and $K=0.04 cm/hr$."
   ]
  },
  {
   "cell_type": "code",
   "execution_count": 19,
   "metadata": {},
   "outputs": [],
   "source": [
    "import numpy as np\n",
    "from scipy import optimize\n",
    "import matplotlib.pyplot as plt\n",
    "\n",
    "# Green Ampt model F=K*t+psi*dtheta*ln(1+F/(psi*dtheta))\n",
    "def greenampt(F, t, K=K, psi=psi, dtheta=dtheta):\n",
    "    \n",
    "    y = -F+K*t+psi*dtheta*np.log(1+F/(psi*dtheta))\n",
    "    return y\n",
    "\n",
    "# SECANT method to find the root by calling functions in \n",
    "# the optimize package. Without passing the first order derivative,\n",
    "# the \"newton\" funciton uses the SECANT method.\n",
    "def getroot(t, finit):\n",
    "    fun = lambda F: greenampt(F, t) \n",
    "    Froot = optimize.newton(fun, finit)\n",
    "    return Froot\n",
    "\n",
    "# define parameters\n",
    "K = 0.04        # hydraulic conductivity in cm/hr\n",
    "theta_e = 0.45  # effective porosity: porosit - residual moisture content\n",
    "Se = 0.15       # initial effective saturation\n",
    "psi = 30        # wetting front soil suction head in cm \n",
    "\n",
    "dtheta = (1-Se)*theta_e # calculate delta moisture\n",
    "\n",
    "trange = np.arange(0.0, 8.1, 0.1) # time range in hr\n",
    "F = np.zeros(len(trange)) # cumulative infiltration\n",
    "\n",
    "for i in range(len(trange)):\n",
    "    t = trange[i]\n",
    "    fg=K*t # initial guess of F(t)=Kt\n",
    "    F[i] = getroot(t, fg) # calculate cumulative infiltration\n",
    "\n",
    "# calculate infiltration rate. In the denominator, 1e-9 is \n",
    "# added to avoid the division-by-zero error (because F(t=0)=0).\n",
    "f = K*(psi*dtheta/(F+1e-9)+1) \n"
   ]
  },
  {
   "cell_type": "markdown",
   "metadata": {},
   "source": [
    "### Plot the simulated infiltration rate and cumulative inflitration."
   ]
  },
  {
   "cell_type": "code",
   "execution_count": 20,
   "metadata": {},
   "outputs": [
    {
     "data": {
      "image/png": "[encoded data removed]",
      "text/plain": [
       "<Figure size 432x288 with 2 Axes>"
      ]
     },
     "metadata": {
      "needs_background": "light"
     },
     "output_type": "display_data"
    }
   ],
   "source": [
    "plt.rc('text', usetex=True)  #allow the use of Latex for math expressions and equations\n",
    "plt.rc('font', family='serif') #specify the default font family to be \"serif\"\n",
    "\n",
    "fig = plt.figure()\n",
    "\n",
    "# infiltration rate\n",
    "plt.subplot(2,1,1)\n",
    "plt.plot(trange, f, color='green')\n",
    "plt.xlabel('Time (hr)',fontsize=12)\n",
    "plt.ylabel('Infiltration \\n rate (cm/hr)',fontsize=12)\n",
    "plt.xlim([0,8])\n",
    "plt.ylim([0,1.5])\n",
    "\n",
    "# cumulative infiltration\n",
    "plt.subplot(2,1,2)\n",
    "plt.plot(trange, F, color='red')\n",
    "plt.xlabel('Time (hr)',fontsize=12)\n",
    "plt.ylabel('Cumulative \\n infiltration (cm)',fontsize=12)\n",
    "plt.xlim([0,8])\n",
    "plt.ylim([0,3])\n",
    "\n",
    "plt.show()"
   ]
  },
  {
   "cell_type": "code",
   "execution_count": null,
   "metadata": {},
   "outputs": [],
   "source": []
  }
 ],
 "metadata": {
  "kernelspec": {
   "display_name": "Python 3",
   "language": "python",
   "name": "python3"
  },
  "language_info": {
   "codemirror_mode": {
    "name": "ipython",
    "version": 3
   },
   "file_extension": ".py",
   "mimetype": "text/x-python",
   "name": "python",
   "nbconvert_exporter": "python",
   "pygments_lexer": "ipython3",
   "version": "3.7.3"
  }
 },
 "nbformat": 4,
 "nbformat_minor": 2
}
