{
 "cells": [
  {
   "cell_type": "markdown",
   "metadata": {
    "slideshow": {
     "slide_type": "slide"
    }
   },
   "source": [
    "# Python built-in functions and libraries for root finding\n",
    "\n",
    "by Xiaofeng Liu, Ph.D., P.E.\n",
    "Associate Professor\n",
    "\n",
    "Department of Civil and Environmental Engineering\n",
    "\n",
    "Institute of CyberScience\n",
    "\n",
    "Penn State University\n",
    "\n",
    "223B Sackett Building, University Park, PA 16802\n",
    "\n",
    "Web: http://water.engr.psu.edu/liu/\n",
    "\n",
    "---"
   ]
  },
  {
   "cell_type": "markdown",
   "metadata": {},
   "source": [
    "## Python built-in root finding functions and capabilities\n",
    "\n",
    "Python provides several functions and libraries for root finding. This notebook demonstrate some of these.\n",
    "\n",
    "* Numpy's \"roots(...)\" function for the roots of **polynomials**: Note that this function is for polynomials only. To use this function, the user needs to pass the coefficients of the polynomial in an array. See example below. Based on the documentation, the algorithm behind this function is from computing of the eigenvalues of the companion matrix. More details can be found in this reference:\n",
    "\n",
    "> R. A. Horn & C. R. Johnson, Matrix Analysis. Cambridge, UK: Cambridge University Press, 1999, pp. 146-7. \n",
    "\n",
    "* [SciPy (Scientific Python)](https://www.scipy.org): a Python library for scientific computing and technical computing. Note that when you study SciPy, you may encounter another library named \"ScientificPython\" which is totally a different one (not actively developed anymore). SciPy is a software ecosystem which contains modules for common computational tasks in science and engineering, such as optimization, linear algebra, integration, interpolation, special functions, FFT, signal and image processing, and solving ODEs. It sounds like it covers all the topics we will cover in this course. However, again, in order to understand what is going on under the hood, we need to know the fundamentals and theories.\n",
    "\n",
    "    The Numpy module is in fact part of SciPy. Indeed, **SciPy** is built based on the Numpy array objects. In addition to Numpy, SciPy's main modules also include SciPy core library for scientific computing, Matplotlib for plotting, IPython for interactive console, Sympy for symbolic mathematics, and pandas for data structure and analysis. \n",
    "\n",
    "    **SciPy** (current version 1.2 as of Jan. 2019) implements the following bracketing root finding methods: bisection (slowest among all, but guaranteed to converge), Brent’s method, and Ridder’s method. For open or derivative-based methods, they are all based on the Newton-Raphson method, which converge more quickly if the initial guess is close to the root. All these implementations are in the \"optimize\" module \n",
    "\n",
    "    In addition, SciPy also implements \"root(...)\" and \"fsolve(...)\" functions to find a root of a vector function in multidimensional space.\n",
    "\n",
    "    The following is an example on how to use the \"root()\" function in **SciPy**'s \"**optimize**\" module to find the roots of the cubic polynomial:\n",
    "    \\begin{equation}\n",
    "    f(x) = 2.0 x^3 - 6x^2+x+2.5\n",
    "    \\end{equation}"
   ]
  },
  {
   "cell_type": "code",
   "execution_count": 1,
   "metadata": {},
   "outputs": [
    {
     "name": "stdout",
     "output_type": "stream",
     "text": [
      "[-0.52854363  0.89959512  2.62894851]\n",
      "[-2.46469511e-13 -2.31814568e-13 -1.21236354e-12]\n"
     ]
    },
    {
     "data": {
      "image/png": "[encoded data removed]",
      "text/plain": [
       "<Figure size 432x288 with 1 Axes>"
      ]
     },
     "metadata": {
      "needs_background": "light"
     },
     "output_type": "display_data"
    }
   ],
   "source": [
    "#make the plot inline\n",
    "%matplotlib inline\n",
    "\n",
    "import numpy as np\n",
    "from scipy import optimize\n",
    "import matplotlib.pyplot as plt\n",
    "\n",
    "#define the polynomial function and its coefficients\n",
    "#Paramters defined in this fashion is called \"optional\".\n",
    "def fun(x, a=2.0, b=-6, c=1, d=2.5):\n",
    "    return a * x ** 3 + b * x ** 2 + c * x + d\n",
    "\n",
    "#find the roots with the \"root\" function in scipy\n",
    "sol = optimize.root(fun,[-0.5, 1.0, 2.5])  #initial guesses are x=-0.5, 1.0, and 2.5. \n",
    "print(sol.x)        #print the roots\n",
    "print(fun(sol.x))   #print the function values at the roots (should be close to zero)\n",
    "\n",
    "#plot the function\n",
    "x = np.linspace(-1, 3, 100)\n",
    "plt.plot(x, fun(x), label=r'$f(x)$', lw=3)\n",
    "plt.xlabel(r\"$x$\")\n",
    "plt.ylabel(r\"$f(x)$\")\n",
    "plt.axhline(0, color='gray', lw=1.5)\n",
    "plt.yticks([-10, 0 , 10])\n",
    "plt.xlim(-1,3)\n",
    "plt.ylim(-10, 10)\n",
    "\n",
    "#plot the roots as scatter\n",
    "plt.scatter(sol.x, fun(sol.x), color=\"red\",s=60, label=r'roots')\n",
    "\n",
    "#show the legend\n",
    "plt.legend()\n",
    "\n",
    "#show the plot\n",
    "plt.show()"
   ]
  },
  {
   "cell_type": "markdown",
   "metadata": {},
   "source": [
    "---\n",
    "The following example shows how to use the \"root(...)\" function in Numpy. The meaning of the parameters can be found in the documentation of \"root(...)\"."
   ]
  },
  {
   "cell_type": "code",
   "execution_count": 2,
   "metadata": {},
   "outputs": [
    {
     "name": "stdout",
     "output_type": "stream",
     "text": [
      "[ 2.62894851  0.89959512 -0.52854363]\n"
     ]
    }
   ],
   "source": [
    "import numpy as np\n",
    "\n",
    "#use Numpy's roots(...) function\n",
    "p = [2,-6,1,2.5]\n",
    "\n",
    "#call the roots function; the returned value is an array.\n",
    "sols = np.roots(p)\n",
    "\n",
    "#print out the solutions\n",
    "print(sols)"
   ]
  },
  {
   "cell_type": "markdown",
   "metadata": {},
   "source": [
    "The following example shows how to use the bisection method, Newton-Raphson method, and the \"fsolve(...)\" function in **SciPy**'s \"**optimize**\" module. Based on the documentation, the \"fsolve(...)\" function is a wrapper around MINPACK's ***hybrd*** and ***hybrj*** algorithms, which are used for optimizations. Indeed, root finding can be casted as an optimization problem in the sense that to find a root which minimized the difference between function value and zero. The details of MINPACK can be found [here](https://www.netlib.org/minpack/)."
   ]
  },
  {
   "cell_type": "code",
   "execution_count": 5,
   "metadata": {},
   "outputs": [
    {
     "name": "stdout",
     "output_type": "stream",
     "text": [
      "-1.0298665293212252\n",
      "-1.0298665293222589\n",
      "-1.029866529322259\n",
      "Done!\n"
     ]
    }
   ],
   "source": [
    "from scipy import optimize\n",
    "\n",
    "#define the function\n",
    "def f(x):\n",
    "    y = x + 2*np.cos(x)\n",
    "    return y\n",
    "         \n",
    "#directly call SciPy optimize's bisect method\n",
    "sol1=optimize.bisect(f, -2, 2)        # starting interval [-2, 2]\n",
    "\n",
    "#directly call SciPy optimize's newton method\n",
    "sol2=optimize.newton(f,  100)      # starting point x0 = 2\n",
    "\n",
    "#use fsolve(...) function\n",
    "sol3 = optimize.fsolve(f, 0.3) \n",
    "\n",
    "#print out the solutions from the three different function calls\n",
    "print(sol1)\n",
    "print(sol2)\n",
    "print(sol3[0])\n",
    "\n",
    "print(\"Done!\")"
   ]
  },
  {
   "cell_type": "code",
   "execution_count": null,
   "metadata": {},
   "outputs": [],
   "source": []
  }
 ],
 "metadata": {
  "kernelspec": {
   "display_name": "Python 3",
   "language": "python",
   "name": "python3"
  },
  "language_info": {
   "codemirror_mode": {
    "name": "ipython",
    "version": 3
   },
   "file_extension": ".py",
   "mimetype": "text/x-python",
   "name": "python",
   "nbconvert_exporter": "python",
   "pygments_lexer": "ipython3",
   "version": "3.6.7"
  }
 },
 "nbformat": 4,
 "nbformat_minor": 1
}
