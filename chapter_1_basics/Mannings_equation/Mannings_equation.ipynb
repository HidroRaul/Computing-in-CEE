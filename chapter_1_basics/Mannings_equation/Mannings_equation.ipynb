{
 "cells": [
  {
   "cell_type": "markdown",
   "metadata": {},
   "source": [
    "## Calculate discharge using the Manning's equation.\n",
    "\n",
    "This example shows the Type I problem of using Manning's equation. A function is defined to calculate the carrying capacity (discharge) of a rectangular open channel if the following is given: bottom width, water depth, Manning's n, and channel slope. \n",
    "\n",
    "\n"
   ]
  },
  {
   "cell_type": "code",
   "execution_count": 7,
   "metadata": {},
   "outputs": [],
   "source": [
    "def Mannings(K_n, n, b, h, S):\n",
    "    \"\"\"A function to calculate the discharge in a rectangular channel\n",
    "        using the Manning's equation.\n",
    "    Input: \n",
    "        K_n: 1.49 or 1.0 (user should make sure K_n is consistent with the unit system)\n",
    "        n: Manning's n value\n",
    "        b: bottom width of rectangular\n",
    "        h: water depth\n",
    "        S: channel slope\n",
    "    Output: \n",
    "        The function return the discharge Q\n",
    "    \"\"\"\n",
    "    \n",
    "    Q = K_n/n*(b*h)*(b*h/(2.0*h+b))**(2.0/3.0)*S**(1.0/2.0)\n",
    "    return Q\n",
    "    "
   ]
  },
  {
   "cell_type": "code",
   "execution_count": 14,
   "metadata": {},
   "outputs": [
    {
     "name": "stdout",
     "output_type": "stream",
     "text": [
      "Discharge = 0.3916  m^3/s.\n"
     ]
    }
   ],
   "source": [
    "#define the variables\n",
    "\n",
    "K_n = 1.0 #unit conversion factor\n",
    "n = 0.03  #Manning's n\n",
    "b = 3.0   #bottom width (m)\n",
    "h = 1.5   #water depth (m)\n",
    "S = 1e-5  #channel slope\n",
    "\n",
    "print(\"Discharge = %.4f\" % Mannings(K_n,n,b,h,S), \" m^3/s.\")"
   ]
  },
  {
   "cell_type": "code",
   "execution_count": null,
   "metadata": {
    "collapsed": true
   },
   "outputs": [],
   "source": []
  }
 ],
 "metadata": {
  "kernelspec": {
   "display_name": "Python 3",
   "language": "python",
   "name": "python3"
  },
  "language_info": {
   "codemirror_mode": {
    "name": "ipython",
    "version": 3
   },
   "file_extension": ".py",
   "mimetype": "text/x-python",
   "name": "python",
   "nbconvert_exporter": "python",
   "pygments_lexer": "ipython3",
   "version": "3.6.3"
  }
 },
 "nbformat": 4,
 "nbformat_minor": 2
}
