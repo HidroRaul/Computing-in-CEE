{
 "cells": [
  {
   "cell_type": "markdown",
   "metadata": {
    "slideshow": {
     "slide_type": "slide"
    }
   },
   "source": [
    "# Matrix and vector operations in Python\n",
    "\n",
    "by Xiaofeng Liu, Ph.D., P.E.\n",
    "Associate Professor\n",
    "\n",
    "Department of Civil and Environmental Engineering\n",
    "\n",
    "Institute of CyberScience\n",
    "\n",
    "Penn State University \n",
    "\n",
    "223B Sackett Building, University Park, PA 16802\n",
    "\n",
    "Web: http://water.engr.psu.edu/liu/\n",
    "\n",
    "---"
   ]
  },
  {
   "cell_type": "markdown",
   "metadata": {
    "slideshow": {
     "slide_type": "subslide"
    }
   },
   "source": [
    "This notebook is an introduction (or review) of matrix and vector operations in Python.\n",
    "\n",
    "The objectives of this chapter are to:\n",
    "* understand the basic concepts and algorithms for matrix and vector\n",
    "* know how to define and perform operations on matrices and vectors in Python with Numpy\n",
    "* preparation for linear equation system solution"
   ]
  },
  {
   "cell_type": "markdown",
   "metadata": {},
   "source": [
    "## Matrix and vector\n",
    "\n",
    "In a previous tutorial on Python, we already briefly discussed data types in Python, where matrix and vector were introduced. In this section, a more in-depth demonstration is given.\n",
    "\n",
    "The topics to be covered are as follows:\n",
    "\n",
    "* creation of vector and matrix with Numpy\n",
    "* matrix operations\n",
    "    * matrix addition and subtraction\n",
    "    * matrix multiplication\n",
    "    * matrix division/inversion\n",
    "    * matrix transposition\n",
    "* miscelanious topics\n",
    "    * indexing of matrix and vector\n",
    "    * slicing of matrix and vector\n",
    "    * loop over vector elements\n",
    "    * loop over matrix rows, columns, and elements\n",
    "\n",
    "We will use Numpy to create vectors and matrices. Thus, the following will load the Numpy library as **np**."
   ]
  },
  {
   "cell_type": "code",
   "execution_count": null,
   "metadata": {},
   "outputs": [],
   "source": [
    "%matplotlib inline\n",
    "import numpy as np    "
   ]
  },
  {
   "cell_type": "markdown",
   "metadata": {},
   "source": [
    "### Creation of vector and matrix with Numpy\n",
    "\n",
    "A vector is a list of numbers. Recall that in Python, we have the definition of a **list** which can be created with a bracket. A Python list and a Numpy vector can be defined as follows. Keep in mind Python list and Numpy vector are different, though they can be converted from one to the other. "
   ]
  },
  {
   "cell_type": "code",
   "execution_count": null,
   "metadata": {},
   "outputs": [],
   "source": [
    "a_list = [1.2,3.5,0.7]             #define a Python list\n",
    "print(\"a_list, type(a_list) = \", a_list, type(a_list))   #print the Python list and its type\n",
    "\n",
    "a_vector = np.array([1.2,3.5,0.7]) #define a Numpy array\n",
    "print(\"a_vector, type(a_vector) = \", a_vector, type(a_vector))  #print the Numpy array and its type\n",
    "\n",
    "b_vector = np.array(a_list)        #define a Numpy array based on the Python list \"a_list\"    \n",
    "print(\"b_vector = \", b_vector)     #print the Numpy array\n",
    "\n",
    "b_list = b_vector.tolist()         #convert a Numpy array to a Python list with the \"tolist()\" function.\n",
    "print(\"b_list, type(b_list) = \", b_list, type(b_list))"
   ]
  },
  {
   "cell_type": "markdown",
   "metadata": {},
   "source": [
    "The creation of Numpy matrices is similar to vector, except a matrix is two-dimensional. Correspondingly, in Python, a matirx is a nested list, i.e., each element is a list. The following example shows how to create 2D list in Python, matrix with Numpy, and their relationship."
   ]
  },
  {
   "cell_type": "code",
   "execution_count": null,
   "metadata": {},
   "outputs": [],
   "source": [
    "a_nested_list = [[1,3],[5,8]]   #create a 2D list with nested 1D list\n",
    "print(\"a_nested_list = \", a_nested_list)            \n",
    "\n",
    "a_matrix = np.array([[1,3],[5,8]])  #create a 2D Numpy matrix\n",
    "print(\"a_matrix = \\n\", a_matrix)      \n",
    "\n",
    "b_matrix = np.array(a_nested_list)  #create a 2D Numpy matrix based on the 2D Python list\n",
    "print(\"b_matrix = \\n\", b_matrix)      \n",
    "\n",
    "b_nested_list = b_matrix.tolist()   #convert the Numpy matrix to 2D Python list\n",
    "print(\"b_nested_list = \", b_nested_list)  "
   ]
  },
  {
   "cell_type": "markdown",
   "metadata": {},
   "source": [
    "### Matrix/vector operations\n",
    "\n",
    "Since matries and vectors here are both defined with Numpy's **array**, they are essentially of the same type. So the operations described here for Numpy matrices and vectors are basically the same. "
   ]
  },
  {
   "cell_type": "markdown",
   "metadata": {},
   "source": [
    "### Matrix/vector addition and subtraction\n",
    "\n",
    "#### Addition of a scalar to a matrix/vector:"
   ]
  },
  {
   "cell_type": "code",
   "execution_count": null,
   "metadata": {},
   "outputs": [],
   "source": [
    "A = np.array([[1,3],[5,8]])  #create a 2D Numpy matrix\n",
    "print(\"A = \\n\", A)      \n",
    "\n",
    "B = A + 3                    #element-wise addition; it is the same as B = 3 + A\n",
    "print(\"B = A + 3 = \\n\", B)      \n",
    "\n",
    "a = np.array([1,4,6])        #create a Numpy vector\n",
    "print(\"a = \", a)\n",
    "\n",
    "b = a - 2                    #element-wise subtraction\n",
    "print(\"b = a - 2 = \", b)"
   ]
  },
  {
   "cell_type": "markdown",
   "metadata": {},
   "source": [
    "#### Addition and subtraction of two matrices or vectors"
   ]
  },
  {
   "cell_type": "code",
   "execution_count": null,
   "metadata": {},
   "outputs": [],
   "source": [
    "A = np.array([[1,3],[5,8]])   #define two matrices\n",
    "B = np.array([[0,2],[1,3]])\n",
    "\n",
    "C = A + B                     #addition of two matrices; same as C = B + A\n",
    "print(\"C = A + B = \\n\", C)\n",
    "\n",
    "D = A - B                     #addition of two matrices; NOT same as C = B - A\n",
    "print(\"D = A - B = \\n\", D)\n",
    "\n",
    "a = np.array([3,5,9])     #define two vectors\n",
    "b = np.array([-1,8,2.4])\n",
    "\n",
    "c = a + b\n",
    "print(\"c = a + b = \", c)"
   ]
  },
  {
   "cell_type": "markdown",
   "metadata": {},
   "source": [
    "### Multiplication of a scalar with matrix or vector\n",
    "\n",
    "The following example is for matrix. For vector, it is very similar."
   ]
  },
  {
   "cell_type": "code",
   "execution_count": null,
   "metadata": {},
   "outputs": [],
   "source": [
    "A = np.array([[1,3],[5,8]])   #define matrix\n",
    "print(\"A = \\n\", A)\n",
    "\n",
    "B = 2.0*A                     #multiply the matrix by 2.0; same as B = A*2.0\n",
    "print(\"B =2.0*A = \\n\", B )\n",
    "\n",
    "C = A/3.0                     #divide the matrix by 3.0; \n",
    "print(\"C = A/3.0 = \\n\", C)\n",
    "\n",
    "D = 3.0/A\n",
    "print(\"D = 3.0/A = \\n\", D)    #divide 3.0 by each element of the matrix\n"
   ]
  },
  {
   "cell_type": "markdown",
   "metadata": {},
   "source": [
    "### Matrix-Matrix, Matrix-Vector, and Vector-Vector Multiplications  \n",
    "\n",
    "Again, since Numpy matrix and vector are both arrays, the multiplication defined here are similar, regardless it is matrix-matrix, matrix-vector, or vector-vector multiplications. Keep in mind the dimensions of the two operands should conform. For example, we have two arrays $A_{r_a \\times c_a}$ and $B_{r_b \\times c_b}$, where $r_a$ and $c_a$ are the number of rows and columns of array $A$, respectively. $r_b$ and $c_b$ are similarly defined for array $B$. The multiplication $A_{r_a \\times c_a} \\times B_{r_b \\times c_b}$ is valid only when $c_a=r_b$. The resulted matrix should be $C_{r_a \\times c_b}$.\n",
    "\n",
    "The rules for the above multiplications are defined in linear algebra and they are not repeated here. The following examples show how to perform these multiplications in Python with Numpy.\n",
    "\n",
    "The matrix multiplication in Numpy is implemented in the \"**dot(...)**\" function. One should not confuse this with the \"*\" operator. For $A*B$, it will perform element-wise multiplication, not matrix multiplication. The difference is shown in the following example. "
   ]
  },
  {
   "cell_type": "code",
   "execution_count": null,
   "metadata": {},
   "outputs": [],
   "source": [
    "A = np.array([[1,3],[5,8]])   #define two matrices\n",
    "B = np.array([[0,2],[1,3]])\n",
    "\n",
    "c = np.array([0.2, 3.5])      #define two vectors\n",
    "d = np.array([-2.3,0.7])\n",
    "\n",
    "print(\"A*B = \\n\",A*B)         #this is element-wise multiplication, not matrix multiplication.\n",
    "print(\"np.dot(A,B) = \\n\", np.dot(A,B)) #matrix-matrix multiplication with \"dot(...)\"\n",
    "print(\"A.dot(B) = \\n\", A.dot(B))       #or matrix-matrix multiplication with \"dot(...)\"\n",
    "\n",
    "print(\"np.dot(A,c) = \\n\",np.dot(A,c)) #matrix-vector multiplication\n",
    "print(\"A.dot(c) = \\n\",A.dot(c))       #or matrix-vector multiplication\n",
    "\n",
    "print(\"np.dot(c,d) = \", np.dot(c,d))  #vector-vector multiplication\n",
    "print(\"c.dot(d) = \", c.dot(d))  #or vector-vector multiplication"
   ]
  },
  {
   "cell_type": "markdown",
   "metadata": {},
   "source": [
    "### Matrix inversion\n",
    "The inversion of a matrix is defind as $A \\times A^{-1} = A^{-1} \\times A = I$, where $I$ is an identify matrix. Inversion is only defined for square matrices. Inversion of matrix is like division for scalars. Not all matrices can be inverted. Those not invertable are called singular matrices. \n",
    "\n",
    "In Numpy, the easiest way to calcuate matrix inversion is to call the \"inv(...)\" function in the \"linalg\" module. The following example shows how to use it. "
   ]
  },
  {
   "cell_type": "code",
   "execution_count": null,
   "metadata": {},
   "outputs": [],
   "source": [
    "A = np.array([[1,3],[5,8]])   #define matrix\n",
    "\n",
    "Ainv = np.linalg.inv(A)       #calculate the inversion of matrix A\n",
    "\n",
    "print(\"A = \\n\", A)             \n",
    "print(\"Ainv = \\n\", Ainv)\n",
    "print(\"A.Ainv = \\n\", np.dot(A,Ainv))  #verify that A.Ainv = Identiy matrix."
   ]
  },
  {
   "cell_type": "markdown",
   "metadata": {},
   "source": [
    "### Matrix transpostion\n",
    "\n",
    "The transpose of a matrix $A$ is noted as $A^T$, which can be achieved simply with \"A.T\"."
   ]
  },
  {
   "cell_type": "code",
   "execution_count": null,
   "metadata": {},
   "outputs": [],
   "source": [
    "A = np.array([[1,3],[5,8]])   #define matrix\n",
    "\n",
    "print(\"A = \\n\", A)             \n",
    "print(\"A tranpose = \\n\", A.T)  #print the transpose"
   ]
  },
  {
   "cell_type": "markdown",
   "metadata": {
    "collapsed": true
   },
   "source": [
    "### Miscelanious topics\n",
    "\n",
    "The topics in this part are useful for our course. "
   ]
  },
  {
   "cell_type": "markdown",
   "metadata": {},
   "source": [
    "#### Indexing of matrix and vector\n",
    "\n",
    "Please keep in mind that Python is zero-based for arrays and lists. Thus, the index begines with 0, not 1. "
   ]
  },
  {
   "cell_type": "code",
   "execution_count": null,
   "metadata": {},
   "outputs": [],
   "source": [
    "A = np.array([[1,3],[5,8]])   #define matrix\n",
    "\n",
    "print(\"A[0,1] = \", A[0,1])    #access matix element at row 0 and column 1 (indeed the firt row and second column)\n",
    "\n",
    "#if your index is out of range, Python will throw an \"out of bounds\" error.\n",
    "#uncomment the following line to see error. \n",
    "#A[3,1]  #the first index 3 is out of bound.\n",
    "\n",
    "a = np.array([1,4,5,8])   #define vector\n",
    "\n",
    "print(\"a[1] = \", a[1])    #access the second element in the vector"
   ]
  },
  {
   "cell_type": "markdown",
   "metadata": {},
   "source": [
    "One can also get one part of an array (either matrix or vector). This is called \"**slicing**\" in Python. "
   ]
  },
  {
   "cell_type": "code",
   "execution_count": null,
   "metadata": {},
   "outputs": [],
   "source": [
    "A = np.array([[1,3,2],[5,8,7],[0,-2,10]])   #define matrix\n",
    "a = np.array([1,4,5,8,11])   #define vector\n",
    "\n",
    "print(\"A = \\n\", A)\n",
    "print(\"a = \", a)\n",
    "\n",
    "#get the second column of matrix A\n",
    "Asub = A[:,1]\n",
    "print(\"Asub = A[:,1] = \", Asub)\n",
    "\n",
    "#get the third row of matrix A\n",
    "Asub = A[2,:]\n",
    "print(\"Asub = A[2,:] = \", Asub)\n",
    "\n",
    "#get the \"slice\" of vector a from the second to the fourth elements\n",
    "#Note: the slice [1:4] does not include the element 4. So it will only \n",
    "#get elements 1, 2, and 3.\n",
    "asub = a[1:4]\n",
    "print(\"asub = a[1:4] = \", asub)"
   ]
  },
  {
   "cell_type": "markdown",
   "metadata": {},
   "source": [
    "An important note for \"**slicing**\" in Python is that it will **NOT** generate a copy of the slice. Instead, it returns a reference (i.e., memory address). To use this reference, one should use indexing with a slice object. In this way, any operation on the slice object (with indexing) will affects the original data. However, if indexing is not used, it will return a new copy.\n",
    "\n",
    "The following example shows this effect. "
   ]
  },
  {
   "cell_type": "code",
   "execution_count": null,
   "metadata": {},
   "outputs": [],
   "source": [
    "a = np.array([1,4,5,8,11])   #define vector\n",
    "\n",
    "#The following code shows the use of slice with indexing [:]\n",
    "print(\"Using slice with indexing [:]\")\n",
    "\n",
    "print(\"a = \", a)\n",
    "\n",
    "#get the \"slice\" of vector a from the second to the fourth elements\n",
    "#i.e., get elements 1, 2, and 3.\n",
    "#Here asub is a slice object, i.e., a slice (part) of the original \n",
    "#vecotr a. asub is not a copy, but a reference (memory address).\n",
    "asub = a[1:4]\n",
    "\n",
    "print(\"asub = a[1:4] = \", asub)\n",
    "\n",
    "#modify the value in asub with indexing [:]. This \n",
    "#will change the original data.\n",
    "asub[:] = asub + 1\n",
    "\n",
    "print(\"asub[:] = asub + 1 = \", asub)\n",
    "print(\"a = \", a)\n",
    "\n",
    "print(\"\\n\")\n",
    "\n",
    "#The following code shows that without indexing[:], it will \n",
    "#create a copy, not a reference to the original data.\n",
    "print(\"Using slice without indexing [:]\")\n",
    "\n",
    "a = np.array([1,4,5,8,11])   #define vector\n",
    "\n",
    "print(\"a = \", a)\n",
    "\n",
    "#get the \"slice\"\n",
    "bsub = a[1:4]\n",
    "\n",
    "print(\"bsub = a[1:4] = \", bsub)\n",
    "\n",
    "#operate on the slice without indexing [:]. It creates a\n",
    "#copy. Thus, operation will not change the original data in a.\n",
    "bsub = bsub + 1\n",
    "\n",
    "print(\"bsub = bsub + 1 = \", bsub)\n",
    "print(\"a = \", a)\n",
    "\n"
   ]
  },
  {
   "cell_type": "markdown",
   "metadata": {},
   "source": [
    "#### Loop over elements of matrix and vector\n",
    "\n",
    "Many computing algorithms introduced in this course need to loop over the elements of an array (either matrix or vector). The following examples show how to achieve that for a vector."
   ]
  },
  {
   "cell_type": "code",
   "execution_count": null,
   "metadata": {},
   "outputs": [],
   "source": [
    "a = np.array([1,4,5,8])   #define vector\n",
    "\n",
    "print(\"vector a = \", a)\n",
    "\n",
    "#loop over elements in array a and print it out\n",
    "print(\"loop over vector a:\")\n",
    "for ele in a:\n",
    "    print(ele)\n",
    "    \n",
    "#another way to loop over an array\n",
    "#Note: we first use the \"len(...)\" function to get the length\n",
    "#of vector a, then use the \"range(...)\" function to create a\n",
    "#list with numbers from 0 to len(a)-1.\n",
    "print(\"another loop over vector a:\")\n",
    "for i in range(len(a)):\n",
    "    print(a[i])"
   ]
  },
  {
   "cell_type": "markdown",
   "metadata": {},
   "source": [
    "Similarly for a matrix, we have the following example. Note the use of \"enumerate\" and how we get the current index of a \"for\" loop. In this way, we can print out the row and column numbers of each element."
   ]
  },
  {
   "cell_type": "code",
   "execution_count": null,
   "metadata": {},
   "outputs": [],
   "source": [
    "A = np.array([[1,3,2],[5,8,7],[0,-2,10]])   #define matrix\n",
    "\n",
    "print(\"matrix A = \\n\", A)\n",
    "\n",
    "#we can loop over each row of matrix A like this\n",
    "print(\"loop over rows of matrix A\")\n",
    "for row in A:\n",
    "    print(row)    #Here, row is a \"slice\" for matrix A corresponding to current row\n",
    "    \n",
    "#loop over each column of matrix A like this    \n",
    "print(\"loop over columns of matrix A\")\n",
    "for col in A.T:\n",
    "    print(col)    #Here, col is a \"slice\" for matrix A.T corresponding to current column   \n",
    "    \n",
    "print(\"loop over each element (row and then column) of matrix A\")\n",
    "for rowIndex, row in enumerate(A):         #loop over row\n",
    "    for colIndex, ele in enumerate(row):   #then over each column in current row\n",
    "        print(\"row = \", rowIndex, \"col = \", colIndex, \"val = \", ele)    #print out the current element    "
   ]
  },
  {
   "cell_type": "markdown",
   "metadata": {},
   "source": [
    "#### Size and shape of Numpy arrays\n",
    "\n",
    "For matrix and vector, we sometime need to know their size and dimensions. For vector, the size is its length and it only has one dimension. For matrix, it has two dimensions, i.e, row and column. \n",
    "\n",
    "In Numpy, the attributes and definitions of these information is as follows. For an array named **A**:\n",
    "* A.ndim: number of array dimensions, e.g. =1 for vector and =2 for 2D matrix.\n",
    "* A.shape: tuple of array dimenions. \n",
    "* A.size: number of total elements in the array.\n",
    "\n",
    "The following example code shows how to access these information."
   ]
  },
  {
   "cell_type": "code",
   "execution_count": null,
   "metadata": {},
   "outputs": [],
   "source": [
    "A = np.array([[1,3,2],[5,8,7],[0,-2,10]])   #define matrix\n",
    "b = np.array([1,4,5])                       #define vector\n",
    "\n",
    "#number of dimensions\n",
    "print(\"A.ndim = \", A.ndim)  #should be 2 because A is 2D matrix\n",
    "print(\"b.ndim = \", b.ndim)  #should be 1 because b is a vector\n",
    "\n",
    "#shape\n",
    "print(\"A.shape = \", A.shape)  #should be (3,3) because A has 3 rows and 3 columns\n",
    "print(\"b.shape = \", b.shape)  #should be 3 because b has 3 elements\n",
    "\n",
    "#size (total number of elements)\n",
    "print(\"A.size = \", A.size)  #should be 9 (=3x3) because A has 3 rows and 3 columns\n",
    "print(\"b.size = \", b.size)  #should be 3 because b has 3 elements"
   ]
  },
  {
   "cell_type": "markdown",
   "metadata": {},
   "source": [
    "With the information of array dimension and shape, we have anothe way to loop over elements in  arrays."
   ]
  },
  {
   "cell_type": "code",
   "execution_count": null,
   "metadata": {},
   "outputs": [],
   "source": [
    "A = np.array([[1,3,2],[5,8,7],[0,-2,10]])   #define matrix\n",
    "\n",
    "#loop over elements in the matrix\n",
    "for row_i in range(A.shape[0]):     #A.shape[0] gives number of rows\n",
    "    for col_i in range(A.shape[1]): #A.shape[1] gives number of columns\n",
    "        print(\"row,column,element = \", row_i, col_i, A[row_i, col_i])"
   ]
  },
  {
   "cell_type": "markdown",
   "metadata": {},
   "source": [
    "#### Solve linear equation system with matrix and vector\n",
    "One of the most common places to use matrix and vector is the solution of linear equation system. The following example shows how to define a simple linear equation system and solve it via calling the solving function in Numpy's \"linalg\" module. An example linear equation system is as follows:\n",
    "\n",
    "\\begin{equation}\n",
    "\\mathbf{A} \\mathbf{x} = \\mathbf{b}\n",
    "\\end{equation}\n",
    "\n",
    "\\begin{equation}\n",
    "\\begin{bmatrix}\n",
    "1  & 3  & 2 \\\\\n",
    "5  & 8  & 7 \\\\\n",
    "0  & -2 & 10 \n",
    "\\end{bmatrix}\n",
    "\\begin{bmatrix}\n",
    "x_0 \\\\\n",
    "x_1 \\\\\n",
    "x_2\n",
    "\\end{bmatrix}\n",
    "=\n",
    "\\begin{bmatrix}\n",
    "1 \\\\\n",
    "4 \\\\\n",
    "5\n",
    "\\end{bmatrix}\n",
    "\\end{equation}\n"
   ]
  },
  {
   "cell_type": "code",
   "execution_count": null,
   "metadata": {},
   "outputs": [],
   "source": [
    "A = np.array([[1,3,2],[5,8,7],[0,-2,10]])   #define matrix\n",
    "b = np.array([1,4,5])                       #define vector\n",
    "\n",
    "x = np.linalg.solve(A,b)      #solve with the \"solve(...)\" function in Numpy.\n",
    "print(\"solution x = \", x)"
   ]
  },
  {
   "cell_type": "markdown",
   "metadata": {},
   "source": [
    "#### other useful operations for matrices\n",
    "\n",
    "* determinant\n",
    "* diagonals\n",
    "* trace\n",
    "* eigen values and vectors"
   ]
  },
  {
   "cell_type": "code",
   "execution_count": null,
   "metadata": {},
   "outputs": [],
   "source": [
    "A = np.array([[1,3,2],[5,8,7],[0,10,1]])   #define matrix\n",
    "print(\"A = \\n\", A)\n",
    "\n",
    "#determination\n",
    "print(\"det(A) = \", np.linalg.det(A))\n",
    "\n",
    "#diagonals\n",
    "print(\"diag(A) = \", np.diag(A))\n",
    "\n",
    "#trace\n",
    "print(\"trace(A) = \", np.trace(A))\n",
    "\n",
    "#eigen values and vectors\n",
    "eig = np.linalg.eig(A)   #eig[0]: eigen values   eig[1]: eigen vectors\n",
    "\n",
    "print(\"eigen values = \", eig[0])\n",
    "print(\"eigen vectors = \\n\", eig[1])"
   ]
  },
  {
   "cell_type": "code",
   "execution_count": null,
   "metadata": {},
   "outputs": [],
   "source": []
  }
 ],
 "metadata": {
  "kernelspec": {
   "display_name": "Python 3",
   "language": "python",
   "name": "python3"
  },
  "language_info": {
   "codemirror_mode": {
    "name": "ipython",
    "version": 3
   },
   "file_extension": ".py",
   "mimetype": "text/x-python",
   "name": "python",
   "nbconvert_exporter": "python",
   "pygments_lexer": "ipython3",
   "version": "3.7.3"
  }
 },
 "nbformat": 4,
 "nbformat_minor": 1
}
