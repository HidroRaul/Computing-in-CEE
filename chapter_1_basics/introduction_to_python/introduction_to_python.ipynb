{
 "cells": [
  {
   "cell_type": "markdown",
   "metadata": {
    "slideshow": {
     "slide_type": "slide"
    }
   },
   "source": [
    "# Introduction to Python Programming\n",
    "\n",
    "by Xiaofeng Liu, Ph.D., P.E.\n",
    "Associate Professor\n",
    "\n",
    "Department of Civil and Environmental Engineering, \n",
    "Institute of CyberScience,\n",
    "Penn State University ,\n",
    "223B Sackett Building, University Park, PA 16802\n",
    "\n",
    "Web: http://water.engr.psu.edu/liu/\n"
   ]
  },
  {
   "cell_type": "markdown",
   "metadata": {
    "slideshow": {
     "slide_type": "subslide"
    }
   },
   "source": [
    "This notebook is a short introduction to Python programming. The purpose is to introduce enough material so you can get started. Python programming language itself, although relatively simple and easy to learn, is nevertheless a computer language. To learn and master a new language is not an easy task. It takes time, practice, and hours sitting in front of computer to debug and test. \n",
    "\n",
    "A list of good books and tutorials to learn on your own:\n",
    "* Python Essential Reference, David Beazley, Addison-Wesley Professional (on [Amazon](https://www.amazon.com/Python-Essential-Reference-Essentia-Developers-ebook/dp/B002EF2AQ6))\n",
    "* Python in a Nutshell, Alex Martelli, O'Reilly Media (on [Amazon](https://www.amazon.com/Python-Nutshell-Second-Alex-Martelli/dp/0596100469))\n",
    "* Google's Python Class for beginners [Goolge class](https://developers.google.com/edu/python/)\n",
    "\n",
    "More resources can be found online:\n",
    "* [python.org](https://wiki.python.org/moin/ReferenceBooks)\n",
    "* [https://python-forum.io](https://python-forum.io/Thread-A-List-of-Free-Python-Resources)\n",
    "\n",
    "Note: This introduction notebook uses Python v3.x. "
   ]
  },
  {
   "cell_type": "markdown",
   "metadata": {
    "slideshow": {
     "slide_type": "subslide"
    }
   },
   "source": [
    "The following is a list of things discussed in this notebook:\n",
    "* Brief history of Python \n",
    "* Core Python\n",
    "    * variable\n",
    "    * string\n",
    "    * tuples\n",
    "    * list\n",
    "    * arithmetic operations\n",
    "    * comparison operations\n",
    "    * conditionals\n",
    "    * loops\n",
    "    * type conversion\n",
    "    * reading input\n",
    "    * print output\n",
    "    * file I/O\n",
    "    * error control\n",
    "* Functions and modules\n",
    "    * functions\n",
    "    * modules\n"
   ]
  },
  {
   "cell_type": "markdown",
   "metadata": {},
   "source": [
    "## Brief history of Python\n",
    "\n",
    "Python is a programming language. But what is \"programming\"? A computer \"program\" is a collection of instructions which a computer can execute for a specific task. \n",
    "\n",
    "### What is a computer program?\n",
    "A computer program or code is written by a computer programmer (like you in this class) with a programming language, for example\n",
    "* Python\n",
    "* C\n",
    "* C++\n",
    "* Fortran\n",
    "* Java\n",
    "* Matlab\n",
    "* VBA\n",
    "* ...\n",
    "\n",
    "Computer is a part of our daily life (both personal and professional). We deal with computer through computer programs all the time, for example, using an email client to check emails, an app to chat with someone, or using Excel to finish your homework. In addition, programming (whether you call yourself a programmer or not) has become an essential skill which can make our life much easier. You may do not realize that you actually do programming in various forms. One example is when you type in formulas in an Excel spreadsheet cell, you are actually programming (or coding). More advanced form of programming of couse needs you to actually write code using certain computer language. That is what we will do in this class. \n",
    "\n",
    "### Why Python?\n",
    "\n",
    "Computer programming needs computer language. Python is one of the most popular choices. It has been used in almost all areas in engineering and science, for example scientific computing, data analysis and visualization, and artifitial intelligience. The popoularity of the Python language is due to its simmple syntax, easy to learn and use, cross-platform support (Windows, Mac OS, and Linux), large libraries (you do not need to re-invent the wheel), and most importantly free.\n",
    "\n",
    "The Python language was created by a Dutch programmer [Guido van Rossum](https://en.wikipedia.org/wiki/Guido_van_Rossum) in 1991. The aim was an interpreted, high-level, general-purpose, and easy to use programming language. The official Python website is [here](https://www.python.org/). A high-level programming language means that a programmer does not need to worry about low level things like computer structure or memory management. As you learn Python programming in this course, you will find Python code is relatively easy to read and write. The reason is that it has minimum keywords, simple structure, and clear syntax. In fact, most of Python codes read like plain English.\n",
    "\n",
    "Since Python is an interpreted language, the first requirement for using Python is to install a Python Interpretor which translates the Python code to machine code which is understandable and executable by a computer. There are several ways to install Python, see the [Python installation guide notebook](../installation_of_Python_and_libraries/installation_of_Python_and_libraries.ipynb). \n",
    "\n",
    "The benefits of an interpreted language include the following: there is no need to complile and link, speedy development. However, since it is interpreted, the code can not run without an interpretor. \n",
    "\n",
    "Because of the extrme popularity of Python, there are probably zillions of tutorials, examples, blog posts, lecture notes (including our class), and textbooks available. As a beginner, you may feel lost quickly among all these choices of learning mateirals. One suggest is that to start with something simple and short, and choose those covering what you need to learn to achieve your objectives. Programming in Python can be as easy as defining some variables and then calculating a result based on a given formular, or can be as complex as building a software suite. Once you start to build the foundations for Python programming (the same as any other programming language), you can add more skill set along the way. The skills are learned mostly through experience. This is how most programmers learn. They spend lots of hours sitting front of computers writing/debugging the code to ensure correctness, accuracy, robustness, and sometime user-friendliness.\n",
    "\n",
    "To start with, here are some suggestions on tutorials for beginners:\n",
    "* [python.org's beginner guide](https://wiki.python.org/moin/BeginnersGuide)\n",
    "\n",
    "Currently, there are two major versions of Python used in practice, i.e., versions 2.x and 3.x. Version 2.x is the legacy and 3.x is the current and future.  The final version 2.x is the version 2.7 released in mid-2010 which will receive no new developement. The version 3.x started in 2008 and several versions have been released since then. Which version you choose depends on several factors. You can read the suggestion here at [python.org](https://wiki.python.org/moin/Python2orPython3) and reference the short notebook I wrote on the [major differences between v2.x and v3.x](../differences_between_python_v2_and_v3/differences_between_python_v2_and_v3.ipynb).\n",
    "\n",
    "At the end of this notebook, there is a section discussing on how to check the version of Python you have on your computer, see [here](#check_python_version). \n",
    "\n",
    "\n",
    "### What next?\n",
    "\n",
    "From this point on, I assume that you have installed and tested Python on your computer or have access to such a computer. If not, please consult the [tutorial on installation](../installation_of_Python_and_libraries/installation_of_Python_and_libraries.ipynb).\n",
    "\n",
    "Next, we will start to discuss some of the most basic elements of Python programming. These are the foundational knowledge for our class. \n",
    "\n"
   ]
  },
  {
   "cell_type": "code",
   "execution_count": null,
   "metadata": {
    "collapsed": true
   },
   "outputs": [],
   "source": [
    "#Do not change this cell. It is for setting up things.\n",
    "\n",
    "%matplotlib inline\n",
    "\n",
    "#import the preamble in the parent directory\n",
    "import sys\n",
    "sys.path.append(\"../\")\n",
    "import preamble"
   ]
  },
  {
   "cell_type": "markdown",
   "metadata": {
    "slideshow": {
     "slide_type": "slide"
    }
   },
   "source": [
    "## Core Python\n",
    "\n",
    "This section introduce some core concepts in Python.\n",
    "\n",
    "Before we begin, here is a list of things to keep in mind regarding the Pytnon language:\n",
    "* All sequences (arrays for example) have zero offset, meaning the index for the first element of an array is 0. This is because Python is influenced by C++ and C. In deed, the Python language itself is implemented with C. For comparsion, arrays in programming language like Fortan is one-based. \n",
    "* Python is an object-oriented programming (OOP) language. However, we does not heavily rely on concepts such as class and object in OOP. Some examples include arrays in Numpy.\n",
    "* Python is case sensitive. Therefore, the names \"var\", \"Var\", and \"VAR\" are different things. Other case sensitive programming languages include C and C++; and other case insensitive programming languages include Fortran. \n",
    "* In Python code, a comment starts with the pound sign \"#\".\n",
    "* Python uses indentation for blocks and grouping of statements. The indentation can be either four spaces or a tab. For example, the following code has a loop (do not worry about the details of the syntax for now) from $i$ =1 to 5, calcuates the square of $i$, and then print it out. There is nothing like \"end for\" to close the block. The second call of the print function is outside of the \"for\" loop simply because it has no indentation. Indentations can be nested too."
   ]
  },
  {
   "cell_type": "code",
   "execution_count": 1,
   "metadata": {},
   "outputs": [
    {
     "name": "stdout",
     "output_type": "stream",
     "text": [
      "i, var1 =  1 1\n",
      "i, var1 =  2 4\n",
      "i, var1 =  3 9\n",
      "i, var1 =  4 16\n",
      "Out of the block above.\n"
     ]
    }
   ],
   "source": [
    "for i in range (1,5):\n",
    "    var1 = i**2\n",
    "    print(\"i, var1 = \", i, var1)\n",
    "    \n",
    "print(\"Out of the block above.\")"
   ]
  },
  {
   "cell_type": "markdown",
   "metadata": {},
   "source": [
    "**Variables**: Variables are used in most computer languages to store value in computer memory. A variable has name, type, and value. The value can be changed. In Python, the type can also be dynamically changed. \n",
    "    \n",
    "Note in the following Python code: \n",
    "    * the sign # denotes the beginning of a comment. Anything in the comment is ignored by Python interpreter.\n",
    "    * the **print** function is a Python function for printing.\n",
    "    * to execute the code cell, click your mouse on the cell to select it and then press simutaniously the keys \"Shift\"+\"Enter\"."
   ]
  },
  {
   "cell_type": "code",
   "execution_count": null,
   "metadata": {
    "collapsed": true,
    "slideshow": {
     "slide_type": "subslide"
    }
   },
   "outputs": [],
   "source": [
    "var1 = 3   #var1 is of integer type\n",
    "print(var1, type(var1))   #print the value and type of variable var1"
   ]
  },
  {
   "cell_type": "code",
   "execution_count": null,
   "metadata": {
    "collapsed": true
   },
   "outputs": [],
   "source": [
    "var1 = 3.14  #var 1 is now re-asigned type as float with a new value\n",
    "print(var1, type(var1))   #print the value and type of variable var1"
   ]
  },
  {
   "cell_type": "code",
   "execution_count": null,
   "metadata": {
    "collapsed": true
   },
   "outputs": [],
   "source": [
    "var1 = \"hello\"  #var 1 is now re-asigned type as string with a new value \n",
    "print(var1, type(var1))   #print the value and type of variable var1"
   ]
  },
  {
   "cell_type": "markdown",
   "metadata": {},
   "source": [
    "Since Python is an object-oriented programming language, almost everything in it is an object, which in stored in the computer memory with an address and a type. You already know how to check the \"type\". Probably a less used function is check the memory address of an object with the \"id\" function:"
   ]
  },
  {
   "cell_type": "code",
   "execution_count": null,
   "metadata": {
    "collapsed": true
   },
   "outputs": [],
   "source": [
    "var1 = 3 #var1 is an interger object\n",
    "print(var1, id(var1)) #print its value and address in memory"
   ]
  },
  {
   "cell_type": "markdown",
   "metadata": {},
   "source": [
    "Variables in Python are dynamically typed. There is no need to declare a variable and its type. When assigning a value to a variable, its type will be dynamically determined and changed accordingly. For example, "
   ]
  },
  {
   "cell_type": "code",
   "execution_count": null,
   "metadata": {
    "collapsed": true
   },
   "outputs": [],
   "source": [
    "# assign the integer value 6 to variable x. After\n",
    "# this assignment, the type of x is int.\n",
    "x = 6\n",
    "\n",
    "#print the type of x\n",
    "print(type(x))\n",
    "\n",
    "# now reassign the string value of 'hello' to x. After\n",
    "# this assignment, type of x will be str.\n",
    "x = 'hello'\n",
    "\n",
    "print(type(x))"
   ]
  },
  {
   "cell_type": "markdown",
   "metadata": {
    "slideshow": {
     "slide_type": "slide"
    }
   },
   "source": [
    "**Strings**: A string is a sequence of characters enclosed in single or double quotes (we already saw this in the previous cell)."
   ]
  },
  {
   "cell_type": "code",
   "execution_count": null,
   "metadata": {
    "collapsed": true
   },
   "outputs": [],
   "source": [
    "str1 = 'Hello world!'\n",
    "print(str1)"
   ]
  },
  {
   "cell_type": "markdown",
   "metadata": {},
   "source": [
    "Strings can be concatenated with the plus sign \"+\", or sliced with the \":\" operator. For example,"
   ]
  },
  {
   "cell_type": "code",
   "execution_count": null,
   "metadata": {
    "collapsed": true
   },
   "outputs": [],
   "source": [
    "str2 = \"This is a string\"\n",
    "str3 = \" and that is another string\"\n",
    "str23 = str2+str3   #concatenation\n",
    "print(str23)\n",
    "\n",
    "print(str23[3:10])  #slicing"
   ]
  },
  {
   "cell_type": "markdown",
   "metadata": {},
   "source": [
    "The concetp of arrays in Python is implemented as four collection data types:\n",
    "* **Lists**: A list is a collection of items which are ordered and changable. Duplicates are allowed. Elements can be of different types.\n",
    "* **Tuple**: A tuple is a collectio of items which are ordered and unchangable. Duplicates are allowed. Elements can be of different types.\n",
    "* **Set**: A set is a collection of items which are unordered and unindexed. Duplicates are not allowed.\n",
    "* **Dictionary**: A dictionary is a collection of items which are unordered, changeable, and indexed. Duplicates are not allowed.\n",
    "\n",
    "Arrays are also implemented in some libraries such as Numpy.\n",
    "\n",
    "The following are some examples demonstrating the typical use of list and tuple:"
   ]
  },
  {
   "cell_type": "code",
   "execution_count": null,
   "metadata": {
    "collapsed": true
   },
   "outputs": [],
   "source": [
    "# List\n",
    "alist = [1.0, 3.0, 5.5]  #create a list with three elements\n",
    "alist.append(1.0)   #append an element (which has the same value of alist[0] and it is allowed)\n",
    "print(alist)\n",
    "print(alist[2])     #Access the items in the list is through indexing\n",
    "\n",
    "alist[2] = \"t1\"     #change the value of one element (notice this new value is a string and has different type than others)\n",
    "print(alist)\n",
    "\n",
    "#loop through a list\n",
    "for x in alist:\n",
    "    print(x)\n",
    "    \n",
    "#Python has a set of built-in methods for list. You can read the documentation and play around with them.\n",
    "#append(), clear(), copy(), count(), extend(), index(), insert(), pop(), remove(), reverse(), sort()\n",
    "\n",
    "#You can also get the length of the list with the len() function:\n",
    "print(\"The length of the list is \",len(alist))"
   ]
  },
  {
   "cell_type": "markdown",
   "metadata": {},
   "source": [
    "We can use list to store a vector or a matrix. For vector, it is easy to see. For a matrix, we need to use a nested list. For example:"
   ]
  },
  {
   "cell_type": "code",
   "execution_count": null,
   "metadata": {
    "collapsed": true
   },
   "outputs": [],
   "source": [
    "avector = [1.0, 2.1, 3.2]\n",
    "\n",
    "#the backslash \"\\\" here signifies continuation of line. Note: it is not allowed to have anything following the backslash,\n",
    "#not even a space.\n",
    "amatrix = [[3.0, 2.4, 5.5],\\\n",
    "           [0.4, 2.3, 9.0],\\\n",
    "           [1.2, 3.0, 10.0]]\n",
    "\n",
    "print(avector)\n",
    "print(amatrix)\n",
    "print(amatrix[1][2]) #print the matrix entry on row 2 and column 3."
   ]
  },
  {
   "cell_type": "code",
   "execution_count": null,
   "metadata": {
    "collapsed": true
   },
   "outputs": [],
   "source": [
    "# Tuple\n",
    "atuple = (\"red\",\"yellow\",\"green\",(11,15,2018)) #create a tuple with four elements. Also notice there is nested tuple (11,15,2018) within.\n",
    "print(atuple)\n",
    "\n",
    "print(atuple[1])  #access tuple leemnt through indexing\n",
    "\n",
    "#atuple[1]=\"purple\" #Tuples are unchangeable. So this assignment will throw an error. Uncomment it to see the error.\n",
    "\n",
    "#loop through a tuple\n",
    "for x in atuple:\n",
    "    print(x)\n",
    "    \n",
    "#Python has a set of built-in methods for tuple. You can again read the documentation and play around with them. \n",
    "#Again, a tuple is not changeable. Thus, there is no methods like append() or insert().\n",
    "#count(), index()\n",
    "\n",
    "#You can also get the length of the tuple with the len() function:\n",
    "print(\"The length of the tuple is \", len(atuple))"
   ]
  },
  {
   "cell_type": "markdown",
   "metadata": {},
   "source": [
    "### Flow controls in Python:\n",
    "\n",
    "As in any other programming language, Python provides flow controls such that the code can make some decisions and execute different parts of the code depending on different conditions. This where the conditionals are designed for. Also, the code may need to repeat a block of statements. This can be achieved through loops.\n",
    "\n",
    "* conditionals: Python provides the \"if\" statement.\n",
    "* loops: Python provides \"while\" and \"for\" statements."
   ]
  },
  {
   "cell_type": "code",
   "execution_count": null,
   "metadata": {
    "collapsed": true
   },
   "outputs": [],
   "source": [
    "#Conditional \"if\" example\n",
    "\n",
    "hidden_value = 3\n",
    "\n",
    "#ask the user to input an integer number\n",
    "val = int(input(\"Input an integer number: \"))\n",
    "\n",
    "if val > hidden_value:\n",
    "    print(\"You input value of \", val, \"is higher than the hidden value.\")\n",
    "else:\n",
    "    print(\"You input value of \", val, \"is lower than or equal to the hidden value.\")\n"
   ]
  },
  {
   "cell_type": "code",
   "execution_count": null,
   "metadata": {
    "collapsed": true
   },
   "outputs": [],
   "source": [
    "# While loops execute a block of operations if the condition is true. \n",
    "\n",
    "alist = [1.0, 3.0, 5.5, 4.1, -2.1] #create a list with 5 elements\n",
    "\n",
    "n = 1   #counter\n",
    "\n",
    "while n < len(alist):   #print each element of the list until the counter n is larger than the list length\n",
    "    print(alist[n-1])\n",
    "    n = n + 1"
   ]
  },
  {
   "cell_type": "code",
   "execution_count": null,
   "metadata": {
    "collapsed": true
   },
   "outputs": [],
   "source": [
    "# A \"for\" loop iterates over a list of objects. We have used \"for\" loop in previous examples\n",
    "\n",
    "for i in range(5):\n",
    "    print(i)\n",
    "    \n",
    "for i in [-1, 0, 1]:  #another example\n",
    "    print(i)"
   ]
  },
  {
   "cell_type": "markdown",
   "metadata": {},
   "source": [
    "## Interaction with user\n",
    "\n",
    "Many times, the code needs in input from the user. Also, the code needs to print information to the user. \n",
    "\n",
    "* Get input from user with the \"input\" function\n",
    "* Print output with the \"print\" function\n",
    "\n",
    "We have seen the use of both in previous examples. "
   ]
  },
  {
   "cell_type": "markdown",
   "metadata": {},
   "source": [
    "## File I/O\n",
    "\n",
    "File I/O in Python is through an object of the \"file\" class (here is another example of OOP in Python), and then use its \"read\" and \"write\" methods. Remember, after you are done, you should close the file.\n",
    "\n",
    "Here is an example of simple read and write. More complex use of file I/O include formatting, file position, etc. Please consult Python documentation and examples. "
   ]
  },
  {
   "cell_type": "code",
   "execution_count": null,
   "metadata": {
    "collapsed": true
   },
   "outputs": [],
   "source": [
    "# this example first write a string to a file; then read it back\n",
    "\n",
    "str1 = \"this is a test string\"\n",
    "\n",
    "# open a file for write\n",
    "fo = open(\"test.dat\",\"w\")  #Here, \"w\" means write\n",
    "fo.write(str1)\n",
    "fo.close()\n",
    "\n",
    "# you can check the existence of a file called \"test.dat\" in the same folder as this notebook\n",
    "\n",
    "# open the file for read\n",
    "fi = open(\"test.dat\",\"r\")  #Here, \"r\" means read\n",
    "str2 = fi.read()   #read the content of the file and assign it to str2\"\n",
    "print(str2)\n",
    "fi.close()\n"
   ]
  },
  {
   "cell_type": "markdown",
   "metadata": {},
   "source": [
    "## Functions and modules\n",
    "\n",
    "A function is a set of code instructions grouped together which can be called by others. Caller can pass data to the function and receive result back from the function. Before you can use a function, it should be firstly defined with the \"def\" keyword."
   ]
  },
  {
   "cell_type": "code",
   "execution_count": null,
   "metadata": {
    "collapsed": true
   },
   "outputs": [],
   "source": [
    "def my_function(a,b): # values of a and b are passed into the function\n",
    "    return a**2 + b**2\n",
    "\n",
    "a = 2.0\n",
    "b = 3.0\n",
    "c = my_function(a,b)  #call the defined function\n",
    "print(\"c=a**2+b**2= \", c)\n"
   ]
  },
  {
   "cell_type": "markdown",
   "metadata": {},
   "source": [
    "A special function in Python is call the \"lambda\" function which is a simple anonymous function. It can take any number of arguments, but can only have one experssion. The example above can be equivalently defined using the \"lambda\" statement as:"
   ]
  },
  {
   "cell_type": "code",
   "execution_count": null,
   "metadata": {
    "collapsed": true
   },
   "outputs": [],
   "source": [
    "a = 2.0\n",
    "b = 3.0\n",
    "c = lambda a,b : a**2+b**2\n",
    "\n",
    "print(\"c=a**2+b**2= \", c(a,b))\n"
   ]
  },
  {
   "cell_type": "markdown",
   "metadata": {},
   "source": [
    "If one further groups functions together and put them into a python file, then the resulted file is a module. Modules in Python are equivalent of libraries in other programming languages such as C and C++. For example, the provided file \"test_module.py\" contains the function we defined in previous example. The name of the module is the same as the name of the file. We can now load the module and call the function within as:"
   ]
  },
  {
   "cell_type": "code",
   "execution_count": null,
   "metadata": {
    "collapsed": true
   },
   "outputs": [],
   "source": [
    "from test_module import *\n",
    "\n",
    "a = 2.0\n",
    "b = 3.0\n",
    "\n",
    "c = my_function(a,b)  #call the defined function\n",
    "print(\"c=a**2+b**2= \", c)"
   ]
  },
  {
   "cell_type": "markdown",
   "metadata": {},
   "source": [
    "For an existing module, you can examine its contents with the \"dir()\" method. For example, the following examines the contents and the result shows the \"my_function\" function in addition to several other attributes. For the exact meaning of each of these attributes, please consult the Python documentation."
   ]
  },
  {
   "cell_type": "code",
   "execution_count": null,
   "metadata": {
    "collapsed": true
   },
   "outputs": [],
   "source": [
    "import test_module\n",
    "dir(test_module)"
   ]
  },
  {
   "cell_type": "markdown",
   "metadata": {},
   "source": [
    "The power of Python is mainly due to the vast number of modules people developed which greatly extend the functionality of Python. \n",
    "\n",
    "Python itself comes with many useful modules. For example, core Python only comes with limited number of mathematical functions, for example \"abs()\", \"min()\", and \"max()\". Most other math functions are provided in the \"math\" module. To use these functions, you have to load the \"math\" module explicitly:"
   ]
  },
  {
   "cell_type": "code",
   "execution_count": null,
   "metadata": {
    "collapsed": true
   },
   "outputs": [],
   "source": [
    "from math import *\n",
    "\n",
    "print(\"acos(pi/6) = \", acos(pi/6.0))  # the constant pi is indeed defined the math module "
   ]
  },
  {
   "cell_type": "markdown",
   "metadata": {},
   "source": [
    "Another very useful module is \"numpy\", which is used by many scientific computing code written in Python. The core functionality of \"numpy\" is that it provides a high-performance multidimensional array object and functions to work on these arrays. More details can be found on its website at [numpy.org](http://www.numpy.org).\n",
    "\n",
    "The numpy array is similar to list. But numpy array should have all elements of the same type, and is indexed by a tuple of nonnegative integers. The rank of an numpy array is the number of dimensions and its shape is defined as a tuple containing the size of the array in each dimension. Please note that numpy's array does not have the attribute called \"rank\". Instead it is called \"ndim\".\n",
    "\n",
    "The following demonstrates how to create, access, modify, and apply operations on numpy arrays."
   ]
  },
  {
   "cell_type": "code",
   "execution_count": null,
   "metadata": {
    "collapsed": true
   },
   "outputs": [],
   "source": [
    "import numpy as np   #import the numpy array and re-name it as np\n",
    "\n",
    "#The first way to create a numpy array is to initialize it with a list\n",
    "avector = np.array([2.0, 3.0, -1.2])      #create a vector: rank 1, shape 3x1\n",
    "print(\"avector =\",avector)                #print the vector\n",
    "print(\"avector.rank = \", avector.ndim)    #print the vector's rank\n",
    "print(\"avector.shape = \", avector.shape)  #print the vector's shape\n",
    "print(\"avector[1] = \", avector[1])        #access the second element of the vector\n",
    "avector[1] = -5.0                         #modify the value of the second element\n",
    "print(\"avector[1] = \", avector[1])        #check the modified value\n",
    "\n",
    "amatrix = np. array([[1.0, 2.0, 3.0],[4.0,5.0,6.0]]) #create a rand 2 array\n",
    "print(\"amatrix =\",amatrix)                #print the array\n",
    "print(\"amatrix.rank = \", amatrix.ndim)    #print the array's rank\n",
    "print(\"amatrix.shape = \", amatrix.shape)  #print the array's shape\n",
    "print(\"amatrix[0,1] = \", amatrix[0,1])    #access the second element on row 1 and column 2\n",
    "amatrix[0,1] = -5.0                       #modify the value of the second element\n",
    "print(\"amatrix[0,1] = \", amatrix[0,1])    #check the modified value\n",
    "\n"
   ]
  },
  {
   "cell_type": "markdown",
   "metadata": {},
   "source": [
    "You can also create/initialize numpy arrays with the libraries several functions, which include \"zeros()\", \"ones()\", \"full()\", and \"eyes()\". The following shows how to use these functions."
   ]
  },
  {
   "cell_type": "code",
   "execution_count": null,
   "metadata": {
    "collapsed": true
   },
   "outputs": [],
   "source": [
    "import numpy as np\n",
    "\n",
    "a = np.eye(3)         # create an identity matrix\n",
    "print(a)  \n",
    "\n",
    "b = np.ones((3,2))    # create an array of all ones\n",
    "print(b)  \n",
    "\n",
    "c = np.zeros((3,3))   # create an array of all zeros\n",
    "print(c)              \n",
    "\n",
    "d = np.full((3,3), 2.1) # create a constant array where the constant is given\n",
    "print(d)               \n",
    "\n",
    "e = np.random.random((3,3))  # create an array filled with random values\n",
    "print(e)                    "
   ]
  },
  {
   "cell_type": "markdown",
   "metadata": {},
   "source": [
    "The third way to create a numpy array is to use the \"arange()\" function, which is similar to the \"range()\" function. However, \"arange()\" returns a numpy array while \"range()\" returns a list."
   ]
  },
  {
   "cell_type": "code",
   "execution_count": null,
   "metadata": {
    "collapsed": true
   },
   "outputs": [],
   "source": [
    "import numpy as np\n",
    "\n",
    "a = np.arange(5)        # create array of integer type because the argument is an integer\n",
    "print(a)  \n",
    "\n",
    "b = np.arange(5.0)      # create array of float type because of the argument is a float\n",
    "print(b) \n",
    "\n",
    "c = np.arange(1.0,6.0,0.5) # create an array starting from 1.0 and ending at 6.0 (excluded) with an increment of 0.5\n",
    "print(c)"
   ]
  },
  {
   "cell_type": "markdown",
   "metadata": {},
   "source": [
    "For numpy arrays, the basic mathematical operations are elementwise, for example \"add\", \"subtract\", \"multiply\", \"divide\", and \"sqrt\". "
   ]
  },
  {
   "cell_type": "code",
   "execution_count": null,
   "metadata": {
    "collapsed": true
   },
   "outputs": [],
   "source": [
    "import numpy as np\n",
    "\n",
    "a = np.array([[1,2],[3,4]]) #create a 2x2 array\n",
    "b = np.array([[5,6],[7,8]]) #create another 2x2 array\n",
    "\n",
    "# Elementwise sum: either use \"+\" or the \"add()\" function. They \n",
    "# produce the same results.\n",
    "print(a + b)\n",
    "print(np.add(a, b))\n",
    "\n",
    "# Elementwise subtraction: either tuse \"-\" or the \"subtract()\" function. \n",
    "# They produce the same results.\n",
    "print(a - b)\n",
    "print(np.subtract(a, b))\n",
    "\n",
    "# Elementwise product: either use \"*\" or the \"multiply()\" fuction. \n",
    "# They produce the same results.\n",
    "print(a * b)\n",
    "print(np.multiply(a, b))\n",
    "\n",
    "# Elementwise division: either use \"/\" or the \"divide()\" function.\n",
    "# They produce the same results.\n",
    "print(a / b)\n",
    "print(np.divide(a, b))\n",
    "\n",
    "# Elementwise square root: use the \"sqrt()\" function.\n",
    "print(np.sqrt(a))"
   ]
  },
  {
   "cell_type": "markdown",
   "metadata": {},
   "source": [
    "Numpy also provides many other useful functions to perform operations on arrays, for example \"diagonal()\", \"trace()\", \"dot()\", \"inner()\", and \"outer()\". The meaning and use of these function can be found in the Numpy documentation. The transpose of an array is simply the \"T\" attribute of the array."
   ]
  },
  {
   "cell_type": "code",
   "execution_count": null,
   "metadata": {
    "collapsed": true
   },
   "outputs": [],
   "source": [
    "import numpy as np\n",
    "\n",
    "a = np.array([[1,2],[3,4]]) #create a 2x2 array\n",
    "print(\"a:\")\n",
    "print(a)\n",
    "print(\"a.T = \")\n",
    "print(a.T)"
   ]
  },
  {
   "cell_type": "markdown",
   "metadata": {},
   "source": [
    "## Plotting in Python\n",
    "\n"
   ]
  },
  {
   "cell_type": "code",
   "execution_count": null,
   "metadata": {
    "collapsed": true
   },
   "outputs": [],
   "source": []
  },
  {
   "cell_type": "markdown",
   "metadata": {},
   "source": [
    "## Introduction to computing methods\n",
    "\n",
    "### Introduction\n",
    "* Objectives: \n",
    "     * use numerical methods to solve mathematical models (equations) in engineering and science that are too complex to be solved analytically\n",
    "     * data processing and visualization\n",
    "     \n",
    "* Examples relevant to civil and environmental engineering\n",
    "\n",
    "* Numerical methods (algorithms) are usually implemented as a computer program\n",
    "    * automation: good for problems require large computational effort\n",
    "    * report: a program can be used many times with different input\n",
    "    \n",
    "* Numerical representation:\n",
    "    * data types: integer, float, string, complex, ...\n",
    "    * significant digits\n",
    "    * precision: how close a number represents the value it is representing\n",
    "    * accuracy: how close a number agrees with the true value\n",
    "    * precision vs. accuracy: precision-> how many digits used in numerical calculations, accuracy -> determined by errors introduced in numerical approximation. \n",
    "    * How to quantify precision and accuracy? Use errors. \n",
    "    \n",
    "### Classification of errors:\n",
    "* roundoff error: caused by finite number of bits used in computer to represent a value. For example, the use of 32 bits or 64 bits to present a float is called single precision and double precision, respectively. They can only have 7 or 13 significant decimals, respectively. This can cause problem, for example, to calculate the difference between two close values.\n",
    "\n",
    "* approximation error: for example, in differential equations, exact derivative is approximated by algebraic difference scheme:\n",
    "\\begin{equation}\n",
    "slope: \\frac{dy}{dx} \\approx \\frac{y_2 - y_1}{x_2 - x_1}\n",
    "\\end{equation}\n",
    "\n",
    "* iteration error: error in iterative methods. For an iterative method to converge, as iteration number increases, the difference between calculated result and exact solution should go to zero. However, we can only perform finite number of iterations, which induces iteration error.\n",
    "\n",
    "To measure the magnitude of error, we define absolution error and relative error. Let $\\widetilde{x}$ be an approximation of the true value $x$. Then, the absolute error is defined as $\\widetilde{x}-x$ and the relative error is defined as $(\\widetilde{x}-x)/x$ (if $x$ is non-zero). \n",
    "\n",
    "The \"significant digits\" is the measure of accuracy of a number (resolution if the data is from measurement). It include all digits excluding all leading zeros. For example the number 0.0045 has two significant digits, and 123.00 has five significant digits. Note that for a float, all zeros to the right of last non-zero digit should be counted as significant. For example, the number 0.004500 has four significant digits.\n",
    "\n",
    "### Number representation in number systems:\n",
    "* the base-10 system (decimal): common for human communication (maybe rooted in the fact that every human has ten fingers). For example, $346=3 \\times 10^2+4\\times10^1+6\\times10^0$\n",
    "* the base-2 system (binary): this is used in digital computers. A number is represented by a number of binary bits. For example, for a eight-bit unsigned integer number\n",
    "\\begin{equation}\n",
    "10010101 = 1\\times 2^7 + 0\\times 2^6 + 0 \\times 2^5+ 1 \\times 2^4+ 0 \\times 2^3+ 1 \\times 2^2+ 0 \\times 2^1+ 1 \\times 2^0 = 149\n",
    "\\end{equation}\n",
    "\n",
    "Python provides an easy way to convert between binary and decimal. An example of converting a binary string to decimal is"
   ]
  },
  {
   "cell_type": "code",
   "execution_count": 11,
   "metadata": {},
   "outputs": [
    {
     "data": {
      "text/plain": [
       "-149"
      ]
     },
     "execution_count": 11,
     "metadata": {},
     "output_type": "execute_result"
    }
   ],
   "source": [
    "int('-10010101',2)"
   ]
  },
  {
   "cell_type": "markdown",
   "metadata": {},
   "source": [
    "or simply add \"0b\" in front of the binary string"
   ]
  },
  {
   "cell_type": "code",
   "execution_count": 7,
   "metadata": {},
   "outputs": [
    {
     "data": {
      "text/plain": [
       "149"
      ]
     },
     "execution_count": 7,
     "metadata": {},
     "output_type": "execute_result"
    }
   ],
   "source": [
    "0b10010101"
   ]
  },
  {
   "cell_type": "markdown",
   "metadata": {},
   "source": [
    "Conversely, an example of converting a decimal to a binary is"
   ]
  },
  {
   "cell_type": "code",
   "execution_count": 8,
   "metadata": {},
   "outputs": [
    {
     "data": {
      "text/plain": [
       "'0b10010101'"
      ]
     },
     "execution_count": 8,
     "metadata": {},
     "output_type": "execute_result"
    }
   ],
   "source": [
    "bin(149)"
   ]
  },
  {
   "cell_type": "code",
   "execution_count": 13,
   "metadata": {},
   "outputs": [
    {
     "data": {
      "text/plain": [
       "'-0b10010101'"
      ]
     },
     "execution_count": 13,
     "metadata": {},
     "output_type": "execute_result"
    }
   ],
   "source": [
    "bin(-149)   #add a negative sign"
   ]
  },
  {
   "cell_type": "markdown",
   "metadata": {},
   "source": [
    "The above methods only work for unsigned and singed integers. For float, the conversion is more complicated. There is no standard Python function for this conversion. However, there are other ways. For example, one can write a conversion function or use packages such as \"bitstring\". The package \"bitstring\" is not installed with Anaconda by default. So if you want to use it, you need to first install it. You can use the following command:\n",
    "```\n",
    "conda install -c bioconda bitstring\n",
    "```\n",
    "\n",
    "Then you can use the following code for conversion. See the documentation of \"bitstring\" for details."
   ]
  },
  {
   "cell_type": "code",
   "execution_count": 19,
   "metadata": {},
   "outputs": [
    {
     "name": "stdout",
     "output_type": "stream",
     "text": [
      "11000000101001101100101100101001\n",
      "0100011010000101010011001001101101001000100111110111011011100101\n"
     ]
    }
   ],
   "source": [
    "import bitstring\n",
    "\n",
    "f1 = bitstring.BitArray('float:32=-5.2123')\n",
    "print(f1.bin)\n",
    "\n",
    "f2 = bitstring.BitArray('float:64=5.4e31')\n",
    "print(f2.bin)"
   ]
  },
  {
   "cell_type": "markdown",
   "metadata": {},
   "source": [
    "In the above example, we used to floats: one is 32 bits (single precision) and the other is 64 bits (double precision). Note that the exact bits used to represent the floating point number is platform dependent. Most computers conform to the [IEEE 754 standard](https://en.wikipedia.org/wiki/IEEE_754). Within this standard: \n",
    "* a single precision float has 32 bits (1 bit for the sign, 8 bits for the exponent, and 23 for the value); thus it has 7 decimal digits of precision.\n",
    "* a double precision float has 64 bits (1 bit for the sign, 11 bits for the exponent, and 52 bits for the value); thus it has 16 decimal digits of precision.\n",
    "\n",
    "Double has two times more precision then a single float. An example is shown below where the result of \"1.0/3.0\" is assigned to single and double precision float variables, respectively. Notice the difference in the number decimals and the difference (precision error) is about $10^{-8}$."
   ]
  },
  {
   "cell_type": "code",
   "execution_count": 33,
   "metadata": {},
   "outputs": [
    {
     "name": "stdout",
     "output_type": "stream",
     "text": [
      "1./3. (32 bits):  0.33333334\n",
      "1./3. (64 bits):  0.3333333333333333\n",
      "difference (precision errror):  9.934107481068821e-09\n"
     ]
    }
   ],
   "source": [
    "import numpy as np\n",
    "\n",
    "x32=np.float32(1./3.)\n",
    "x64=np.float64(1./3.)\n",
    "diff = x32-x64\n",
    "\n",
    "print(\"1./3. (32 bits): \", x32)\n",
    "print(\"1./3. (64 bits): \", x64)\n",
    "print(\"difference (precision errror): \", diff)\n"
   ]
  },
  {
   "cell_type": "markdown",
   "metadata": {},
   "source": [
    "The root of rounding errors is the inexactness (error) in the representation of float point numbers on a digital computer and the arithmetic operations on them. To measure the roundoff error in the float point number system, one can use the machine epsilon. Machine epsilon $\\epsilon_{machine}$ is defined as the smallest number on a computer such that\n",
    "\\begin{equation}\n",
    "1 + \\epsilon_{machine} > 1\n",
    "\\end{equation}\n",
    "It is the difference between 1 and the next nearest number representable on a computer. As such, a small trick to find out the machine precision is as follows:"
   ]
  },
  {
   "cell_type": "code",
   "execution_count": 39,
   "metadata": {},
   "outputs": [
    {
     "name": "stdout",
     "output_type": "stream",
     "text": [
      "machine precision for double float:  2.220446049250313e-16\n",
      "machine precision for single float:  1.1920929e-07\n"
     ]
    }
   ],
   "source": [
    "print(\"machine precision for double float: \",abs(8./3 - 5./3 - 1.0))\n",
    "print(\"machine precision for single float: \",abs(np.float32(8./3) - np.float32(5./3) - np.float32(1.0)))"
   ]
  },
  {
   "cell_type": "markdown",
   "metadata": {},
   "source": [
    "By default, Python treat the float with double precision. Thus, the above code shows the machine precision for a double float and a single float is close to $2.2e^{-16}$ and $1.19e^{-9}$, respectively. Another way to find out the machine precision is to use Numpy:"
   ]
  },
  {
   "cell_type": "code",
   "execution_count": 36,
   "metadata": {},
   "outputs": [
    {
     "name": "stdout",
     "output_type": "stream",
     "text": [
      "2.220446049250313e-16\n",
      "1.1920929e-07\n"
     ]
    }
   ],
   "source": [
    "print(np.finfo(float).eps)\n",
    "print(np.finfo(np.float32).eps)"
   ]
  },
  {
   "cell_type": "markdown",
   "metadata": {},
   "source": [
    "Based on the definition of machine epsilon, one can in fact calculate its value based on the following formula:\n",
    "\\begin{equation}\n",
    "\\epsilon_{machine} = b^{-(p-1)}\n",
    "\\end{equation}\n",
    "where $b$ is the base (2 for binary representation on digital computers), and $p$ is the number bits for the value (precision). Thus, \n",
    "\\begin{equation}\n",
    "\\epsilon_{machine} = b^{-(p-1)} = 2^{-(23-1)} \\approx 1.19e^{-9}\n",
    "\\end{equation}\n",
    "for single precision and \n",
    "\\begin{equation}\n",
    "\\epsilon_{machine} = b^{-(p-1)} = 2^{-(53-1)} \\approx 2.22e^{-16}\n",
    "\\end{equation}\n",
    "for double precision."
   ]
  },
  {
   "cell_type": "markdown",
   "metadata": {},
   "source": [
    "The range of values that single and double precision numbers is:\n",
    "* single precision: $\\pm 1.18 \\times 10^{-38} \\sim \\pm 3.4\\times 10^{38}$\n",
    "* double precision: $\\pm 2.23 \\times 10^{-308} \\sim \\pm 1.8\\times 10^{308}$\n",
    "\n",
    "Any number smaller than the lower bound of the range is called **underflow**, and any number larger than the upper bound of the range is called **overflow**. For example, the following code will result in an \"OverflowError\". Uncomment it to run and see the error."
   ]
  },
  {
   "cell_type": "code",
   "execution_count": 51,
   "metadata": {},
   "outputs": [],
   "source": [
    "#f_overflow = 2**(10000000000.0)"
   ]
  },
  {
   "cell_type": "markdown",
   "metadata": {},
   "source": [
    "With the above background information on roundoff error, now we can show how it can affect arithmetic operations. When addition or subtraction is operated on two floating-point numbers, the computer will first shift one of the operands so that both operands have the same exponent, and then add or subtract the mantissas. The result is then rounded to the precision (decimal digits) utilized. Consequently, digits of precision in the smaller operand is lost. Let's use a 10-based number system and use only 4 decimal digits for precision. It is similar for the binary number system with single or double precision. \n",
    "\n",
    "Example: addition of 0.4321 and 0.008765. With 4 decimal digits, the numbers can be represented as $0.4321\\times 10^0$ and $0.8765 \\times 10^{-3}$. The addition process in computer is as follows:\n",
    "\\begin{equation}\n",
    "0.4321\\times 10^0 + 0.8765 \\times 10^{-3} = 0.4321\\times 10^0 + 0.0008765 \\times 10^{0} = 0.4329765 \\times 10^0\n",
    "\\end{equation}\n",
    "Then the result is rounded to $0.4339\\times 10^0$. The true solution should be $0.4329765\\times 10^0$. So the absolute error is $0.4339\\times 10^0 - 0.4329765\\times 10^0 = -0.0009235$.\n",
    "\n",
    "Example: subtraction of two close values. This example might be a little extreme. Let $a=1+0.5\\epsilon_{machine}$ and $b=1-0.5\\epsilon_{machine}$, then\n",
    "\\begin{equation}\n",
    "a-b = (1+0.5\\epsilon_{machine}) - (1-0.5\\epsilon_{machine}) = \\epsilon_{machine}\n",
    "\\end{equation}\n",
    "However, due to the cancellation of significant digits during the calculation, the following code shows that the result is only half of the true solution, i.e., 50% relative error. "
   ]
  },
  {
   "cell_type": "code",
   "execution_count": 70,
   "metadata": {},
   "outputs": [
    {
     "name": "stdout",
     "output_type": "stream",
     "text": [
      "c            =  1.1102230246251565e-16\n",
      "true soltion =  2.220446049250313e-16\n"
     ]
    }
   ],
   "source": [
    "a = 1.0 + 0.5*np.finfo(float).eps\n",
    "b = 1.0 - 0.5*np.finfo(float).eps\n",
    "c = a - b\n",
    "print(\"c            = \", c)                    #print calculated c value\n",
    "print(\"true soltion = \",np.finfo(float).eps)  #for comparsion (true solution of c)"
   ]
  },
  {
   "cell_type": "markdown",
   "metadata": {},
   "source": [
    "One example to show the consequence of subtraction of two values of significant difference is the root of a quadratic function:\n",
    "\\begin{equation}\n",
    "f(x) = ax^2+bx+c = 0\n",
    "\\end{equation}\n",
    "which has a root in the form of \n",
    "\\begin{equation}\n",
    "x = \\frac{-b+\\sqrt{b^2-4ac}}{2a}\n",
    "\\end{equation}\n",
    "Here, the problem arises when $b$ is much larger than $a$ and $c$ such that  $\\sqrt{b^2-4ac} \\approx b$. Then, the numerator could be zero when subtracting the close values of $b$ and $\\sqrt{b^2-4ac}$ if not sufficient decimal digits is used in the computer to represent these numbers. For example, the following code use single precision for the calculation of one root of equation\n",
    "\\begin{equation}\n",
    "f(x) = x^2+10000x+c = 0\n",
    "\\end{equation}\n",
    "which gives the wrong value of 0.0 (it is easy to see this irony by plugging $x=0.0$ into the equation and you get $1=0$). "
   ]
  },
  {
   "cell_type": "code",
   "execution_count": 62,
   "metadata": {},
   "outputs": [
    {
     "name": "stdout",
     "output_type": "stream",
     "text": [
      "0.0\n"
     ]
    }
   ],
   "source": [
    "a = np.float32(1.0)\n",
    "b = np.float32(10000.0)\n",
    "c = np.float32(1.0)\n",
    "\n",
    "root= (-b+np.sqrt(np.float32(b**2)-np.float32(4.0)*a*c))/(2.0*a)\n",
    "print(root)"
   ]
  },
  {
   "cell_type": "markdown",
   "metadata": {},
   "source": [
    "If we use the default double precision for float, the result is reasonable. "
   ]
  },
  {
   "cell_type": "code",
   "execution_count": 64,
   "metadata": {},
   "outputs": [
    {
     "name": "stdout",
     "output_type": "stream",
     "text": [
      "-0.00010000000111176632\n"
     ]
    }
   ],
   "source": [
    "a = 1.0\n",
    "b = 10000.0\n",
    "c = 1.0\n",
    "\n",
    "root= (-b+np.sqrt(b**2-4.0*a*c))/(2.0*a)\n",
    "print(root)"
   ]
  },
  {
   "cell_type": "markdown",
   "metadata": {},
   "source": [
    "There are some techniques to reduce roundoff error:\n",
    "* use high precision: double, or even long double in Python.\n",
    "* reformulate the calculation. For example, the root of quadratic function can be reformulated as \n",
    "\\begin{equation}\n",
    "x = \\frac{-2c}{b+\\sqrt{b^2-4ac}}\n",
    "\\end{equation}\n",
    "where there is addition, instead of subtraction, in the denominator. \n",
    "* reduce the number of operations. One example is the evaluation of a $N$-th order polynomial in the form of\n",
    "\\begin{equation}\n",
    "P_N(x) = a_N + x ( a_{N-1} + x ( a_{N-2} + \\ldots + x (a_1 + a_0 x) \\ldots))\n",
    "\\end{equation}\n",
    "In this form, we only need to do $N$ additions and $N$ multiplications, in contrast to $N$ additions and ${N(N+1)}/{N}$ multiplications if we use the normal form of a polynomial. The effectiveness of approach is not universal. But it provides an option. The following is a simple example:"
   ]
  },
  {
   "cell_type": "code",
   "execution_count": 84,
   "metadata": {},
   "outputs": [
    {
     "name": "stdout",
     "output_type": "stream",
     "text": [
      "res1 =  -40.24921599999999\n",
      "res2 =  -40.249216\n"
     ]
    }
   ],
   "source": [
    "x=3.14\n",
    "res1=x**3-9.1*x**2+5.1*x+2.5\n",
    "res2=x*(x*(x-9.1)+5.1)+2.5\n",
    "\n",
    "print(\"res1 = \", res1)\n",
    "print(\"res2 = \", res2)"
   ]
  },
  {
   "cell_type": "code",
   "execution_count": null,
   "metadata": {
    "collapsed": true
   },
   "outputs": [],
   "source": []
  }
 ],
 "metadata": {
  "kernelspec": {
   "display_name": "Python 3",
   "language": "python",
   "name": "python3"
  },
  "language_info": {
   "codemirror_mode": {
    "name": "ipython",
    "version": 3
   },
   "file_extension": ".py",
   "mimetype": "text/x-python",
   "name": "python",
   "nbconvert_exporter": "python",
   "pygments_lexer": "ipython3",
   "version": "3.7.3"
  }
 },
 "nbformat": 4,
 "nbformat_minor": 1
}
