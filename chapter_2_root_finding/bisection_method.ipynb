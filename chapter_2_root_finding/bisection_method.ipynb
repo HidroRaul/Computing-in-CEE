{
 "cells": [
  {
   "cell_type": "markdown",
   "metadata": {},
   "source": [
    "# An inplementation of the bisection method for root finding\n",
    "\n",
    "by Xiaofeng Liu, Ph.D., P.E.\n",
    "Associate Professor\n",
    "\n",
    "Department of Civil and Environmental Engineering\n",
    "\n",
    "Institute of CyberScience\n",
    "\n",
    "Penn State University\n",
    "\n",
    "223B Sackett Building, University Park, PA 16802\n",
    "\n",
    "Web: http://water.engr.psu.edu/liu/\n",
    "\n",
    "---"
   ]
  },
  {
   "cell_type": "markdown",
   "metadata": {},
   "source": [
    "The following code solve the equation \n",
    "\\begin{equation}\n",
    " f(x) = x^2 - 7 = 0\n",
    "\\end{equation}\n",
    "\n",
    "It uses the bisection method. Thus, it can only find one root which should be contained in the initial bracket $[x_l, x_r]$ specified by the user. "
   ]
  },
  {
   "cell_type": "code",
   "execution_count": 1,
   "metadata": {},
   "outputs": [
    {
     "name": "stdout",
     "output_type": "stream",
     "text": [
      "Found one root x =  2.6461181640625  at iteration  13\n",
      "Done!\n"
     ]
    }
   ],
   "source": [
    "import matplotlib.pyplot as plt \n",
    "import numpy as np \n",
    "import sys\n",
    "\n",
    "#a function return the sign of x\n",
    "def sgn(x):\n",
    "    if x > 0:\n",
    "        return 1\n",
    "    elif x < 0:\n",
    "        return -1\n",
    "    else:\n",
    "        return 0\n",
    "\n",
    "#define the function for root finding f(x)=0\n",
    "def f(x):\n",
    "    return x**2-7.0\n",
    "\n",
    "#initial bracket (make sure it contains the root)\n",
    "xl, xr = 1, 6\n",
    "\n",
    "#convergence criterion\n",
    "epsilon = 1E-3\n",
    "\n",
    "#maximum iteration number\n",
    "Nmax=1000\n",
    "\n",
    "#check whehter the initial bracket contains the root\n",
    "if f(xl)*f(xr) > 0:\n",
    "    sys.exit('The initial bracket does not contain the root. Exiting ...')\n",
    "\n",
    "N = 1\n",
    "while N <= Nmax:\n",
    "    c = (xl+xr)/2\n",
    "    \n",
    "    #we found the root already (the current root is good enough),\n",
    "    #print the root and exit the while loop.\n",
    "    if (abs(f(c))<1E-6 or ((xr-xl)/2)<epsilon): \n",
    "        print(\"Found one root x = \", c, \" at iteration \", N)\n",
    "        break\n",
    "    \n",
    "    N = N + 1\n",
    "    \n",
    "    #check the sign of the function on the end points\n",
    "    if sgn(f(c))==sgn(f(xl)):\n",
    "        xl = c\n",
    "    else:\n",
    "        xr = c\n",
    "        \n",
    "\n",
    "#end of code. It is better to give user some indication\n",
    "#that the code is done.\n",
    "print(\"Done!\")"
   ]
  },
  {
   "cell_type": "markdown",
   "metadata": {},
   "source": [
    "As a check, the following cell plot the function and the solution. "
   ]
  },
  {
   "cell_type": "code",
   "execution_count": 2,
   "metadata": {},
   "outputs": [
    {
     "data": {
      "image/png": "[encoded data removed]",
      "text/plain": [
       "<Figure size 432x288 with 1 Axes>"
      ]
     },
     "metadata": {
      "needs_background": "light"
     },
     "output_type": "display_data"
    }
   ],
   "source": [
    "xl, xr = 1, 6\n",
    "\n",
    "x = np.linspace(xl,xr,100) # 100 linearly spaced numbers\n",
    "\n",
    "y = f(x)\n",
    "\n",
    "#scatter plot\n",
    "plt.scatter(c, f(c), color='blue', marker = 'o', label='solution')\n",
    "\n",
    "#line plot for the fitted linear curve\n",
    "plt.plot(x, f(x), color='red', label='function')\n",
    "\n",
    "#plot the f(x) = 0 line\n",
    "plt.plot((xl,xr),(0,0), color='k')\n",
    "\n",
    "#set the limit for the x and y axes\n",
    "#plt.xlim([0,1.0])\n",
    "#plt.ylim([5,45])\n",
    "\n",
    "#set x and y axes label and font size\n",
    "plt.xlabel('x',fontsize=16)\n",
    "plt.ylabel('f(x)',fontsize=16)\n",
    "\n",
    "#show the ticks on both axes and set the font size \n",
    "plt.tick_params(axis='both', which='major', labelsize=12)\n",
    "\n",
    "#show legend, set its location, font size, and turn off the frame\n",
    "plt.legend(loc='upper left',fontsize=14,frameon=False)\n",
    "\n",
    "plt.show()"
   ]
  },
  {
   "cell_type": "code",
   "execution_count": null,
   "metadata": {},
   "outputs": [],
   "source": []
  }
 ],
 "metadata": {
  "kernelspec": {
   "display_name": "Python 3",
   "language": "python",
   "name": "python3"
  },
  "language_info": {
   "codemirror_mode": {
    "name": "ipython",
    "version": 3
   },
   "file_extension": ".py",
   "mimetype": "text/x-python",
   "name": "python",
   "nbconvert_exporter": "python",
   "pygments_lexer": "ipython3",
   "version": "3.7.1"
  }
 },
 "nbformat": 4,
 "nbformat_minor": 2
}
