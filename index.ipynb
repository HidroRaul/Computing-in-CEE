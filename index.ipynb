{
 "cells": [
  {
   "cell_type": "code",
   "execution_count": 3,
   "metadata": {
    "collapsed": true
   },
   "outputs": [],
   "source": [
    "#Do not change this cell. It is for setting things up.\n",
    "\n",
    "#make plots inline\n",
    "%matplotlib inline\n",
    "\n",
    "#import the preamble\n",
    "from preamble import *\n",
    "\n",
    "from IPython.display import display, HTML"
   ]
  },
  {
   "cell_type": "markdown",
   "metadata": {},
   "source": [
    "The following cell is to have equation numbering. Do not change."
   ]
  },
  {
   "cell_type": "code",
   "execution_count": 4,
   "metadata": {},
   "outputs": [
    {
     "data": {
      "application/javascript": [
       "MathJax.Hub.Config({\n",
       "    TeX: { equationNumbers: { autoNumber: \"AMS\" } }\n",
       "});"
      ],
      "text/plain": [
       "<IPython.core.display.Javascript object>"
      ]
     },
     "metadata": {},
     "output_type": "display_data"
    }
   ],
   "source": [
    "%%javascript\n",
    "MathJax.Hub.Config({\n",
    "    TeX: { equationNumbers: { autoNumber: \"AMS\" } }\n",
    "});"
   ]
  },
  {
   "cell_type": "markdown",
   "metadata": {
    "slideshow": {
     "slide_type": "slide"
    }
   },
   "source": [
    "# Computing in Civil and Environmental Engineering\n",
    "\n",
    "by Xiaofeng Liu, Ph.D., P.E.\n",
    "Assistant Professor\n",
    "\n",
    "Department of Civil and Environmental Engineering  \n",
    "Institute of CyberScience  \n",
    "Penn State University  \n",
    "223B Sackett Building, University Park, PA 16802\n",
    "\n",
    "Web: http://water.engr.psu.edu/liu/\n",
    "____________________________________________________"
   ]
  },
  {
   "cell_type": "markdown",
   "metadata": {
    "slideshow": {
     "slide_type": "subslide"
    }
   },
   "source": [
    "This notebook is the index page (Table of Contents) for this course.\n",
    "\n",
    "\n",
    "|  Chapters | Chapter title |  Notes |  Contents |  Examples  |\n",
    "|-----------|:---------------|:--------|:-----------|:------------|\n",
    "| 1         | Basics on numerical analsysis |<ul><li> <a href=\"chapter_1_basics\\installation_of_Python_and_libraries/installation_of_Python_and_libraries.ipynb\">Installation of Python and libraries</a></li>  <ul>  | <ul><li>background</li><li>computing</li><li>numerical analysis</li><li>programming</li><li>presentation and visualization</li></ul> | <ul><li> <a href=\"chapter_1_basics\\introduction_to_python/introduction_to_python.ipynb\">Example1_1</a>: Introduction to Python</li>  <li> <a href=\"chapter_1_basics/calculate_Pi_with_Python/calculate_pi_with_python.ipynb\">Example1_2</a>: Calculate $\\pi$ with Python</li> <li> <a href=\"chapter_1_basics/differences_between_python_v2_and_v3/differences_between_python_v2_and_v3.ipynb\">Example1_3</a>: Differences between Python v2 and v3</li>  <li> <a href=\"chapter_1_basics/Mannings_equation/Mannings_equation.ipynb\">Example1_4</a>: Discharge calculation with the Manning's equation</li> <ul>  |\n",
    "| 2         | Roots finding           |   |     |   <ul><li> <a href=\"chapter_2_root_finding\\Mannings_equation/Mannings_equation.ipynb\">Example2_1</a>: Manning's equation</li> <li> <a href=\"chapter_2_root_finding\\particle_motion_in_fluid/particle_motion_in_fluid.ipynb\">Example2_2</a>: Particle's terminal settling velocity</li> <li> <a href=\"chapter_2_root_finding\\Green_Ampt_infiltration/Green_Ampt_infiltration.ipynb\">Example2_3</a>: Green-Ampt infiltration</li> <li> <a href=\"chapter_2_root_finding\\pipe_friction_headloss/pipe_friction_headloss.ipynb\">Example2_4</a>: pipe friction headloss</li> <li> <a href=\"chapter_2_root_finding\\step_in_open_channel_flow/step_in_open_channel_flow.ipynb\">Example2_5</a>: step in open channel flow</li>  <ul>  |\n",
    "| 3         | Interpolation and curve fitting |          |           | <ul><li> <a href=\"chapter_3_interpolation_curve_fitting\\saturation_growth_rate/saturation_growth_rate.ipynb\">Example3_1</a>: saturation growth rate</li> <li> <a href=\"chapter_3_interpolation_curve_fitting\\surface_area_storage_curve/surface_area_storage_curve.ipynb\">Example3_2</a>: surface area vs. storage curve</li> <li> <a href=\"chapter_3_interpolation_curve_fitting\\velocity_profile/velocity_profile.ipynb\">Example3_3</a>: velocity profile</li> <li> <a href=\"chapter_3_interpolation_curve_fitting\\weir_coefficient/weir_coefficient.ipynb\">Example3_4</a>: weir coefficient</li> <ul>   |\n",
    "| 4         | Linear systems           |    |       |  <ul><li> <a href=\"chapter_4_linear_system\\2D_truss/2D_truss.ipynb\">Example4_1</a>: 2D truss</li> <li> <a href=\"chapter_4_linear_system\\chemical_reactors_steady_state/chemical_reactors_steady_state.ipynb\">Example4_2</a>: chemical reactors steady state</li> <li> <a href=\"chapter_4_linear_system\\material_mixing/material_mixing.ipynb\">Example4_3</a>: material mixing</li> <ul>       |\n",
    "| 5         | Integration           |      |     |   <ul><li> <a href=\"chapter_5_integration\\arc_length/arc_length.ipynb\">Example5_1</a>: arc length</li> <li> <a href=\"chapter_5_integration\\center_of_mass/center_of_mass.ipynb\">Example5_2</a>: center of mass</li> <li> <a href=\"chapter_5_integration\\convolution_integral/convolution_integral.ipynb\">Example5_3</a>: convolution integral</li> <li> <a href=\"chapter_5_integration\\Fourier_series_coeffs/Fourier_series_coeffs.ipynb\">Example5_4</a>: Fourier series coeffs</li> <li> <a href=\"chapter_5_integration\\hydrostatic_force_moment_on_plane_surface/hydrostatic_force_moment_on_plane_surface.ipynb\">Example5_5</a>: hydrostatic force and moment on plane surface</li> <li> <a href=\"chapter_5_integration\\probability/probability.ipynb\">Example5_6</a>: probability</li> <ul>           |\n",
    "| 6         | Differentiation           |   |        |        | \n",
    "| 7         | ODEs           |           |   |  <ul><li> <a href=\"chapter_7_ODE\\backwater_curves/backwater_curve.ipynb\">Example7_1</a>: Backwater curve in open channels</li><li> <a href=\"chapter_7_ODE\\Streeter_Phelps_model/Streeter_Phelps_model.ipynb\">Example7_2</a>: Streeter-Phelps model for DO and BOD</li><li> <a href=\"chapter_7_ODE\\chemical_reactor/chemical_reactor_ODE_solutions.ipynb\">Example7_3</a>: Chemical reactor</li> <li> <a href=\"chapter_7_ODE\\convective_cooling/convective_cooling.ipynb\">Example7_4</a>: convective cooling</li>  <li> <a href=\"chapter_7_ODE\\laminar_boundary_layer/laminar_boundary_layer.ipynb\">Example7_5</a>: laminar boundary layer</li> <li> <a href=\"chapter_7_ODE\\Streeter_Phelps_model/Streeter_Phelps_model.ipynb\">Example7_6</a>: Streeter-Phelps model</li> <li> <a href=\"chapter_7_ODE\\vibration/vibration.ipynb\">Example7_7</a>: vibration</li> <ul>               |\n",
    "| 8         | Matrix           |           |   | <ul><li> <a href=\"chapter_8_matrix\\natural_frequency/natural_frequency.ipynb\">Example8_1</a>: Natural frequency of structure</li> <ul>              |\n",
    "| 9         | PDEs           |           |    | <ul><li> <a href=\"chapter_9_PDEs\\diffusion_equation/diffusion_equation.ipynb\">Example9_1</a>: 1D diffusion equation</li> <li> <a href=\"chapter_9_PDEs\\Laplaces_equation/Laplaces_equation.ipynb\">Example9_2</a>: 1D wave equation</li> <li> <a href=\"chapter_9_PDEs\\Laplaces_equation/Laplaces_equation.ipynb\">Example9_3</a>: Laplaces equation</li> <li> <a href=\"chapter_9_PDEs\\unsteady_advection_diffusion/unsteady_advection_diffusion.ipynb\">Example9_4</a>: unsteady advection diffusion</li> <li> <a href=\"chapter_9_PDEs\\Terzaghi_1D_consolidation/Terzaghi_1D_consolidation.ipynb\">Example9_5</a>: Terzaghi 1D consolidation</li><ul>              | \n",
    "| 10         | Optimization           |         |  | <ul><li> <a href=\"chapter_10_optimization\\2D_truss/2D_truss.ipynb\">Example10_1</a>: 2D truss optimization</li> <li> <a href=\"chapter_10_optimization\\best_hydraulic_section/best_hydraulic_section.ipynb\">Example10_2</a>: best hydraulic section</li> <li> <a href=\"chapter_10_optimization\\transportation_cost/transportation_cost.ipynb\">Example10_3</a>: transportation cost</li> <ul>          |\n",
    "| 11         | Statistics           |    |       |            | \n",
    "| XXX      | Miscellaneous         |    |       | <ul><li> <a href=\"chapter_misc\\FFT/FFT.ipynb\">ExampleXX_1</a>: FFT</li> <li> <a href=\"chapter_misc\\series_approximations/series_approximations.ipynb\">ExampleXX_2</a>: series approximations</li> <ul>| \n",
    "\n",
    "\n",
    "More resources can be found online:\n",
    "* [wikipedia.org](https://en.wikipedia.org/wiki/Manning_formula)\n",
    "\n",
    "Note: This notebook uses Python v3.x. "
   ]
  },
  {
   "cell_type": "code",
   "execution_count": null,
   "metadata": {
    "collapsed": true
   },
   "outputs": [],
   "source": []
  }
 ],
 "metadata": {
  "kernelspec": {
   "display_name": "Python 3",
   "language": "python",
   "name": "python3"
  },
  "language_info": {
   "codemirror_mode": {
    "name": "ipython",
    "version": 3
   },
   "file_extension": ".py",
   "mimetype": "text/x-python",
   "name": "python",
   "nbconvert_exporter": "python",
   "pygments_lexer": "ipython3",
   "version": "3.6.3"
  }
 },
 "nbformat": 4,
 "nbformat_minor": 1
}
