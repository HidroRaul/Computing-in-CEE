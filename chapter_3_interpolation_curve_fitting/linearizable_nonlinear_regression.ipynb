{
 "cells": [
  {
   "cell_type": "markdown",
   "metadata": {
    "slideshow": {
     "slide_type": "slide"
    }
   },
   "source": [
    "# Curve fitting - Linearizable nonlinear regression\n",
    "\n",
    "by Xiaofeng Liu, Ph.D., P.E.\n",
    "Associate Professor\n",
    "\n",
    "Department of Civil and Environmental Engineering\n",
    "\n",
    "Institute of CyberScience\n",
    "\n",
    "Penn State University \n",
    "\n",
    "223B Sackett Building, University Park, PA 16802\n",
    "\n",
    "Web: http://water.engr.psu.edu/liu/\n",
    "\n",
    "---"
   ]
  },
  {
   "cell_type": "markdown",
   "metadata": {},
   "source": [
    "## Least-squares regression\n",
    "\n",
    "Let's assume the given set of data is denoted as $(x_i, y_i)$, $i\\in(0,N-1)$. Here the total number of data points is $N$. Note that here the index starts at 0 to be consistent with the zero-based index in Python. In lecture notes and the book, the index starts at 1. "
   ]
  },
  {
   "cell_type": "markdown",
   "metadata": {},
   "source": [
    "### Linearizable nonlinear curve fitting\n",
    "\n",
    "In many applications, the relationship is nonlinear and thus does not make sense to force a linear curve fitting. Nonlinear curve fitting is much more difficult and we have a separate section for it. But here, we introduce some transformation techniques which can be used to linearize nonlinear curve fitting. \n",
    "\n",
    "We discuss three categories of linearizable nonlinear curve fitting:\n",
    "* exponential equation\n",
    "\\begin{equation}\n",
    "y = a_0 e^{a_1 x}\n",
    "\\end{equation}\n",
    "where $a_0$ and $a_1$ are fitting coefficients. Taking natural logarithm to both sides of the equation gives\n",
    "\\begin{equation}\n",
    "\\ln y = \\ln a_0 + a_1 x\n",
    "\\end{equation}\n",
    "Therefore, a linear curve fitting now is sought between $x$ and $\\ln y$. And the interception is $\\ln a_0$ and the slope is $a_1$.\n",
    "\n",
    "* power equation\n",
    "\\begin{equation}\n",
    "y = a_0 x^{a_1}\n",
    "\\end{equation}\n",
    "Again taking natural logarithm gives\n",
    "\\begin{equation}\n",
    "\\ln y = \\ln a_0 + a_1 \\ln x\n",
    "\\end{equation}\n",
    "and the linear curve fitting is sought between $\\ln x$ and $\\ln y$. And the interception is $\\ln a_0$ and the slope is $a_1$.\n",
    "\n",
    "* Monod-type equation (or saturation-growth-rate equation)\n",
    "\\begin{equation}\n",
    "y = a_0 \\frac{x}{a_1 + x}\n",
    "\\end{equation}\n",
    "As a side note to the Monod equation, it is very commonly used in environmental engineering, for example for the modeling of the activated sludge for sewage treatment. Here, $y$ is the specific growth rate of microorganisms, $a_0$ is the maximum specific growth rate, $x$ is the concentration of the limiting nutrient, $a_1$ is the half-saturation constant, i.e., the value of $x$ when the growth rate is half of the maximum. \n",
    "\n",
    "By inversion, one can get\n",
    "\\begin{equation}\n",
    "\\frac{1}{y} = \\frac{a_1}{a_0} \\frac{1}{x} + \\frac{1}{a_0}\n",
    "\\end{equation}\n",
    "and the linear curve fitting is sought between $\\frac{1}{y}$ and $\\frac{1}{x}$ with the slope of $\\frac{a_1}{a_0}$ and the interception of $\\frac{1}{a_0}$.\n",
    "\n",
    "The following example shows the fitting of a Monod-type equation. Please note that the following code calls the **calculate_linear_regression_coef(...)** function defined above. So you have to run the code cell above first. Or you can copy and paste the function definition in the following code cell. "
   ]
  },
  {
   "cell_type": "code",
   "execution_count": 7,
   "metadata": {},
   "outputs": [
    {
     "data": {
      "image/png": "[encoded data removed]",
      "text/plain": [
       "<Figure size 432x288 with 1 Axes>"
      ]
     },
     "metadata": {
      "needs_background": "light"
     },
     "output_type": "display_data"
    }
   ],
   "source": [
    "import numpy as np\n",
    "import matplotlib.pyplot as plt\n",
    "\n",
    "#calculate the two linear regression coefficients\n",
    "#and also the r2 value\n",
    "def calculate_linear_regression_coef(x, y): \n",
    "    if(np.size(x) != np.size(y)):\n",
    "        sys.exit(\"The two vectors x and y are not of the same length.\")\n",
    "\n",
    "    # number of observations/points \n",
    "    n = np.size(x)\n",
    "\n",
    "    sx = np.sum(x)\n",
    "    sy = np.sum(y)\n",
    "\n",
    "    sx2 = np.inner(x,x)\n",
    "    sxy = np.inner(x,y)\n",
    "    sy2 = np.inner(y,y)\n",
    "\n",
    "    # calculating regression coefficients \n",
    "    a1 = (n*sxy - sx*sy)/(n*sx2 - sx**2)\n",
    "    a0 = sy/n - a1*sx/n\n",
    "\n",
    "    r2 = ((n*sxy-sx*sy)/np.sqrt(n*sx2-sx**2)/np.sqrt(n*sy2-sy**2))**2;\n",
    "\n",
    "    return(a0, a1, r2) \n",
    "\n",
    "plt.rc('text', usetex=True)  #allow the use of Latex for math expressions and equations\n",
    "plt.rc('font', family='serif') #specify the default font family to be \"serif\"\n",
    "\n",
    "# measurement data in Numpy array format\n",
    "x=np.array([0.07, 1.04,2.06, 3.06, 4.09, 5.01, 6.05, 7.05, 8.02, 9.03, 10.03, 11.07,12.01,13.02,14.08, 15.01, 16.01, 17.04, 18.01, 19.03, 20.05])\n",
    "y=np.array([0.03, 0.21, 0.24, 0.31, 0.32, 0.40, 0.35, 0.33, 0.41, 0.43, 0.38, 0.41, 0.43, 0.42, 0.42, 0.38, 0.46, 0.43, 0.41, 0.38, 0.44])\n",
    "\n",
    "xinv = 1.0/x\n",
    "yinv = 1.0/y\n",
    "\n",
    "# calculate the linear regression coefficients \n",
    "alpha, beta, r2 = calculate_linear_regression_coef(xinv, yinv) \n",
    "\n",
    "# plotting the original data points\n",
    "plt.scatter(x, y, c = \"r\", marker = \"x\", s = 40, label='original data') \n",
    "\n",
    "#back-calculate the coefficients\n",
    "a0 = 1.0/alpha\n",
    "a1 = beta/alpha\n",
    "\n",
    "# predicted value using the fitting curve\n",
    "y_pred = a0 * (x / (a1 + x)) \n",
    "\n",
    "# plotting the regression line \n",
    "#plt.plot(x, y_pred, color = \"k\", label='fitted line: $y$ = %.2f $ x/(%.2f + x$)'%(a0, a1)) \n",
    "plt.plot(x, y_pred, color = \"k\", label='fitted line') \n",
    "\n",
    "#plt.text(10,0.2,r'$r^2$ = %.2f'%r2, fontsize=14)\n",
    "\n",
    "plt.xlabel('x',fontsize=16) \n",
    "plt.ylabel('y',fontsize=16) \n",
    "\n",
    "plt.ylim([0, 0.6])\n",
    "\n",
    "#show the ticks on both axes and set the font size \n",
    "plt.tick_params(axis='both', which='major', labelsize=12)\n",
    "\n",
    "plt.legend(loc='upper left',fontsize=14,frameon=False)\n",
    "\n",
    "plt.savefig(\"monod_type_fitting.png\",dpi=300, bbox_inches='tight', pad_inches=0)\n",
    "\n",
    "plt.show() "
   ]
  },
  {
   "cell_type": "code",
   "execution_count": null,
   "metadata": {
    "collapsed": true
   },
   "outputs": [],
   "source": []
  }
 ],
 "metadata": {
  "kernelspec": {
   "display_name": "Python 3",
   "language": "python",
   "name": "python3"
  },
  "language_info": {
   "codemirror_mode": {
    "name": "ipython",
    "version": 3
   },
   "file_extension": ".py",
   "mimetype": "text/x-python",
   "name": "python",
   "nbconvert_exporter": "python",
   "pygments_lexer": "ipython3",
   "version": "3.6.7"
  }
 },
 "nbformat": 4,
 "nbformat_minor": 1
}
