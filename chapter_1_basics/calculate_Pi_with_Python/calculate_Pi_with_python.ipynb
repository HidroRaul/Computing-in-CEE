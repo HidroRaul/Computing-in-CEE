{
 "cells": [
  {
   "cell_type": "markdown",
   "metadata": {
    "slideshow": {
     "slide_type": "slide"
    }
   },
   "source": [
    "# Calculation of $\\pi$ with Python\n",
    "\n",
    "by Xiaofeng Liu, Ph.D., P.E.\n",
    "Assistant Professor\n",
    "\n",
    "Department of Civil and Environmental Engineering, \n",
    "Institute of CyberScience,\n",
    "Penn State University,\n",
    "223B Sackett Building, University Park, PA 16802\n",
    "\n",
    "Web: http://water.engr.psu.edu/liu/\n",
    "\n",
    "-----------------------------------------------\n"
   ]
  },
  {
   "cell_type": "markdown",
   "metadata": {
    "slideshow": {
     "slide_type": "subslide"
    }
   },
   "source": [
    "This notebook shows how to calculate $\\pi$ with Python. The purpose is to demonstrate some basic syntax and usage of Python. We will use different structures in Python, i.e., the *while* and *for* loops, to implement the algorithm.\n",
    "\n",
    "The definition of $\\pi$ is the ratio of a circle's circumference $C$ to its diameter D:\n",
    "\n",
    "\\begin{equation}\n",
    "\\pi = \\frac{C}{D}\n",
    "\\end{equation}\n",
    "\n",
    "\n",
    "There are several ways to calculate $\\pi$:\n",
    "* compute the arc length of the top half of the unit circle given in Cartesian coordinate system by the equation $x^2+y^2=1$:\n",
    "\n",
    "   \\begin{equation}\n",
    "       \\pi = \\int_{-1}^{1} \\frac{1}{\\sqrt{1-x^2}} dx.\n",
    "   \\end{equation}\n",
    "   \n",
    "* Bailey–Borwein–Plouffe formula   \n",
    "\n",
    "   \\begin{equation*}\n",
    "       \\pi = \\sum_{i=0}^{\\infty}\\left[\\frac{1}{16^i} \\left(\\frac{4}{8i+1} - \\frac{2}{8i+4} - \\frac{1}{8i+5} - \\frac{1}{8i+6} \\right) \\right]\n",
    "   \\end{equation*}\n",
    "\n",
    "This notebook will demonstrate how to use the Bailey–Borwein–Plouffe formula to calcuate the $\\pi$ to the accuracy of $10^{-8}$.\n",
    "\n",
    "\n",
    "In preparation of this notebook, I used the following webpage as a reference: \n",
    "* [A blog post](http://blog.recursiveprocess.com/2013/03/14/calculate-pi-with-python/)\n",
    "* [wikipedia](https://en.wikipedia.org/wiki/Pi)\n",
    "\n",
    "\n",
    "Note: This introduction notebook uses Python v3.x. "
   ]
  },
  {
   "cell_type": "code",
   "execution_count": 18,
   "metadata": {
    "collapsed": true
   },
   "outputs": [],
   "source": [
    "#Do not change this cell. It is for setting up things.\n",
    "\n",
    "%matplotlib inline\n",
    "\n",
    "#import the preamble in the parent directory\n",
    "import sys\n",
    "sys.path.append(\"../\")\n",
    "import preamble\n",
    "\n",
    "from math import pi\n",
    "from decimal import *\n",
    "\n",
    "#Sets decimal to 25 digits of precision\n",
    "getcontext().prec = 25"
   ]
  },
  {
   "cell_type": "markdown",
   "metadata": {},
   "source": [
    "## Implementation using the <span style=\"color:blue\">*while*</span>  loop"
   ]
  },
  {
   "cell_type": "code",
   "execution_count": 6,
   "metadata": {
    "collapsed": false
   },
   "outputs": [
    {
     "name": "stdout",
     "output_type": "stream",
     "text": [
      "iteration number:  0\n",
      "iteration number:  1\n",
      "iteration number:  2\n",
      "iteration number:  3\n",
      "iteration number:  4\n",
      "iteration number:  5\n",
      "The caluclated pi value after  6 terms is     3.141592653228088\n",
      "The value of pi from python's math library:   3.141592653228088\n"
     ]
    }
   ],
   "source": [
    "#define variables\n",
    "accuracy = 1e-8\n",
    "pi_old = 1.0  \n",
    "pi = 0.0 #any arbitrary value not equal to pi_old and the difference between pi and pi_old is larger than the threshold\n",
    "\n",
    "i = 0\n",
    "while abs(pi-pi_old) > accuracy:\n",
    "    print(\"iteration number: \", i)\n",
    "    pi_old = pi\n",
    "    pi = pi + 1.0/16**i*(4.0/(8.0*i+1.0) - 2.0/(8.0*i+4.0) - 1.0/(8.0*i+5.0) - 1.0/(8.0*i+6.0))\n",
    "    \n",
    "    i = i + 1\n",
    "\n",
    "#print the calculated value of pi    \n",
    "print(\"The caluclated pi value after \", i, \"terms is    \", pi)    \n",
    "#print the pi value from python's math library for comparision\n",
    "print(\"The value of pi from python's math library:  \", format(pi, '.15f'))\n"
   ]
  },
  {
   "cell_type": "markdown",
   "metadata": {},
   "source": [
    "## Implementation using the <span style=\"color:blue\">*for*</span> loop"
   ]
  },
  {
   "cell_type": "code",
   "execution_count": 7,
   "metadata": {
    "collapsed": false
   },
   "outputs": [
    {
     "name": "stdout",
     "output_type": "stream",
     "text": [
      "iteration number:  0\n",
      "iteration number:  1\n",
      "iteration number:  2\n",
      "iteration number:  3\n",
      "iteration number:  4\n",
      "iteration number:  5\n",
      "The caluclated pi value after  5 terms is     3.141592653228088\n",
      "The value of pi from python's math library:   3.141592653228088\n"
     ]
    }
   ],
   "source": [
    "#define variables\n",
    "accuracy = 1e-8\n",
    "pi_old = 1.0  \n",
    "pi = 0.0 #any arbitrary value not equal to pi_old and the difference between pi and pi_old is larger than the threshold\n",
    "\n",
    "N = 100 # a large number to bound the iterations\n",
    "\n",
    "for i in range(0, N):\n",
    "    print(\"iteration number: \", i)\n",
    "    pi_old = pi\n",
    "    pi = pi + 1.0/16**i*(4.0/(8.0*i+1.0) - 2.0/(8.0*i+4.0) - 1.0/(8.0*i+5.0) - 1.0/(8.0*i+6.0))\n",
    "    \n",
    "    if(abs(pi-pi_old) < accuracy):\n",
    "        break\n",
    "\n",
    "#print the calculated value of pi    \n",
    "print(\"The caluclated pi value after \", i, \"terms is    \", pi)    \n",
    "#print the pi value from python's math library for comparision\n",
    "print(\"The value of pi from python's math library:  \", format(pi, '.15f'))"
   ]
  },
  {
   "cell_type": "code",
   "execution_count": null,
   "metadata": {
    "collapsed": true
   },
   "outputs": [],
   "source": []
  }
 ],
 "metadata": {
  "kernelspec": {
   "display_name": "Python 2",
   "language": "python",
   "name": "python2"
  },
  "language_info": {
   "codemirror_mode": {
    "name": "ipython",
    "version": 2
   },
   "file_extension": ".py",
   "mimetype": "text/x-python",
   "name": "python",
   "nbconvert_exporter": "python",
   "pygments_lexer": "ipython2",
   "version": "2.7.13"
  }
 },
 "nbformat": 4,
 "nbformat_minor": 1
}
