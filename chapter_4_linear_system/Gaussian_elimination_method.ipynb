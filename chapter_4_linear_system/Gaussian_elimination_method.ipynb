{
 "cells": [
  {
   "cell_type": "markdown",
   "metadata": {
    "slideshow": {
     "slide_type": "slide"
    }
   },
   "source": [
    "# Gaussian elimination method\n",
    "\n",
    "by Xiaofeng Liu, Ph.D., P.E.\n",
    "Associate Professor\n",
    "\n",
    "Department of Civil and Environmental Engineering\n",
    "\n",
    "Institute of CyberScience\n",
    "\n",
    "Penn State University \n",
    "\n",
    "223B Sackett Building, University Park, PA 16802\n",
    "\n",
    "Web: http://water.engr.psu.edu/liu/\n",
    "\n",
    "---"
   ]
  },
  {
   "cell_type": "markdown",
   "metadata": {
    "slideshow": {
     "slide_type": "subslide"
    }
   },
   "source": [
    "This notebook is a demonstration of the Gauss elimination method (without and with pivoting) for solving linear equation system."
   ]
  },
  {
   "cell_type": "markdown",
   "metadata": {},
   "source": [
    "## Gaussian elimination without pivoting"
   ]
  },
  {
   "cell_type": "code",
   "execution_count": 1,
   "metadata": {},
   "outputs": [
    {
     "name": "stdout",
     "output_type": "stream",
     "text": [
      "solution =  [ 1.0942029   0.05072464 -0.26811594]\n"
     ]
    }
   ],
   "source": [
    "import numpy as np    \n",
    "\n",
    "#perfrom Gaussian elimination for the lineary system Ax=b\n",
    "#on return, the matrix A is destroyed. The solution is\n",
    "#stored in x. \n",
    "def gaussian_elimination(A,b):\n",
    "    n = len(b)\n",
    "   \n",
    "    # forward elimination\n",
    "    for k in range(0,n-1):\n",
    "        for i in range(k+1,n):\n",
    "            if abs(A[k,k]) > 1E-8:\n",
    "                factor = A[i,k]/A[k,k]\n",
    "                A[i,:] = A[i,:] - factor*A[k,:]\n",
    "                b[i] = b[i] - factor*b[k]\n",
    "            else:\n",
    "                sys.exit(\"Singular on diagonal. Pivoting is necessary.\")\n",
    "    \n",
    "    # back substitution\n",
    "    x = np.zeros(n)\n",
    "    for k in range(n-1,-1,-1):\n",
    "        x[k] = (b[k] - np.dot(A[k,k+1:n],x[k+1:n]))/A[k,k]\n",
    "    return x\n",
    "\n",
    "#define the matrix and vector\n",
    "A = np.array([[2.0,3.0,5.0], [4.0,-5.0,-7.0], [1.0,2.0,-3.0]])\n",
    "b = np.array([1.0,6.0,2.0])\n",
    "\n",
    "#call the Gaussian elimination function\n",
    "x = gaussian_elimination(A,b)\n",
    "\n",
    "#print out solution\n",
    "print(\"solution = \", x)"
   ]
  },
  {
   "cell_type": "markdown",
   "metadata": {},
   "source": [
    "## Gauss elimination with pivoting"
   ]
  },
  {
   "cell_type": "code",
   "execution_count": 5,
   "metadata": {},
   "outputs": [
    {
     "name": "stdout",
     "output_type": "stream",
     "text": [
      "solution =  [1.8875 0.1875 0.0875]\n"
     ]
    }
   ],
   "source": [
    "def swap_vector_elements(b,i,j):\n",
    "    temp = b[i]\n",
    "    b[i] = b[j]\n",
    "    b[j] = temp\n",
    "    \n",
    "def swap_matrix_elements(A,i,j,n):\n",
    "    for k in range(0,n):\n",
    "        temp = A[i,k]\n",
    "        A[i,k] = A[j,k]\n",
    "        A[j,k] = temp\n",
    "    \n",
    "def gaussian_elimination_pivot(A,b):\n",
    "    n = len(b)\n",
    "   \n",
    "    # forward elimination\n",
    "    for k in range(0,n-1):\n",
    "        #Do we need to interchange rows?\n",
    "        max_val = max(abs(A[k+1:n,k]))        #max value for coeff. down below\n",
    "        max_ind = np.argmax(abs(A[k+1:n,k]))  #max value's index\n",
    "        \n",
    "        if(abs(A[k,k]) < max_val):\n",
    "            swap_vector_elements(b,k,k+1+max_ind)\n",
    "            swap_matrix_elements(A,k,k+1+max_ind,n)\n",
    "           \n",
    "        for i in range(k+1,n):\n",
    "            if abs(A[k,k]) > 1E-8:\n",
    "                factor = A[i,k]/A[k,k]\n",
    "                A[i,:] = A[i,:] - factor*A[k,:]\n",
    "                b[i] = b[i] - factor*b[k]\n",
    "    \n",
    "    # back substitution\n",
    "    x = np.zeros(n)\n",
    "    for k in range(n-1,-1,-1):\n",
    "        x[k] = (b[k] - np.dot(A[k,k+1:n],x[k+1:n]))/A[k,k]\n",
    "    return x\n",
    "\n",
    "A = np.array([[0.0,3,5], [4,-5,-7], [1,2,-3]])\n",
    "b = np.array([1.0,6,2])\n",
    "\n",
    "x = gaussian_elimination_pivot(A,b)\n",
    "\n",
    "#print out solution\n",
    "print(\"solution = \", x)"
   ]
  },
  {
   "cell_type": "markdown",
   "metadata": {},
   "source": [
    "As a check, solving the same linear system with Numpy. The solution should be the same as above. "
   ]
  },
  {
   "cell_type": "code",
   "execution_count": 4,
   "metadata": {},
   "outputs": [
    {
     "name": "stdout",
     "output_type": "stream",
     "text": [
      "[1.8875 0.1875 0.0875]\n"
     ]
    }
   ],
   "source": [
    "import numpy as np\n",
    "\n",
    "A = np.array([[0.0,3,5], [4,-5,-7], [1,2,-3]])\n",
    "b = np.array([1.0,6,2])\n",
    "x = np.linalg.solve(A, b)\n",
    "\n",
    "print(x)"
   ]
  },
  {
   "cell_type": "markdown",
   "metadata": {},
   "source": [
    "The following code is to test the effect of single, double, and half precision on the results of a system with scaling inbalance. The solution should be **x** = [1.0,1.0]. But depending on what precision is used, the numerical solution may be wrong or the algorithm does not even work. "
   ]
  },
  {
   "cell_type": "code",
   "execution_count": 4,
   "metadata": {},
   "outputs": [
    {
     "name": "stdout",
     "output_type": "stream",
     "text": [
      "solution =  [1.00000002 0.99999998]\n",
      "solution =  [1.00000002 0.99999998]\n"
     ]
    }
   ],
   "source": [
    "import numpy as np    \n",
    "\n",
    "#perfrom Gaussian elimination for the lineary system Ax=b\n",
    "#on return, the matrix A is destroyed. The solution is\n",
    "#stored in x. \n",
    "def gaussian_elimination(A,b):\n",
    "    n = len(b)\n",
    "   \n",
    "    # forward elimination\n",
    "    for k in range(0,n-1):\n",
    "        for i in range(k+1,n):\n",
    "            if abs(A[k,k]) > 1E-8:\n",
    "                factor = A[i,k]/A[k,k]\n",
    "                A[i,:] = A[i,:] - factor*A[k,:]\n",
    "                b[i] = b[i] - factor*b[k]\n",
    "    \n",
    "    # back substitution\n",
    "    x = np.zeros(n)\n",
    "    for k in range(n-1,-1,-1):\n",
    "        x[k] = (b[k] - np.dot(A[k,k+1:n],x[k+1:n]))/A[k,k]\n",
    "    return x\n",
    "\n",
    "#define the matrix and vector\n",
    "data_type=np.float64   #define the precision, float16 (half), loat32 (single), or, float64 (double)\n",
    "A = np.array([[2.0,1e8], [1.0,1.0]],dtype=data_type)\n",
    "b = np.array([1e8,2.0],dtype=data_type)\n",
    "\n",
    "#call the Gauss elimination function\n",
    "x = gaussian_elimination(A,b)\n",
    "\n",
    "#print out solution\n",
    "print(\"solution = \", x)\n",
    "\n",
    "A = np.array([[2.0e-8,1], [1.0,1.0]],dtype=data_type)\n",
    "b = np.array([1,2.0],dtype=data_type)\n",
    "\n",
    "#call the Gauss elimination function\n",
    "x = gaussian_elimination(A,b)\n",
    "\n",
    "#print out solution\n",
    "print(\"solution = \", x)"
   ]
  },
  {
   "cell_type": "markdown",
   "metadata": {},
   "source": [
    "The following demonstrates the sensitiviy of an ill-conditioned system. Two systems are solved. One is a slight pertubation to the other. The use of half, single, and double precisions affects the solution. The solution should be $x=[1,1]$. However, a slight pertubation may give much different solutions for an ill-conditioned system. "
   ]
  },
  {
   "cell_type": "code",
   "execution_count": 5,
   "metadata": {},
   "outputs": [
    {
     "name": "stdout",
     "output_type": "stream",
     "text": [
      "solution =  [1.1 0.8]\n",
      "solution =  [0.95454545 1.09090909]\n"
     ]
    }
   ],
   "source": [
    "import numpy as np    \n",
    "\n",
    "#perfrom Gaussian elimination for the lineary system Ax=b\n",
    "#on return, the matrix A is destroyed. The solution is\n",
    "#stored in x. \n",
    "def gaussian_elimination(A,b):\n",
    "    n = len(b)\n",
    "   \n",
    "    # Forward elimination\n",
    "    for k in range(0,n-1):\n",
    "        for i in range(k+1,n):\n",
    "            if abs(A[k,k]) > 1E-8:\n",
    "                factor = A[i,k]/A[k,k]\n",
    "                A[i,:] = A[i,:] - factor*A[k,:]\n",
    "                b[i] = b[i] - factor*b[k]\n",
    "    \n",
    "    # Back substitution\n",
    "    x = np.zeros(n)\n",
    "    for k in range(n-1,-1,-1):\n",
    "        x[k] = (b[k] - np.dot(A[k,k+1:n],x[k+1:n]))/A[k,k]\n",
    "    return x\n",
    "\n",
    "#define the matrix and vector\n",
    "data_type=np.float16   #or float16, float32, float64\n",
    "\n",
    "A = np.array([[2.0,1.0], [1.99,0.99]],dtype=data_type)\n",
    "b = np.array([3,2.98],dtype=data_type)\n",
    "\n",
    "#call the Gaussian elimination function\n",
    "x = gaussian_elimination(A,b)\n",
    "\n",
    "#print out solution\n",
    "print(\"solution = \", x)\n",
    "\n",
    "#add some purturbation to the A matrix\n",
    "A = np.array([[2.0,1.0], [1.991,0.99]],dtype=data_type)\n",
    "b = np.array([3,2.98],dtype=data_type)\n",
    "\n",
    "#call the Gauss elimination function\n",
    "x = gaussian_elimination(A,b)\n",
    "\n",
    "#print out solution\n",
    "print(\"solution = \", x)"
   ]
  },
  {
   "cell_type": "code",
   "execution_count": null,
   "metadata": {},
   "outputs": [],
   "source": []
  }
 ],
 "metadata": {
  "kernelspec": {
   "display_name": "Python 3",
   "language": "python",
   "name": "python3"
  },
  "language_info": {
   "codemirror_mode": {
    "name": "ipython",
    "version": 3
   },
   "file_extension": ".py",
   "mimetype": "text/x-python",
   "name": "python",
   "nbconvert_exporter": "python",
   "pygments_lexer": "ipython3",
   "version": "3.6.7"
  }
 },
 "nbformat": 4,
 "nbformat_minor": 1
}
