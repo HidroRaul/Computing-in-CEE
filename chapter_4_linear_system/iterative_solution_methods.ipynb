{
 "cells": [
  {
   "cell_type": "markdown",
   "metadata": {
    "slideshow": {
     "slide_type": "slide"
    }
   },
   "source": [
    "# Iterative solution methods\n",
    "\n",
    "by Xiaofeng Liu, Ph.D., P.E.\n",
    "Associate Professor\n",
    "\n",
    "Department of Civil and Environmental Engineering\n",
    "\n",
    "Institute of CyberScience\n",
    "\n",
    "Penn State University \n",
    "\n",
    "223B Sackett Building, University Park, PA 16802\n",
    "\n",
    "Web: http://water.engr.psu.edu/liu/\n",
    "\n",
    "---"
   ]
  },
  {
   "cell_type": "markdown",
   "metadata": {
    "slideshow": {
     "slide_type": "subslide"
    }
   },
   "source": [
    "This notebook is a demonstration of iterative solution methods for solving linear equation system."
   ]
  },
  {
   "cell_type": "markdown",
   "metadata": {},
   "source": [
    "## Jacobi method\n",
    "\n",
    "For linear equation system \n",
    "\t\\begin{equation}\n",
    "\t\\mathbf{Ax=b}\n",
    "\t\\end{equation} \n",
    "\twhere the matrix $\\mathbf{A}$ can be written as the sum of a diagonal matrix $\\mathbf{D}$ and the remainder matrix $\\mathbf{R}$, i.e.,\n",
    "\t\\begin{equation}\n",
    "\t\\mathbf{A = D + R}\n",
    "\t\\end{equation}\n",
    "    \n",
    "\\begin{equation}\n",
    "D = \\begin{bmatrix} a_{11} & 0 & \\cdots & 0 \\\\ 0 & a_{22} & \\cdots & 0 \\\\ \\vdots & \\vdots & \\ddots & \\vdots \\\\0 & 0 & \\cdots & a_{nn} \\end{bmatrix} \\text{ and } R = \\begin{bmatrix} 0 & a_{12} & \\cdots & a_{1n} \\\\ a_{21} & 0 & \\cdots & a_{2n} \\\\ \\vdots & \\vdots & \\ddots & \\vdots \\\\ a_{n1} & a_{n2} & \\cdots & 0 \\end{bmatrix}\n",
    "\\end{equation}\n",
    "\n",
    "The Jacobi iteration is then\n",
    "\t\\begin{equation}\n",
    "\t\\mathbf{x}^{(k+1)} = \\mathbf{D}^{-1} (\\mathbf{b} - \\mathbf{R} \\mathbf{x}^{(k)})\n",
    "\t\\end{equation}\n",
    "where $k$ is the iteration number, $k \\in [0,1,2,\\cdots]$. \n",
    "\tNote the inverse of the diagonal matrix $\\mathbf{D}$ is easy because\n",
    "\t\\begin{equation}\n",
    "\\mathbf{D}^{-1} = \\begin{bmatrix} 1/a_{11} & 0 & \\cdots & 0 \\\\ 0 & 1/a_{22} & \\cdots & 0 \\\\ \\vdots & \\vdots & \\ddots & \\vdots \\\\0 & 0 & \\cdots & 1/a_{nn} \\end{bmatrix} \n",
    "\\end{equation}\n",
    "\tTo start the iteration, we need an initial guess $\\mathbf{x}^0$."
   ]
  },
  {
   "cell_type": "code",
   "execution_count": 12,
   "metadata": {},
   "outputs": [
    {
     "name": "stdout",
     "output_type": "stream",
     "text": [
      "A = \n",
      " [[ 10.8   2.1   2.9]\n",
      " [  3.1 -10.5   2.1]\n",
      " [ -2.1   3.1   8.1]]\n",
      "D = \n",
      " [[ 10.8   0.    0. ]\n",
      " [  0.  -10.5   0. ]\n",
      " [  0.    0.    8.1]]\n",
      "R = \n",
      " [[ 0.   2.1  2.9]\n",
      " [ 3.1  0.   2.1]\n",
      " [-2.1  3.1  0. ]]\n",
      "converged at iteration  17\n",
      "solution =  [-0.41699705  1.5234845   2.51870298]\n"
     ]
    }
   ],
   "source": [
    "import numpy as np    \n",
    "\n",
    "\n",
    "#maximum number of iterations\n",
    "max_iter = 1000\n",
    "\n",
    "#stopping criterion\n",
    "eps_c = 1e-6\n",
    "\n",
    "#define the matrix and vector\n",
    "A = np.array([[10.8,2.1,2.9], [3.1,-10.5,2.1], [-2.1,3.1,8.1]])  #diagonal domimant; it converges\n",
    "#A = np.array([[1.8,2.1,2.9], [3.1,-1.5,2.1], [-2.1,3.1,2.1]])  #not diagonal dominant; it will diverge\n",
    "b = np.array([6.0,-12.0,26.0])\n",
    "\n",
    "print(\"A = \\n\", A)\n",
    "\n",
    "#initial guess for x\n",
    "x = np.array([1,1,1])\n",
    "x_new = x\n",
    "\n",
    "#extract the diagonal matrix of A\n",
    "D = np.diag(np.diag(A))\n",
    "print(\"D = \\n\", D)\n",
    "\n",
    "R = A - D\n",
    "print(\"R = \\n\", R)\n",
    "\n",
    "for i in range(max_iter):\n",
    "    #print(\"iteration \", i)\n",
    "    x_new = np.linalg.inv(D).dot(b-R.dot(x))\n",
    "    x=x_new\n",
    "    \n",
    "    error = np.linalg.norm(np.dot(A,x_new) - b)/np.linalg.norm(b)\n",
    "    if(error<eps_c):\n",
    "        print(\"converged at iteration \", i)\n",
    "        break;\n",
    "\n",
    "#print out solution\n",
    "print(\"solution = \", x)"
   ]
  },
  {
   "cell_type": "markdown",
   "metadata": {},
   "source": [
    "## Gauss-Seidel method\n",
    "\n",
    "The matrix notation of the Gauss-Seidel method is as follows. The matrix $\\mathbf{A}$ is decomposed into a lower triangular matrix $\\mathbf{L}$ and a strictly upper triangular  matrix $\\mathbf{U}$: $\\mathbf{A=L+U}$.\n",
    "\\begin{equation}\n",
    "\\mathbf{L} = \\begin{bmatrix} a_{11} & 0 & \\cdots & 0 \\\\ a_{21} & a_{22} & \\cdots & 0 \\\\ \\vdots & \\vdots & \\ddots & \\vdots \\\\a_{n1} & a_{n2} & \\cdots & a_{nn} \\end{bmatrix}, \\quad \\mathbf{U} = \\begin{bmatrix} 0 & a_{12} & \\cdots & a_{1n} \\\\ 0 & 0 & \\cdots & a_{2n} \\\\ \\vdots & \\vdots & \\ddots & \\vdots \\\\0 & 0 & \\cdots & 0 \\end{bmatrix}.\n",
    "\\end{equation}\t\n",
    "The original linear system can be written as\n",
    "\\begin{equation}\n",
    " \\mathbf{Lx} = \\mathbf{b} - \\mathbf{Ux}\n",
    "\\end{equation}\n",
    "and the iteration formula is\n",
    "\\begin{equation}\n",
    "\\mathbf{x}^{(i+1)} = \\mathbf{L}^{-1} (\\mathbf{b} - \\mathbf{U} \\mathbf{x}^{(i)})\n",
    "\\end{equation}"
   ]
  },
  {
   "cell_type": "code",
   "execution_count": 11,
   "metadata": {},
   "outputs": [
    {
     "name": "stdout",
     "output_type": "stream",
     "text": [
      "A = \n",
      " [[ 10.8   2.1   2.9]\n",
      " [  3.1 -10.5   2.1]\n",
      " [ -2.1   3.1   8.1]]\n",
      "L = \n",
      " [[ 10.8   0.    0. ]\n",
      " [  3.1 -10.5   0. ]\n",
      " [ -2.1   3.1   8.1]]\n",
      "U = \n",
      " [[0.  2.1 2.9]\n",
      " [0.  0.  2.1]\n",
      " [0.  0.  0. ]]\n",
      "converged at iteration  6\n",
      "solution =  [-0.41699685  1.52348497  2.5187041 ]\n"
     ]
    }
   ],
   "source": [
    "import numpy as np    \n",
    "\n",
    "\n",
    "#maximum number of iterations\n",
    "max_iter = 1000\n",
    "\n",
    "#stopping criterion\n",
    "eps_c = 1e-6\n",
    "\n",
    "#define the matrix and vector\n",
    "A = np.array([[10.8,2.1,2.9], [3.1,-10.5,2.1], [-2.1,3.1,8.1]])  #diagonal domimant; it converges\n",
    "#A = np.array([[1.8,2.1,2.9], [3.1,-1.5,2.1], [-2.1,3.1,2.1]])  #not diagonal dominant; it will diverge\n",
    "b = np.array([6.0,-12.0,26.0])\n",
    "\n",
    "print(\"A = \\n\", A)\n",
    "\n",
    "#initial guess for x\n",
    "x = np.array([1,1,1])\n",
    "x_new = x\n",
    "\n",
    "#extract the lower and strictly upper triangular matrices L and U\n",
    "#see documentation for the functions tril and triu in Numpy.\n",
    "L = np.tril(A,0)\n",
    "U = np.triu(A,1)\n",
    "\n",
    "print(\"L = \\n\", L)\n",
    "print(\"U = \\n\", U)\n",
    "\n",
    "for i in range(max_iter):\n",
    "    #print(\"iteration \", i)\n",
    "    x_new = np.linalg.inv(L).dot(b-U.dot(x))\n",
    "    x=x_new\n",
    "    \n",
    "    error = np.linalg.norm(np.dot(A,x_new) - b)/np.linalg.norm(b)\n",
    "    if(error<eps_c):\n",
    "        print(\"converged at iteration \", i)\n",
    "        break;\n",
    "\n",
    "#print out solution\n",
    "print(\"solution = \", x)"
   ]
  },
  {
   "cell_type": "code",
   "execution_count": null,
   "metadata": {},
   "outputs": [],
   "source": []
  }
 ],
 "metadata": {
  "kernelspec": {
   "display_name": "Python 3",
   "language": "python",
   "name": "python3"
  },
  "language_info": {
   "codemirror_mode": {
    "name": "ipython",
    "version": 3
   },
   "file_extension": ".py",
   "mimetype": "text/x-python",
   "name": "python",
   "nbconvert_exporter": "python",
   "pygments_lexer": "ipython3",
   "version": "3.7.1"
  }
 },
 "nbformat": 4,
 "nbformat_minor": 1
}
