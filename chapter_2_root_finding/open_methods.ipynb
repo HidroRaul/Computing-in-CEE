{
 "cells": [
  {
   "cell_type": "markdown",
   "metadata": {
    "slideshow": {
     "slide_type": "slide"
    }
   },
   "source": [
    "# Open methods for root finding\n",
    "\n",
    "by Xiaofeng Liu, Ph.D., P.E.\n",
    "Associate Professor\n",
    "\n",
    "Department of Civil and Environmental Engineering\n",
    "\n",
    "Institute of Computational and Data Sciences\n",
    "\n",
    "Penn State University\n",
    "\n",
    "223B Sackett Building, University Park, PA 16802\n",
    "\n",
    "Web: http://water.engr.psu.edu/liu/\n",
    "\n",
    "---"
   ]
  },
  {
   "cell_type": "markdown",
   "metadata": {
    "slideshow": {
     "slide_type": "slide"
    }
   },
   "source": [
    "## General comments on open methods\n",
    "\n",
    "* Open methods require only a single starting value or two starting values that do not necessarily bracket a root.\n",
    "* Open methods may diverge as the computation progresses, but when they do converge, they usually do so much faster than bracketing methods.\n",
    "\n",
    "Two open methods will be demonstated in this notebook:\n",
    "* Newton-Raphson method\n",
    "* Secant method\n",
    "\n",
    "\n",
    "## Newton-Raphson method\n",
    "\n",
    "The general idea behind the Newton-Raphson method is as follows:\n",
    "* Start with a guess $x$\n",
    "* Form the tangent line to the $f(x)$ curve at the guess $x$\n",
    "* Follow the tangent line to where it crosses the x-axis. The crossing point is usually an improved estimate of the root. \n",
    "\n",
    "The Newton method or Newton-Raphson method can be derived from Taylor series expansion or from the following graph. At a given point $x_i$, the derivative of the function can be approximated as \n",
    "\\begin{equation}\n",
    "   f'(x_i) = \\frac{f(x_i) - 0}{x_i - x_{i+1}}\n",
    "\\end{equation}\n",
    "thus we can re-arrange this equation to get formula for $x_{i+1}$, hopefully an improved estimate of the root:\n",
    "\\begin{equation}\n",
    "  x_{i+1} = x_i - \\frac{f(x_i)}{f'(x_i)}\n",
    "\\end{equation}\n",
    "This is the iterative formula for the Newton's method, which needs an initial guess to start with and at every iteration, it needs to evaluate the function value and its derivative. \n",
    "\n",
    "<img src=\"Newton_method.png\" alt=\"Newton_method\" width=\"400\"/>"
   ]
  },
  {
   "cell_type": "markdown",
   "metadata": {},
   "source": [
    "An example implementation of the Newton-Raphson method is as follows. To use it for your own problem, you need to redefine the function and its derivative."
   ]
  },
  {
   "cell_type": "code",
   "execution_count": null,
   "metadata": {},
   "outputs": [],
   "source": [
    "#define the function\n",
    "def f(x):\n",
    "    return x**2-16.0\n",
    " \n",
    "#define the derivative\n",
    "def df(x):\n",
    "    return 2.0*x\n",
    "\n",
    "#implement the Newton-Raphson formula with an \n",
    "#initial guess x0 and and convergence criterion eps.\n",
    "#As you can see, here we use the absolute error as the \n",
    "#convergence criterion. You can modify it if you want to use\n",
    "#relative error as defined in class. \n",
    "def Newton_Raphson_method(f, x0, eps):\n",
    "    delta = abs(0-f(x0))\n",
    "    while delta > eps:\n",
    "        x0 = x0 - f(x0)/df(x0)\n",
    "        delta = abs(0-f(x0))\n",
    "    print('Found a root at: ', x0, ' with f(x) = ', f(x0))\n",
    "\n",
    "#now use the Newton-Raphson method\n",
    "eps = 1e-6      #absolute convergence tolerance\n",
    "x0s = [-3, 5]   #initial guesses (should be reasonable)\n",
    "\n",
    "#loop through each of the initial guesses to find the root close to them\n",
    "for x0 in x0s:\n",
    "    Newton_Raphson_method(f, x0, 1e-6)"
   ]
  },
  {
   "cell_type": "markdown",
   "metadata": {},
   "source": [
    "One can show the Newtons-Raphson method is quadratic convergent or second order if the initial guess is \"close\" to the real root:\n",
    "\\begin{equation}\n",
    "   E_{i+1} = -\\frac{f''(x_r)}{2f'(x_r)} E_i^2\n",
    "\\end{equation}\n",
    "where $E_i$ and $E_{i+1}$ are the error in the previous and current iteration, respectively. $f''(x_r)$ is the second-order derivative of the function at $x_r$.\n",
    "\n",
    "Although the Newtons-Raphson method has a second order convergence rate, we need to note the following:\n",
    "* it needs the evaluation of the derivative.\n",
    "* some functions show slow or poor convergence, oscillation, or divergence. \n",
    "* it will fail if at any point the derivative $f'(x_i)$ is zero or very small value. Zero derivative happens when the root is a multiple root. For example, the root of $x=2$ for $f(x)=(x-2)^2=0$. \n",
    "\n",
    "You can try the code above to solve the following problems:\n",
    "* slower convergence: find the positive root of $f(x)=x^{12}-1=0$ with an initial guess of $x_0$ = 0.6.\n",
    "* divergence (oscillation): find the root of $f(x) = x^5-x+1=0$ with an initial guess of $x_0$ = -0.5.\n",
    "* divergence: find the root of $f(x)=(x-1)^{1/3}=0$ with an initial guess of $x_0$ = 0.5.\n",
    "\n",
    "The code above does not have a limit on the number iterations. For a divergent case, it is required to add a check on the maximum number of iterations. Otherwise, the code might enter a **dead** loop. "
   ]
  },
  {
   "cell_type": "markdown",
   "metadata": {},
   "source": [
    "---\n",
    "## The Secant method\n",
    "\n",
    "One of the drawbacks of the Newton-Raphson method is the need to calculate the derivative. For some functions, it may not be convenient or cheap to evaluate the derivative. In other cases, the function and thus its derivative may not have an explicit functional form. An alternative here is to approximate the derivative using finite difference with the values from previous two iterations:\n",
    "\\begin{equation}\n",
    "f'(x_i) \\approx \\frac{f(x_{i-1}) - f(x_i)}{x_{i-1}-x_i}\n",
    "\\end{equation}\n",
    "and thus the iterative formula to update the root estimate is\n",
    "\\begin{equation}\n",
    " x_{i+1} = x_i - \\frac{f(x_i) (x_{i-1}-x_i)}{f(x_{i-1}) - f(x_i)}\n",
    "\\end{equation}\n",
    "\n",
    "To start the Secant method, one needs two (different) initial guesses. "
   ]
  },
  {
   "cell_type": "markdown",
   "metadata": {},
   "source": [
    "## Comparison among different root finding methods\n",
    "\n",
    "\n",
    "| Method | Type | Guesses | Convergence | Stability | Programming | Comments |\n",
    "|---|---|---|---|---|---|---|\n",
    "| Graphical | Visual | N/A | N/A | N/A | N/A | Imprecise |\n",
    "| Bisection | Bracketing | 2 | Slow | Stable | Easy |  |\n",
    "| False-Position | Bracketing | 2 | Fast (with exceptions) | Stable | Easy |  |\n",
    "| Newton-Raphson | Open | 1 | Fast | May diverge | Easy | Requires evaluation of $f'(x)$ |\n",
    "| Secant | Open | 2 | Medium/Fast | May diverge | Easy | Initial guesses do not have to bracket the root |\n"
   ]
  },
  {
   "cell_type": "code",
   "execution_count": null,
   "metadata": {},
   "outputs": [],
   "source": []
  }
 ],
 "metadata": {
  "kernelspec": {
   "display_name": "Python 3",
   "language": "python",
   "name": "python3"
  },
  "language_info": {
   "codemirror_mode": {
    "name": "ipython",
    "version": 3
   },
   "file_extension": ".py",
   "mimetype": "text/x-python",
   "name": "python",
   "nbconvert_exporter": "python",
   "pygments_lexer": "ipython3",
   "version": "3.7.3"
  }
 },
 "nbformat": 4,
 "nbformat_minor": 1
}
