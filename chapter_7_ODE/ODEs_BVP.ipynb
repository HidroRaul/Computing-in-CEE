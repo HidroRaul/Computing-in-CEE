{
 "cells": [
  {
   "cell_type": "markdown",
   "metadata": {
    "slideshow": {
     "slide_type": "slide"
    }
   },
   "source": [
    "# Numerical solution of ODEs - BVP\n",
    "\n",
    "by Xiaofeng Liu, Ph.D., P.E.\n",
    "Associate Professor\n",
    "\n",
    "Department of Civil and Environmental Engineering\n",
    "\n",
    "Institute of CyberScience\n",
    "\n",
    "Penn State University \n",
    "\n",
    "223B Sackett Building, University Park, PA 16802\n",
    "\n",
    "Web: http://water.engr.psu.edu/liu/\n",
    "\n",
    "---"
   ]
  },
  {
   "cell_type": "markdown",
   "metadata": {},
   "source": [
    "## Finite differnce method for solving BVP problems\n",
    "\n",
    "Example BVP:\n",
    "\\begin{equation}\n",
    "  \\frac{d^2y}{dx^2}=\\frac{dy}{dx} + y\n",
    "\\end{equation}\n",
    "with boundary conditions\n",
    "\\begin{equation}\n",
    "   y(0) = 0 \\textrm{ and } y(1) =1\n",
    "\\end{equation}\n",
    "\n",
    "This example BVP is a steady advection-diffusion-reaction equation. Here $\\frac{d^2y}{dx^2}$ is the diffusion term (due to molecular or turbulent diffusion), $\\frac{dy}{dx}$ is the advection term (carried around by flowing fluid), and $y$ is the sink/source term (due to reaction)."
   ]
  },
  {
   "cell_type": "code",
   "execution_count": 20,
   "metadata": {},
   "outputs": [
    {
     "data": {
      "image/png": "[encoded data removed]",
      "text/plain": [
       "<Figure size 432x288 with 1 Axes>"
      ]
     },
     "metadata": {
      "needs_background": "light"
     },
     "output_type": "display_data"
    }
   ],
   "source": [
    "import numpy as np\n",
    "from scipy import sparse\n",
    "import matplotlib.pyplot as plt\n",
    "\n",
    "#plt.rc('text', usetex=True)  #allow the use of Latex for math expressions and equations\n",
    "plt.rc('font', family='serif') #specify the default font family to be \"serif\"\n",
    "\n",
    "#boundary coordinates\n",
    "a = 0.0\n",
    "b = 1.0 \n",
    "\n",
    "#number of grid points (n+1)\n",
    "n = 100\n",
    "\n",
    "#step (grid) size\n",
    "h = (b-a)/n\n",
    "x = np.linspace(a, b, n+1)\n",
    "\n",
    "#set up the matrix\n",
    "A = np.zeros((n+1,n+1))\n",
    "\n",
    "#set up the right hand size vector\n",
    "b = np.zeros(n+1)\n",
    "\n",
    "#for left boundary (i=0)\n",
    "A[0,0] = 1.0\n",
    "b[0] = 0.0\n",
    "\n",
    "#for internal grid points (i=1,n-1)\n",
    "#loop over each row of matrix A\n",
    "for i in range(1,n):\n",
    "    A[i,i-1] = 1.0\n",
    "    A[i,i] = h-2-h**2\n",
    "    A[i,i+1] = 1.0-h\n",
    "\n",
    "#for right boundary (i=n)\n",
    "A[n,n] = 1.0\n",
    "b[n] = 1.0    \n",
    "\n",
    "y = np.linalg.solve(A, b)\n",
    "\n",
    "plt.plot(x, y, 'r')\n",
    "\n",
    "#set the limit for the x and y axes\n",
    "plt.xlim([0,1])\n",
    "plt.ylim([0,1])\n",
    "\n",
    "#set x and y axes label and font size\n",
    "plt.xlabel('x',fontsize=16)\n",
    "plt.ylabel('y',fontsize=16)\n",
    "\n",
    "#show the ticks on both axes and set the font size \n",
    "plt.tick_params(axis='both', which='major', labelsize=12)\n",
    "\n",
    "#show title and set font size\n",
    "plt.title('Finite difference method solution of BVP',fontsize=16)\n",
    "\n",
    "#show legend, set its location, font size, and turn off the frame\n",
    "#plt.legend(loc='upper left',fontsize=14,frameon=False)\n",
    "\n",
    "plt.show()"
   ]
  },
  {
   "cell_type": "markdown",
   "metadata": {},
   "source": [
    "## Example BVP with different boundary condition\n",
    "\n",
    "Example BVP:\n",
    "\\begin{equation}\n",
    "  \\frac{d^2y}{dx^2}=\\frac{dy}{dx} + y\n",
    "\\end{equation}\n",
    "with boundary conditions\n",
    "\\begin{equation}\n",
    "   y(0) = 1 \\textrm{ and } \\frac{dy}{dx}|_{x=1} = 0\n",
    "\\end{equation}"
   ]
  },
  {
   "cell_type": "code",
   "execution_count": 19,
   "metadata": {},
   "outputs": [
    {
     "data": {
      "image/png": "[encoded data removed]",
      "text/plain": [
       "<Figure size 432x288 with 1 Axes>"
      ]
     },
     "metadata": {
      "needs_background": "light"
     },
     "output_type": "display_data"
    }
   ],
   "source": [
    "import numpy as np\n",
    "from scipy import sparse\n",
    "import matplotlib.pyplot as plt\n",
    "\n",
    "#plt.rc('text', usetex=True)  #allow the use of Latex for math expressions and equations\n",
    "plt.rc('font', family='serif') #specify the default font family to be \"serif\"\n",
    "\n",
    "#boundary coordinates\n",
    "a = 0.0\n",
    "b = 1.0 \n",
    "\n",
    "#number of grid points (n+1)\n",
    "n = 100\n",
    "\n",
    "#step (grid) size\n",
    "h = (b-a)/n\n",
    "x = np.linspace(a, b, n+1)\n",
    "\n",
    "#set up the matrix\n",
    "A = np.zeros((n+1,n+1))\n",
    "\n",
    "#set up the right hand size vector\n",
    "b = np.zeros(n+1)\n",
    "\n",
    "#for left boundary (i=0)\n",
    "A[0,0] = 1.0\n",
    "b[0] = 1.0\n",
    "\n",
    "#for internal grid points (i=1,n-1)\n",
    "#loop over each row of matrix A\n",
    "for i in range(1,n):\n",
    "    A[i,i-1] = 1.0\n",
    "    A[i,i] = h-2-h**2\n",
    "    A[i,i+1] = 1.0-h\n",
    "\n",
    "#for right boundary (i=n)\n",
    "A[n,n-1] = 1.0\n",
    "A[n,n] = -1.0\n",
    "b[n] = 0.0    \n",
    "\n",
    "y = np.linalg.solve(A, b)\n",
    "\n",
    "plt.plot(x, y, 'r')\n",
    "\n",
    "#set the limit for the x and y axes\n",
    "plt.xlim([0,1])\n",
    "#plt.ylim([0,1])\n",
    "\n",
    "#set x and y axes label and font size\n",
    "plt.xlabel('x',fontsize=16)\n",
    "plt.ylabel('y',fontsize=16)\n",
    "\n",
    "#show the ticks on both axes and set the font size \n",
    "plt.tick_params(axis='both', which='major', labelsize=12)\n",
    "\n",
    "#show title and set font size\n",
    "plt.title('Finite difference method solution of BVP',fontsize=16)\n",
    "\n",
    "#show legend, set its location, font size, and turn off the frame\n",
    "#plt.legend(loc='upper left',fontsize=14,frameon=False)\n",
    "\n",
    "plt.show()"
   ]
  },
  {
   "cell_type": "code",
   "execution_count": null,
   "metadata": {},
   "outputs": [],
   "source": []
  }
 ],
 "metadata": {
  "kernelspec": {
   "display_name": "Python 3",
   "language": "python",
   "name": "python3"
  },
  "language_info": {
   "codemirror_mode": {
    "name": "ipython",
    "version": 3
   },
   "file_extension": ".py",
   "mimetype": "text/x-python",
   "name": "python",
   "nbconvert_exporter": "python",
   "pygments_lexer": "ipython3",
   "version": "3.7.1"
  }
 },
 "nbformat": 4,
 "nbformat_minor": 1
}
