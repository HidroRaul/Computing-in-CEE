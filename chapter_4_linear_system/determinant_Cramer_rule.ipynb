{
 "cells": [
  {
   "cell_type": "markdown",
   "metadata": {
    "slideshow": {
     "slide_type": "slide"
    }
   },
   "source": [
    "# Determinant and the Cramer's rule\n",
    "\n",
    "by Xiaofeng Liu, Ph.D., P.E.\n",
    "Associate Professor\n",
    "\n",
    "Department of Civil and Environmental Engineering\n",
    "\n",
    "Institute of CyberScience\n",
    "\n",
    "Penn State University \n",
    "\n",
    "223B Sackett Building, University Park, PA 16802\n",
    "\n",
    "Web: http://water.engr.psu.edu/liu/\n",
    "\n",
    "---"
   ]
  },
  {
   "cell_type": "markdown",
   "metadata": {},
   "source": [
    "## The Cramer's rule\n",
    "\n",
    "The Cramer's rule is a brutal force method to get the solution of a linear equation system. \n",
    "\n",
    "For a linear equation system $\\mathbf{Ax}=\\mathbf{b}$, the solution is given by \n",
    "  \\begin{equation}\n",
    "  x_i = \\frac{det{A_i}}{det{A}}\n",
    "  \\end{equation}\n",
    "  where $A_i$ is the matrix formed by replacing the $i$-th column of $A$ with the column vector $\\mathbf{b}$.\n",
    "\n",
    "For example, for a $3 \\times 3$ system,\n",
    "\n",
    " \\begin{equation}\n",
    "x_1 = \\frac{\n",
    " \\left|\n",
    "\\begin{array}{ccc}\n",
    "  b_1 & A_{11} & A_{13}  \\\\\n",
    "  b_2 & A_{21} & A_{23}  \\\\\n",
    "  b_3 & A_{31} & A_{33}      \n",
    "\\end{array}\n",
    "\\right|\n",
    "}{D} \n",
    " \\end{equation}\n",
    "\n",
    " \\begin{equation}\n",
    "x_2 = \\frac{\n",
    " \\left|\n",
    "\\begin{array}{ccc}\n",
    "  A_{11} & b_1 & A_{13}  \\\\\n",
    "  A_{21} & b_2 & A_{23}  \\\\\n",
    "  A_{31} & b_3 & A_{33}      \n",
    "\\end{array}\n",
    "\\right|\n",
    "}{D} \n",
    " \\end{equation}\n",
    " \n",
    "  \\begin{equation}\n",
    "x_2 = \\frac{\n",
    " \\left|\n",
    "\\begin{array}{ccc}\n",
    "  A_{11} & A_{13} & b_1  \\\\\n",
    "  A_{21} & A_{23} & b_2  \\\\\n",
    "  A_{31} & A_{33} & b_3     \n",
    "\\end{array}\n",
    "\\right|\n",
    "}{D} \n",
    " \\end{equation}\n",
    "\n"
   ]
  },
  {
   "cell_type": "markdown",
   "metadata": {},
   "source": [
    "An example linear equation system is as follows:\n",
    "\n",
    "\\begin{equation}\n",
    "\\mathbf{A} \\mathbf{x} = \\mathbf{b}\n",
    "\\end{equation}\n",
    "\n",
    "\\begin{equation}\n",
    "\\begin{bmatrix}\n",
    "1  & 3  & 2 \\\\\n",
    "5  & 8  & 7 \\\\\n",
    "0  & -2 & 10 \n",
    "\\end{bmatrix}\n",
    "\\begin{bmatrix}\n",
    "x_0 \\\\\n",
    "x_1 \\\\\n",
    "x_2\n",
    "\\end{bmatrix}\n",
    "=\n",
    "\\begin{bmatrix}\n",
    "1 \\\\\n",
    "4 \\\\\n",
    "5\n",
    "\\end{bmatrix}\n",
    "\\end{equation}\n",
    "\n",
    "In the following code, it is solved by both the Cramer's rule and the \"linalg\" module in Numpy. The solutions are compared."
   ]
  },
  {
   "cell_type": "code",
   "execution_count": 35,
   "metadata": {},
   "outputs": [
    {
     "name": "stdout",
     "output_type": "stream",
     "text": [
      "Solution from the Cramer's rule =     [0.22368421, -0.06578947, 0.48684211]\n",
      "Solution from np.linalg.solve(...) =  [ 0.22368421 -0.06578947  0.48684211]\n"
     ]
    }
   ],
   "source": [
    "import numpy as np\n",
    "from numpy import linalg\n",
    "import sys\n",
    "\n",
    "#replace the col-th column with b vector and assign\n",
    "#it to array C\n",
    "def replace_column(col, b, A, C):\n",
    "    if(b.shape[0]!=A.shape[0]):\n",
    "        sys.exit(\"The sizes of vector b and array A are not compatible.\")\n",
    "        \n",
    "    if(A.shape[0]!=A.shape[1]):\n",
    "        sys.exit(\"A is not a square matrix!\")\n",
    "        \n",
    "    n = A.shape[0]\n",
    "    \n",
    "    #copy matrix A to C\n",
    "    np.copyto(C, A) \n",
    "    \n",
    "    #replace the col-th column with the vector b\n",
    "    for i in range(0,n):\n",
    "        C[i,col] = b[i]\n",
    "    \n",
    "A = np.array([[1,3,2],[5,8,7],[0,-2,10]])   #define matrix\n",
    "b = np.array([1,4,5])                       #define vector\n",
    "\n",
    "C = np.zeros((len(b),len(b)))\n",
    "\n",
    "sol = []\n",
    "for i in range(0,len(b)):\n",
    "    replace_column(i,b,A,C)\n",
    "    sol.append(round(linalg.det(C)/linalg.det(A),8))\n",
    "\n",
    "print(\"Solution from the Cramer's rule =    \", sol)\n",
    "\n",
    "x = np.linalg.solve(A,b)      #solve with the \"solve(...)\" function in Numpy.\n",
    "print(\"Solution from np.linalg.solve(...) = \", x)"
   ]
  },
  {
   "cell_type": "code",
   "execution_count": 50,
   "metadata": {},
   "outputs": [
    {
     "name": "stdout",
     "output_type": "stream",
     "text": [
      "[[5 2]\n",
      " [4 3]]\n",
      "[[5. 2.]\n",
      " [4. 3.]]\n"
     ]
    }
   ],
   "source": [
    "from scipy.linalg import lu_factor\n",
    "\n",
    "A = np.array([[5,2],[4,3]])\n",
    "print(A)\n",
    "\n",
    "lu, piv = lu_factor(A)\n",
    "lu\n",
    "\n",
    "L = np.array([[1,0],[0.8,1]])\n",
    "U = np.array([[5,2],[0,1.4]])\n",
    "\n",
    "print(L.dot(U))\n"
   ]
  },
  {
   "cell_type": "code",
   "execution_count": 42,
   "metadata": {},
   "outputs": [
    {
     "data": {
      "text/plain": [
       "array([2, 2, 3, 3], dtype=int32)"
      ]
     },
     "execution_count": 42,
     "metadata": {},
     "output_type": "execute_result"
    }
   ],
   "source": [
    "from scipy.linalg import lu_factor\n",
    "from numpy import tril, triu, allclose, zeros, eye\n",
    "\n",
    "A = np.array([[2, 5, 8, 7], [5, 2, 2, 8], [7, 5, 6, 6], [5, 4, 4, 8]])\n",
    "lu, piv = lu_factor(A)\n",
    "piv"
   ]
  },
  {
   "cell_type": "code",
   "execution_count": null,
   "metadata": {},
   "outputs": [],
   "source": []
  }
 ],
 "metadata": {
  "kernelspec": {
   "display_name": "Python 3",
   "language": "python",
   "name": "python3"
  },
  "language_info": {
   "codemirror_mode": {
    "name": "ipython",
    "version": 3
   },
   "file_extension": ".py",
   "mimetype": "text/x-python",
   "name": "python",
   "nbconvert_exporter": "python",
   "pygments_lexer": "ipython3",
   "version": "3.6.7"
  }
 },
 "nbformat": 4,
 "nbformat_minor": 1
}
