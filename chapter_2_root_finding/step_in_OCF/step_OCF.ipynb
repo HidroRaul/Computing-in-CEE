{
 "cells": [
  {
   "cell_type": "markdown",
   "metadata": {},
   "source": [
    "# A step in open channel\n",
    "\n",
    "by Xiaofeng Liu, Ph.D., P.E.\n",
    "Associate Professor\n",
    "\n",
    "Department of Civil and Environmental Engineering\n",
    "\n",
    "Institute of Computational and Data Sciences\n",
    "\n",
    "Penn State University\n",
    "\n",
    "223B Sackett Building, University Park, PA 16802\n",
    "\n",
    "Web: http://water.engr.psu.edu/liu/\n",
    "\n",
    "-------------------------------------------------"
   ]
  },
  {
   "cell_type": "code",
   "execution_count": 2,
   "metadata": {},
   "outputs": [],
   "source": [
    "#Do not change this cell. It is for setting things up.\n",
    "\n",
    "#make plots inline\n",
    "%matplotlib inline\n",
    "\n",
    "#import the preamble in the parent directory\n",
    "import sys\n",
    "sys.path.append(\"../../\")\n",
    "from preamble import *"
   ]
  },
  {
   "cell_type": "code",
   "execution_count": 3,
   "metadata": {},
   "outputs": [
    {
     "data": {
      "application/javascript": [
       "MathJax.Hub.Config({\n",
       "    TeX: { equationNumbers: { autoNumber: \"AMS\" } }\n",
       "});\n"
      ],
      "text/plain": [
       "<IPython.core.display.Javascript object>"
      ]
     },
     "metadata": {},
     "output_type": "display_data"
    }
   ],
   "source": [
    "%%javascript\n",
    "MathJax.Hub.Config({\n",
    "    TeX: { equationNumbers: { autoNumber: \"AMS\" } }\n",
    "});"
   ]
  },
  {
   "cell_type": "markdown",
   "metadata": {},
   "source": [
    "## Introduction\n",
    "Beams are used widely structure designs to carry load. \n",
    "\n",
    "A simply supported beam AB is under a triangularly distributed load as shown below. \n",
    "\n",
    "[source](https://mechanicalc.com/reference/beam-analysis)\n",
    "\n",
    "![simple beam](simple_beam.png)\n",
    "\n",
    "The equation of the deflection curve can be derived from the deflection equation. The deflection curve has the form of\n",
    "\\begin{equation}\n",
    " \\delta = -\\frac{wx}{24 EI} \\left(L^3-2Lx^2 + x^3\\right) \n",
    "\\end{equation}\n",
    "\n",
    "Find the maximum deflection which should be \n",
    "\\begin{equation}\n",
    "\\delta_{max} = \\frac{5wL^3}{384EI}\n",
    "\\end{equation}\n"
   ]
  },
  {
   "cell_type": "code",
   "execution_count": 23,
   "metadata": {},
   "outputs": [
    {
     "name": "stdout",
     "output_type": "stream",
     "text": [
      "The friction factor from the Colebrook-White equation with the Bisection method:\n",
      "f_D =  0.02606342384815217\n",
      "The friction factor from the explicit Haaland equation:\n",
      "f_D =  0.025865761787458585\n"
     ]
    }
   ],
   "source": [
    "import matplotlib.pyplot as plt \n",
    "import numpy as np \n",
    "\n",
    "#a function return the sign of x\n",
    "def sgn(x):\n",
    "    if x > 0:\n",
    "        return 1\n",
    "    elif x < 0:\n",
    "        return -1\n",
    "    else:\n",
    "        return 0\n",
    "\n",
    "#bisect the range (a, b) based on the signs\n",
    "#of f(a), f(b) and f((a+b)/2)\n",
    "def bisect(f,a,b,e,D,Re):\n",
    "    fa = f(a,e,D,Re)\n",
    "    fb = f(b,e,D,Re)\n",
    "    p = (a+b)/2.0\n",
    "    fp = f(p,e,D,Re)\n",
    "    if sgn(fa) == sgn(fp):\n",
    "        return p, b\n",
    "    else:\n",
    "        return a, p\n",
    "\n",
    "#call the bisection method for n iterations\n",
    "def bisection_iterations(f,e,D,Re,a,b,eps,Nmax):\n",
    "    #iteration number\n",
    "    n = 0\n",
    "    xr_old = (a+b)/2.0\n",
    "    eps_r = 0.0\n",
    "    while True:\n",
    "        n = n + 1\n",
    "        \n",
    "        if(n > Nmax):\n",
    "            print(\"Maximum iteration number reached!\")\n",
    "            break;\n",
    "            \n",
    "        a,b = bisect(f,a,b,e,D,Re)\n",
    "        #calculate relative error\n",
    "        xr_new = (a+b)/2.0\n",
    "        eps_r = abs((xr_new-xr_old)/xr_new)*100\n",
    "        #print(\"Iteration %d: eps_r = %.3f\" % (n, eps_r))\n",
    "        if(eps_r < eps): \n",
    "            break;\n",
    "        else: \n",
    "            xr_old = xr_new\n",
    "        \n",
    "    return ((a+b)/2.0),n\n",
    "\n",
    "def f(x,e,D,Re):\n",
    "    return 1.0/np.sqrt(x)+2.0*np.log10(e/3.7/D+2.51/Re/np.sqrt(x))\n",
    "\n",
    "\n",
    "#define variables\n",
    "e = 0.001    #roughness height\n",
    "D = 0.5      #hydraulic diameter\n",
    "Re = 60000   #Reynolds number\n",
    "\n",
    "#reasonable bounds for the solution\n",
    "a = 0.1\n",
    "b = 1e-4\n",
    "\n",
    "#\n",
    "eps = 1e-4\n",
    "\n",
    "Nmax = 100\n",
    "\n",
    "f_D,n = bisection_iterations(f,e,D,Re,a,b,eps,Nmax)\n",
    "\n",
    "print(\"The friction factor from the Colebrook-White equation with the Bisection method:\")\n",
    "print(\"f_D = \", f_D)\n",
    "\n",
    "#check the solution with the explicit Haaland equation:\n",
    "temp = -1.8*np.log10((e/D/3.7)**1.11 + 6.9/Re)\n",
    "f_Haaland=(1.0/temp)**2.0\n",
    "print(\"The friction factor from the explicit Haaland equation:\")\n",
    "print(\"f_D = \", f_Haaland)\n"
   ]
  }
 ],
 "metadata": {
  "kernelspec": {
   "display_name": "Python 3",
   "language": "python",
   "name": "python3"
  },
  "language_info": {
   "codemirror_mode": {
    "name": "ipython",
    "version": 3
   },
   "file_extension": ".py",
   "mimetype": "text/x-python",
   "name": "python",
   "nbconvert_exporter": "python",
   "pygments_lexer": "ipython3",
   "version": "3.7.3"
  }
 },
 "nbformat": 4,
 "nbformat_minor": 2
}
