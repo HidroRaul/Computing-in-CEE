{
 "cells": [
  {
   "cell_type": "markdown",
   "metadata": {
    "slideshow": {
     "slide_type": "slide"
    }
   },
   "source": [
    "# Numerical integration\n",
    "\n",
    "by Xiaofeng Liu, Ph.D., P.E.\n",
    "Associate Professor\n",
    "\n",
    "Department of Civil and Environmental Engineering\n",
    "\n",
    "Institute of CyberScience\n",
    "\n",
    "Penn State University \n",
    "\n",
    "223B Sackett Building, University Park, PA 16802\n",
    "\n",
    "Web: http://water.engr.psu.edu/liu/\n",
    "\n",
    "---"
   ]
  },
  {
   "cell_type": "markdown",
   "metadata": {},
   "source": [
    "## Numerical integration\n",
    "\n",
    "This Jupyter Notebook implements the Trapezoildal rule. \n",
    "\n",
    "\n",
    "### Trapezoidal rule\n",
    "The following is an implementation of the Trapezoidal rule."
   ]
  },
  {
   "cell_type": "code",
   "execution_count": 1,
   "metadata": {},
   "outputs": [
    {
     "name": "stdout",
     "output_type": "stream",
     "text": [
      "Trapezoidal rule integration result =  11.666687499999998\n"
     ]
    }
   ],
   "source": [
    "import numpy as np\n",
    "import matplotlib.pyplot as plt\n",
    "from math import exp  \n",
    "import sys\n",
    "\n",
    "#define the trapezoial rule: f is the integrand function\n",
    "#a and b are the bound so of integration\n",
    "#n is the number of segments \n",
    "def trapezoidal_rule(f, a, b, n):\n",
    "    h = (b-a)/n\n",
    "    s = (f(a) + f(b))\n",
    "    for i in range(1,n):\n",
    "        s = s + 2.0*f(a + i*h)\n",
    "    \n",
    "    return s*h/2.0\n",
    "\n",
    "#the integrand function\n",
    "def func(x):\n",
    "    return x**2\n",
    "\n",
    "a = -2.0\n",
    "b = 3.0\n",
    "n = 1000\n",
    "\n",
    "I = trapezoidal_rule(func, a, b, n)\n",
    "\n",
    "print(\"Trapezoidal rule integration result = \", I)\n"
   ]
  },
  {
   "cell_type": "code",
   "execution_count": null,
   "metadata": {},
   "outputs": [],
   "source": []
  }
 ],
 "metadata": {
  "kernelspec": {
   "display_name": "Python 3",
   "language": "python",
   "name": "python3"
  },
  "language_info": {
   "codemirror_mode": {
    "name": "ipython",
    "version": 3
   },
   "file_extension": ".py",
   "mimetype": "text/x-python",
   "name": "python",
   "nbconvert_exporter": "python",
   "pygments_lexer": "ipython3",
   "version": "3.7.1"
  }
 },
 "nbformat": 4,
 "nbformat_minor": 1
}
